{
  "nbformat": 4,
  "nbformat_minor": 0,
  "metadata": {
    "colab": {
      "provenance": [],
      "collapsed_sections": [],
      "machine_shape": "hm",
      "include_colab_link": true
    },
    "kernelspec": {
      "name": "python3",
      "display_name": "Python 3"
    },
    "language_info": {
      "name": "python"
    },
    "accelerator": "GPU",
    "gpuClass": "premium"
  },
  "cells": [
    {
      "cell_type": "markdown",
      "metadata": {
        "id": "view-in-github",
        "colab_type": "text"
      },
      "source": [
        "<a href=\"https://colab.research.google.com/github/uicids560/Efficient-Deep-Training/blob/main/ResNet18_Glister_Epoch_%3D_50.ipynb\" target=\"_parent\"><img src=\"https://colab.research.google.com/assets/colab-badge.svg\" alt=\"Open In Colab\"/></a>"
      ]
    },
    {
      "cell_type": "markdown",
      "source": [
        "# ResNet18 - Glister - CIFAR10\n",
        "ResNet18 Model Architecture from CORDS: https://github.com/decile-team/cords/blob/844f897ea4ed7e2f9c1453888022c281bb2091be/examples/SL/image_classification/python_notebooks/CORDS_SL_CIFAR10_Custom_Train.ipynb"
      ],
      "metadata": {
        "id": "myL-hj-vKrNR"
      }
    },
    {
      "cell_type": "markdown",
      "source": [
        "## Cloning CORDS repository"
      ],
      "metadata": {
        "id": "BQwSf8rkKewm"
      }
    },
    {
      "cell_type": "code",
      "execution_count": null,
      "metadata": {
        "colab": {
          "base_uri": "https://localhost:8080/"
        },
        "id": "BQdBqB1WKFe0",
        "outputId": "c35e951a-a148-4454-9522-2c8d7d879b90"
      },
      "outputs": [
        {
          "output_type": "stream",
          "name": "stdout",
          "text": [
            "fatal: destination path 'cords' already exists and is not an empty directory.\n",
            "/content/cords\n",
            "\u001b[0m\u001b[01;34mbenchmarks\u001b[0m/   \u001b[01;34mcords\u001b[0m/  \u001b[01;34mexamples\u001b[0m/    \u001b[01;34mrequirements\u001b[0m/  \u001b[01;34mtests\u001b[0m/        train_ssl.py\n",
            "CITATION.CFF  \u001b[01;34mdata\u001b[0m/   LICENSE.txt  \u001b[01;34mresults\u001b[0m/       train_hpo.py\n",
            "\u001b[01;34mconfigs\u001b[0m/      \u001b[01;34mdocs\u001b[0m/   README.md    setup.py       train_sl.py\n"
          ]
        }
      ],
      "source": [
        "!git clone https://github.com/decile-team/cords.git\n",
        "%cd cords/\n",
        "%ls"
      ]
    },
    {
      "cell_type": "markdown",
      "source": [
        "## Install prerequisite libraries of CORDS"
      ],
      "metadata": {
        "id": "ppFQBZo9LhzT"
      }
    },
    {
      "cell_type": "code",
      "source": [
        "!pip install dotmap\n",
        "!pip install apricot-select\n",
        "!pip install ray[default]\n",
        "!pip install ray[tune]"
      ],
      "metadata": {
        "colab": {
          "base_uri": "https://localhost:8080/"
        },
        "id": "4vXQMpSvLhZb",
        "outputId": "bc5bbdd5-18e9-491a-d2ef-476a002f89f2"
      },
      "execution_count": null,
      "outputs": [
        {
          "output_type": "stream",
          "name": "stdout",
          "text": [
            "Looking in indexes: https://pypi.org/simple, https://us-python.pkg.dev/colab-wheels/public/simple/\n",
            "Requirement already satisfied: dotmap in /usr/local/lib/python3.7/dist-packages (1.3.30)\n",
            "Looking in indexes: https://pypi.org/simple, https://us-python.pkg.dev/colab-wheels/public/simple/\n",
            "Requirement already satisfied: apricot-select in /usr/local/lib/python3.7/dist-packages (0.6.1)\n",
            "Requirement already satisfied: scipy>=1.0.0 in /usr/local/lib/python3.7/dist-packages (from apricot-select) (1.7.3)\n",
            "Requirement already satisfied: numba>=0.43.0 in /usr/local/lib/python3.7/dist-packages (from apricot-select) (0.56.3)\n",
            "Requirement already satisfied: tqdm>=4.24.0 in /usr/local/lib/python3.7/dist-packages (from apricot-select) (4.64.1)\n",
            "Requirement already satisfied: nose in /usr/local/lib/python3.7/dist-packages (from apricot-select) (1.3.7)\n",
            "Requirement already satisfied: numpy>=1.14.2 in /usr/local/lib/python3.7/dist-packages (from apricot-select) (1.21.6)\n",
            "Requirement already satisfied: setuptools in /usr/local/lib/python3.7/dist-packages (from numba>=0.43.0->apricot-select) (57.4.0)\n",
            "Requirement already satisfied: importlib-metadata in /usr/local/lib/python3.7/dist-packages (from numba>=0.43.0->apricot-select) (4.13.0)\n",
            "Requirement already satisfied: llvmlite<0.40,>=0.39.0dev0 in /usr/local/lib/python3.7/dist-packages (from numba>=0.43.0->apricot-select) (0.39.1)\n",
            "Requirement already satisfied: zipp>=0.5 in /usr/local/lib/python3.7/dist-packages (from importlib-metadata->numba>=0.43.0->apricot-select) (3.10.0)\n",
            "Requirement already satisfied: typing-extensions>=3.6.4 in /usr/local/lib/python3.7/dist-packages (from importlib-metadata->numba>=0.43.0->apricot-select) (4.1.1)\n",
            "Looking in indexes: https://pypi.org/simple, https://us-python.pkg.dev/colab-wheels/public/simple/\n",
            "Requirement already satisfied: ray[default] in /usr/local/lib/python3.7/dist-packages (2.0.1)\n",
            "Requirement already satisfied: attrs in /usr/local/lib/python3.7/dist-packages (from ray[default]) (22.1.0)\n",
            "Requirement already satisfied: pyyaml in /usr/local/lib/python3.7/dist-packages (from ray[default]) (6.0)\n",
            "Requirement already satisfied: msgpack<2.0.0,>=1.0.0 in /usr/local/lib/python3.7/dist-packages (from ray[default]) (1.0.4)\n",
            "Requirement already satisfied: aiosignal in /usr/local/lib/python3.7/dist-packages (from ray[default]) (1.2.0)\n",
            "Requirement already satisfied: frozenlist in /usr/local/lib/python3.7/dist-packages (from ray[default]) (1.3.1)\n",
            "Requirement already satisfied: requests in /usr/local/lib/python3.7/dist-packages (from ray[default]) (2.23.0)\n",
            "Requirement already satisfied: typing-extensions in /usr/local/lib/python3.7/dist-packages (from ray[default]) (4.1.1)\n",
            "Requirement already satisfied: filelock in /usr/local/lib/python3.7/dist-packages (from ray[default]) (3.8.0)\n",
            "Requirement already satisfied: numpy>=1.16 in /usr/local/lib/python3.7/dist-packages (from ray[default]) (1.21.6)\n",
            "Requirement already satisfied: grpcio<=1.43.0,>=1.32.0 in /usr/local/lib/python3.7/dist-packages (from ray[default]) (1.43.0)\n",
            "Requirement already satisfied: jsonschema in /usr/local/lib/python3.7/dist-packages (from ray[default]) (4.3.3)\n",
            "Requirement already satisfied: click<=8.0.4,>=7.0 in /usr/local/lib/python3.7/dist-packages (from ray[default]) (7.1.2)\n",
            "Requirement already satisfied: protobuf<4.0.0,>=3.15.3 in /usr/local/lib/python3.7/dist-packages (from ray[default]) (3.17.3)\n",
            "Requirement already satisfied: virtualenv in /usr/local/lib/python3.7/dist-packages (from ray[default]) (20.16.6)\n",
            "Requirement already satisfied: aiohttp>=3.7 in /usr/local/lib/python3.7/dist-packages (from ray[default]) (3.8.3)\n",
            "Requirement already satisfied: prometheus-client<0.14.0,>=0.7.1 in /usr/local/lib/python3.7/dist-packages (from ray[default]) (0.13.1)\n",
            "Requirement already satisfied: py-spy>=0.2.0 in /usr/local/lib/python3.7/dist-packages (from ray[default]) (0.3.14)\n",
            "Requirement already satisfied: opencensus in /usr/local/lib/python3.7/dist-packages (from ray[default]) (0.11.0)\n",
            "Requirement already satisfied: colorful in /usr/local/lib/python3.7/dist-packages (from ray[default]) (0.5.4)\n",
            "Requirement already satisfied: aiohttp-cors in /usr/local/lib/python3.7/dist-packages (from ray[default]) (0.7.0)\n",
            "Requirement already satisfied: gpustat>=1.0.0b1 in /usr/local/lib/python3.7/dist-packages (from ray[default]) (1.0.0)\n",
            "Requirement already satisfied: smart-open in /usr/local/lib/python3.7/dist-packages (from ray[default]) (5.2.1)\n",
            "Requirement already satisfied: pydantic in /usr/local/lib/python3.7/dist-packages (from ray[default]) (1.10.2)\n",
            "Requirement already satisfied: multidict<7.0,>=4.5 in /usr/local/lib/python3.7/dist-packages (from aiohttp>=3.7->ray[default]) (6.0.2)\n",
            "Requirement already satisfied: asynctest==0.13.0 in /usr/local/lib/python3.7/dist-packages (from aiohttp>=3.7->ray[default]) (0.13.0)\n",
            "Requirement already satisfied: async-timeout<5.0,>=4.0.0a3 in /usr/local/lib/python3.7/dist-packages (from aiohttp>=3.7->ray[default]) (4.0.2)\n",
            "Requirement already satisfied: yarl<2.0,>=1.0 in /usr/local/lib/python3.7/dist-packages (from aiohttp>=3.7->ray[default]) (1.8.1)\n",
            "Requirement already satisfied: charset-normalizer<3.0,>=2.0 in /usr/local/lib/python3.7/dist-packages (from aiohttp>=3.7->ray[default]) (2.1.1)\n",
            "Requirement already satisfied: nvidia-ml-py<=11.495.46,>=11.450.129 in /usr/local/lib/python3.7/dist-packages (from gpustat>=1.0.0b1->ray[default]) (11.495.46)\n",
            "Requirement already satisfied: six>=1.7 in /usr/local/lib/python3.7/dist-packages (from gpustat>=1.0.0b1->ray[default]) (1.15.0)\n",
            "Requirement already satisfied: blessed>=1.17.1 in /usr/local/lib/python3.7/dist-packages (from gpustat>=1.0.0b1->ray[default]) (1.19.1)\n",
            "Requirement already satisfied: psutil>=5.6.0 in /usr/local/lib/python3.7/dist-packages (from gpustat>=1.0.0b1->ray[default]) (5.9.3)\n",
            "Requirement already satisfied: wcwidth>=0.1.4 in /usr/local/lib/python3.7/dist-packages (from blessed>=1.17.1->gpustat>=1.0.0b1->ray[default]) (0.2.5)\n",
            "Requirement already satisfied: idna>=2.0 in /usr/local/lib/python3.7/dist-packages (from yarl<2.0,>=1.0->aiohttp>=3.7->ray[default]) (2.10)\n",
            "Requirement already satisfied: pyrsistent!=0.17.0,!=0.17.1,!=0.17.2,>=0.14.0 in /usr/local/lib/python3.7/dist-packages (from jsonschema->ray[default]) (0.18.1)\n",
            "Requirement already satisfied: importlib-metadata in /usr/local/lib/python3.7/dist-packages (from jsonschema->ray[default]) (4.13.0)\n",
            "Requirement already satisfied: importlib-resources>=1.4.0 in /usr/local/lib/python3.7/dist-packages (from jsonschema->ray[default]) (5.10.0)\n",
            "Requirement already satisfied: zipp>=3.1.0 in /usr/local/lib/python3.7/dist-packages (from importlib-resources>=1.4.0->jsonschema->ray[default]) (3.10.0)\n",
            "Requirement already satisfied: google-api-core<3.0.0,>=1.0.0 in /usr/local/lib/python3.7/dist-packages (from opencensus->ray[default]) (1.31.6)\n",
            "Requirement already satisfied: opencensus-context>=0.1.3 in /usr/local/lib/python3.7/dist-packages (from opencensus->ray[default]) (0.1.3)\n",
            "Requirement already satisfied: packaging>=14.3 in /usr/local/lib/python3.7/dist-packages (from google-api-core<3.0.0,>=1.0.0->opencensus->ray[default]) (21.3)\n",
            "Requirement already satisfied: pytz in /usr/local/lib/python3.7/dist-packages (from google-api-core<3.0.0,>=1.0.0->opencensus->ray[default]) (2022.5)\n",
            "Requirement already satisfied: googleapis-common-protos<2.0dev,>=1.6.0 in /usr/local/lib/python3.7/dist-packages (from google-api-core<3.0.0,>=1.0.0->opencensus->ray[default]) (1.56.4)\n",
            "Requirement already satisfied: google-auth<2.0dev,>=1.25.0 in /usr/local/lib/python3.7/dist-packages (from google-api-core<3.0.0,>=1.0.0->opencensus->ray[default]) (1.35.0)\n",
            "Requirement already satisfied: setuptools>=40.3.0 in /usr/local/lib/python3.7/dist-packages (from google-api-core<3.0.0,>=1.0.0->opencensus->ray[default]) (57.4.0)\n",
            "Requirement already satisfied: pyasn1-modules>=0.2.1 in /usr/local/lib/python3.7/dist-packages (from google-auth<2.0dev,>=1.25.0->google-api-core<3.0.0,>=1.0.0->opencensus->ray[default]) (0.2.8)\n",
            "Requirement already satisfied: cachetools<5.0,>=2.0.0 in /usr/local/lib/python3.7/dist-packages (from google-auth<2.0dev,>=1.25.0->google-api-core<3.0.0,>=1.0.0->opencensus->ray[default]) (4.2.4)\n",
            "Requirement already satisfied: rsa<5,>=3.1.4 in /usr/local/lib/python3.7/dist-packages (from google-auth<2.0dev,>=1.25.0->google-api-core<3.0.0,>=1.0.0->opencensus->ray[default]) (4.9)\n",
            "Requirement already satisfied: pyparsing!=3.0.5,>=2.0.2 in /usr/local/lib/python3.7/dist-packages (from packaging>=14.3->google-api-core<3.0.0,>=1.0.0->opencensus->ray[default]) (3.0.9)\n",
            "Requirement already satisfied: pyasn1<0.5.0,>=0.4.6 in /usr/local/lib/python3.7/dist-packages (from pyasn1-modules>=0.2.1->google-auth<2.0dev,>=1.25.0->google-api-core<3.0.0,>=1.0.0->opencensus->ray[default]) (0.4.8)\n",
            "Requirement already satisfied: chardet<4,>=3.0.2 in /usr/local/lib/python3.7/dist-packages (from requests->ray[default]) (3.0.4)\n",
            "Requirement already satisfied: urllib3!=1.25.0,!=1.25.1,<1.26,>=1.21.1 in /usr/local/lib/python3.7/dist-packages (from requests->ray[default]) (1.24.3)\n",
            "Requirement already satisfied: certifi>=2017.4.17 in /usr/local/lib/python3.7/dist-packages (from requests->ray[default]) (2022.9.24)\n",
            "Requirement already satisfied: distlib<1,>=0.3.6 in /usr/local/lib/python3.7/dist-packages (from virtualenv->ray[default]) (0.3.6)\n",
            "Requirement already satisfied: platformdirs<3,>=2.4 in /usr/local/lib/python3.7/dist-packages (from virtualenv->ray[default]) (2.5.2)\n",
            "Looking in indexes: https://pypi.org/simple, https://us-python.pkg.dev/colab-wheels/public/simple/\n",
            "Requirement already satisfied: ray[tune] in /usr/local/lib/python3.7/dist-packages (2.0.1)\n",
            "Requirement already satisfied: requests in /usr/local/lib/python3.7/dist-packages (from ray[tune]) (2.23.0)\n",
            "Requirement already satisfied: grpcio<=1.43.0,>=1.32.0 in /usr/local/lib/python3.7/dist-packages (from ray[tune]) (1.43.0)\n",
            "Requirement already satisfied: click<=8.0.4,>=7.0 in /usr/local/lib/python3.7/dist-packages (from ray[tune]) (7.1.2)\n",
            "Requirement already satisfied: aiosignal in /usr/local/lib/python3.7/dist-packages (from ray[tune]) (1.2.0)\n",
            "Requirement already satisfied: protobuf<4.0.0,>=3.15.3 in /usr/local/lib/python3.7/dist-packages (from ray[tune]) (3.17.3)\n",
            "Requirement already satisfied: msgpack<2.0.0,>=1.0.0 in /usr/local/lib/python3.7/dist-packages (from ray[tune]) (1.0.4)\n",
            "Requirement already satisfied: frozenlist in /usr/local/lib/python3.7/dist-packages (from ray[tune]) (1.3.1)\n",
            "Requirement already satisfied: virtualenv in /usr/local/lib/python3.7/dist-packages (from ray[tune]) (20.16.6)\n",
            "Requirement already satisfied: jsonschema in /usr/local/lib/python3.7/dist-packages (from ray[tune]) (4.3.3)\n",
            "Requirement already satisfied: filelock in /usr/local/lib/python3.7/dist-packages (from ray[tune]) (3.8.0)\n",
            "Requirement already satisfied: attrs in /usr/local/lib/python3.7/dist-packages (from ray[tune]) (22.1.0)\n",
            "Requirement already satisfied: typing-extensions in /usr/local/lib/python3.7/dist-packages (from ray[tune]) (4.1.1)\n",
            "Requirement already satisfied: numpy>=1.16 in /usr/local/lib/python3.7/dist-packages (from ray[tune]) (1.21.6)\n",
            "Requirement already satisfied: pyyaml in /usr/local/lib/python3.7/dist-packages (from ray[tune]) (6.0)\n",
            "Requirement already satisfied: tensorboardX>=1.9 in /usr/local/lib/python3.7/dist-packages (from ray[tune]) (2.5.1)\n",
            "Requirement already satisfied: tabulate in /usr/local/lib/python3.7/dist-packages (from ray[tune]) (0.8.10)\n",
            "Requirement already satisfied: pandas in /usr/local/lib/python3.7/dist-packages (from ray[tune]) (1.3.5)\n",
            "Requirement already satisfied: six>=1.5.2 in /usr/local/lib/python3.7/dist-packages (from grpcio<=1.43.0,>=1.32.0->ray[tune]) (1.15.0)\n",
            "Requirement already satisfied: importlib-metadata in /usr/local/lib/python3.7/dist-packages (from jsonschema->ray[tune]) (4.13.0)\n",
            "Requirement already satisfied: importlib-resources>=1.4.0 in /usr/local/lib/python3.7/dist-packages (from jsonschema->ray[tune]) (5.10.0)\n",
            "Requirement already satisfied: pyrsistent!=0.17.0,!=0.17.1,!=0.17.2,>=0.14.0 in /usr/local/lib/python3.7/dist-packages (from jsonschema->ray[tune]) (0.18.1)\n",
            "Requirement already satisfied: zipp>=3.1.0 in /usr/local/lib/python3.7/dist-packages (from importlib-resources>=1.4.0->jsonschema->ray[tune]) (3.10.0)\n",
            "Requirement already satisfied: pytz>=2017.3 in /usr/local/lib/python3.7/dist-packages (from pandas->ray[tune]) (2022.5)\n",
            "Requirement already satisfied: python-dateutil>=2.7.3 in /usr/local/lib/python3.7/dist-packages (from pandas->ray[tune]) (2.8.2)\n",
            "Requirement already satisfied: chardet<4,>=3.0.2 in /usr/local/lib/python3.7/dist-packages (from requests->ray[tune]) (3.0.4)\n",
            "Requirement already satisfied: urllib3!=1.25.0,!=1.25.1,<1.26,>=1.21.1 in /usr/local/lib/python3.7/dist-packages (from requests->ray[tune]) (1.24.3)\n",
            "Requirement already satisfied: certifi>=2017.4.17 in /usr/local/lib/python3.7/dist-packages (from requests->ray[tune]) (2022.9.24)\n",
            "Requirement already satisfied: idna<3,>=2.5 in /usr/local/lib/python3.7/dist-packages (from requests->ray[tune]) (2.10)\n",
            "Requirement already satisfied: distlib<1,>=0.3.6 in /usr/local/lib/python3.7/dist-packages (from virtualenv->ray[tune]) (0.3.6)\n",
            "Requirement already satisfied: platformdirs<3,>=2.4 in /usr/local/lib/python3.7/dist-packages (from virtualenv->ray[tune]) (2.5.2)\n"
          ]
        }
      ]
    },
    {
      "cell_type": "markdown",
      "source": [
        "## Import necessary libraries"
      ],
      "metadata": {
        "id": "4j72gNlzLwNQ"
      }
    },
    {
      "cell_type": "code",
      "source": [
        "import time\n",
        "import numpy as np\n",
        "import os\n",
        "import torch\n",
        "import torch.nn as nn\n",
        "import torch.optim as optim\n",
        "from cords.utils.data.datasets.SL import gen_dataset\n",
        "from torch.utils.data import Subset\n",
        "from cords.utils.config_utils import load_config_data\n",
        "import os.path as osp\n",
        "from cords.utils.data.data_utils import WeightedSubset\n",
        "from ray import tune"
      ],
      "metadata": {
        "id": "Z_f8ilQ6LxoM"
      },
      "execution_count": null,
      "outputs": []
    },
    {
      "cell_type": "markdown",
      "source": [
        "## Loading the CIFAR10 dataset"
      ],
      "metadata": {
        "id": "KZPvWsLpMJyj"
      }
    },
    {
      "cell_type": "code",
      "source": [
        "trainset, validset, testset, num_cls = gen_dataset('data/', 'cifar10', None, isnumpy=False)"
      ],
      "metadata": {
        "colab": {
          "base_uri": "https://localhost:8080/"
        },
        "id": "pHVmleWFMK7M",
        "outputId": "fde4dc04-1cf6-46c3-ed02-066986974677"
      },
      "execution_count": null,
      "outputs": [
        {
          "output_type": "stream",
          "name": "stdout",
          "text": [
            "Files already downloaded and verified\n",
            "Files already downloaded and verified\n"
          ]
        }
      ]
    },
    {
      "cell_type": "markdown",
      "source": [
        "## Create dataloaders"
      ],
      "metadata": {
        "id": "6baiIe94MXYr"
      }
    },
    {
      "cell_type": "code",
      "source": [
        "trn_batch_size = 20\n",
        "val_batch_size = 20\n",
        "tst_batch_size = 1200\n",
        "\n",
        "# Creating the Data Loaders\n",
        "trainloader = torch.utils.data.DataLoader(trainset, batch_size=trn_batch_size,\n",
        "                                          shuffle=False, pin_memory=True)\n",
        "\n",
        "valloader = torch.utils.data.DataLoader(validset, batch_size=val_batch_size,\n",
        "                                        shuffle=False, pin_memory=True)\n",
        "\n",
        "testloader = torch.utils.data.DataLoader(testset, batch_size=tst_batch_size,\n",
        "                                          shuffle=False, pin_memory=True)"
      ],
      "metadata": {
        "id": "0SKr5iCKMYa3"
      },
      "execution_count": null,
      "outputs": []
    },
    {
      "cell_type": "markdown",
      "source": [
        "## Defining Model"
      ],
      "metadata": {
        "id": "OtG-iKsbMfbA"
      }
    },
    {
      "cell_type": "code",
      "source": [
        "from cords.utils.models import ResNet18\n",
        "numclasses = 10\n",
        "device = 'cuda' #Device Argument\n",
        "model = ResNet18(10)\n",
        "model = model.to(device)"
      ],
      "metadata": {
        "id": "M3XKJY2IMgaz"
      },
      "execution_count": null,
      "outputs": []
    },
    {
      "cell_type": "markdown",
      "source": [
        "## Defining Loss Functions"
      ],
      "metadata": {
        "id": "ZnASL0dYNv54"
      }
    },
    {
      "cell_type": "code",
      "source": [
        "criterion = nn.CrossEntropyLoss()\n",
        "criterion_nored = nn.CrossEntropyLoss(reduction='none')"
      ],
      "metadata": {
        "id": "17Q0XPVDNxnG"
      },
      "execution_count": null,
      "outputs": []
    },
    {
      "cell_type": "markdown",
      "source": [
        "## Cumulative time calculation"
      ],
      "metadata": {
        "id": "ggc-89lfN0Dh"
      }
    },
    {
      "cell_type": "code",
      "source": [
        "def generate_cumulative_timing(mod_timing):\n",
        "    tmp = 0\n",
        "    mod_cum_timing = np.zeros(len(mod_timing))\n",
        "    for i in range(len(mod_timing)):\n",
        "        tmp += mod_timing[i]\n",
        "        mod_cum_timing[i] = tmp\n",
        "    return mod_cum_timing / 3600"
      ],
      "metadata": {
        "id": "p2AoNY8vObdo"
      },
      "execution_count": null,
      "outputs": []
    },
    {
      "cell_type": "markdown",
      "source": [
        "## Defining Optimizers and schedulers"
      ],
      "metadata": {
        "id": "F3a2qGlcOp-4"
      }
    },
    {
      "cell_type": "code",
      "source": [
        "optimizer = optim.SGD(model.parameters(), lr=1e-2,\n",
        "                                  momentum=0.9,\n",
        "                                  weight_decay=5e-4,\n",
        "                                  nesterov=False)\n",
        "\n",
        "#T_max is the maximum number of scheduler steps. Here we are using the number of epochs as the maximum number of scheduler steps.\n",
        "\n",
        "scheduler = torch.optim.lr_scheduler.CosineAnnealingLR(optimizer,\n",
        "                                                       T_max=300)"
      ],
      "metadata": {
        "id": "IWXujMi3OrJh"
      },
      "execution_count": null,
      "outputs": []
    },
    {
      "cell_type": "markdown",
      "source": [
        "## Get logger object for logging"
      ],
      "metadata": {
        "id": "bX-zgL1YOz8F"
      }
    },
    {
      "cell_type": "code",
      "source": [
        "def __get_logger(results_dir):\n",
        "  os.makedirs(results_dir, exist_ok=True)\n",
        "  # setup logger\n",
        "  plain_formatter = logging.Formatter(\"[%(asctime)s] %(name)s %(levelname)s: %(message)s\",\n",
        "                                      datefmt=\"%m/%d %H:%M:%S\")\n",
        "  logger = logging.getLogger(__name__)\n",
        "  logger.setLevel(logging.INFO)\n",
        "  s_handler = logging.StreamHandler(stream=sys.stdout)\n",
        "  s_handler.setFormatter(plain_formatter)\n",
        "  s_handler.setLevel(logging.INFO)\n",
        "  logger.addHandler(s_handler)\n",
        "  f_handler = logging.FileHandler(os.path.join(results_dir, \"results.log\"))\n",
        "  f_handler.setFormatter(plain_formatter)\n",
        "  f_handler.setLevel(logging.DEBUG)\n",
        "  logger.addHandler(f_handler)\n",
        "  logger.propagate = False\n",
        "  return logger"
      ],
      "metadata": {
        "id": "gccZKpIGO2dC"
      },
      "execution_count": null,
      "outputs": []
    },
    {
      "cell_type": "markdown",
      "source": [
        "## Instantiating logger file for logging the information"
      ],
      "metadata": {
        "id": "6XfQ_qQtO6-1"
      }
    },
    {
      "cell_type": "code",
      "source": [
        "import logging\n",
        "import os\n",
        "import os.path as osp\n",
        "import sys\n",
        "\n",
        "#Results logging directory\n",
        "results_dir = osp.abspath(osp.expanduser('results'))\n",
        "logger = __get_logger(results_dir)"
      ],
      "metadata": {
        "id": "G2TyxyoNO8Pc"
      },
      "execution_count": null,
      "outputs": []
    },
    {
      "cell_type": "markdown",
      "source": [
        "## Initiating Glister subset selection dataloaders"
      ],
      "metadata": {
        "id": "saz-i-J-PENj"
      }
    },
    {
      "cell_type": "code",
      "source": [
        "from cords.utils.data.dataloader.SL.adaptive import GLISTERDataLoader\n",
        "from dotmap import DotMap\n",
        "\n",
        "selection_strategy = 'Glister'\n",
        "dss_args = dict(model=model,\n",
        "                loss=criterion_nored,\n",
        "                eta=0.1,\n",
        "                num_classes=10,\n",
        "                num_epochs=50,\n",
        "                device='cuda',\n",
        "                fraction=0.7,\n",
        "                select_every=20,\n",
        "                kappa=0,\n",
        "                num_samples = 20,\n",
        "                linear_layer=False,\n",
        "                selection_type='SL',\n",
        "                greedy='Stochastic',\n",
        "                optimizer='lazy',\n",
        "                r=15)\n",
        "dss_args = DotMap(dss_args)\n",
        "\n",
        "dataloader = GLISTERDataLoader(trainloader, valloader, dss_args, logger, \n",
        "                                  batch_size=20,\n",
        "                                  shuffle=False,\n",
        "                                  pin_memory=False)"
      ],
      "metadata": {
        "id": "ksPpDXWkPHWX"
      },
      "execution_count": null,
      "outputs": []
    },
    {
      "cell_type": "markdown",
      "source": [
        "## Arguments for training and evaluation"
      ],
      "metadata": {
        "id": "XzbnBGW_Pcjh"
      }
    },
    {
      "cell_type": "code",
      "source": [
        "#Training Arguments\n",
        "num_epochs = 50\n",
        "\n",
        "#Arguments for results logging\n",
        "print_every = 1\n",
        "print_args = [\"val_loss\", \"val_acc\", \"tst_loss\", \"tst_acc\", \"time\"]\n",
        "\n",
        "#Evaluation Metrics\n",
        "trn_losses = list()\n",
        "val_losses = list()\n",
        "tst_losses = list()\n",
        "subtrn_losses = list()\n",
        "timing = list()\n",
        "trn_acc = list()\n",
        "val_acc = list()  \n",
        "tst_acc = list()  \n",
        "subtrn_acc = list()"
      ],
      "metadata": {
        "id": "uBPOrShqPe51"
      },
      "execution_count": null,
      "outputs": []
    },
    {
      "cell_type": "markdown",
      "source": [
        "## Training loop with evaluation"
      ],
      "metadata": {
        "id": "6XHjYCoDPoLO"
      }
    },
    {
      "cell_type": "code",
      "source": [
        "#Training Loop\n",
        "for epoch in range(num_epochs):\n",
        "    subtrn_loss = 0\n",
        "    subtrn_correct = 0\n",
        "    subtrn_total = 0\n",
        "    model.train()\n",
        "    start_time = time.time()\n",
        "    for _, (inputs, targets, weights) in enumerate(dataloader):\n",
        "        inputs = inputs.to(device)\n",
        "        targets = targets.to(device, non_blocking=True)\n",
        "        weights = weights.to(device)  \n",
        "        optimizer.zero_grad()\n",
        "        outputs = model(inputs)\n",
        "        losses = criterion_nored(outputs, targets)\n",
        "        loss = torch.dot(losses, weights/(weights.sum()))\n",
        "        loss.backward()\n",
        "        subtrn_loss += loss.item()\n",
        "        optimizer.step()\n",
        "        _, predicted = outputs.max(1)\n",
        "        subtrn_total += targets.size(0)\n",
        "        subtrn_correct += predicted.eq(targets).sum().item()\n",
        "    epoch_time = time.time() - start_time\n",
        "    scheduler.step()\n",
        "    timing.append(epoch_time)\n",
        "\n",
        "    #Evaluation Loop\n",
        "    if (epoch + 1) % print_every == 0:\n",
        "        trn_loss = 0\n",
        "        trn_correct = 0\n",
        "        trn_total = 0\n",
        "        val_loss = 0\n",
        "        val_correct = 0\n",
        "        val_total = 0\n",
        "        tst_correct = 0\n",
        "        tst_total = 0\n",
        "        tst_loss = 0\n",
        "        model.eval()\n",
        "\n",
        "        if (\"trn_loss\" in print_args) or (\"trn_acc\" in print_args):\n",
        "            with torch.no_grad():\n",
        "                for _, (inputs, targets) in enumerate(trainloader):\n",
        "                    inputs, targets = inputs.to(device), \\\n",
        "                                      targets.to(device, non_blocking=True)\n",
        "                    outputs = model(inputs)\n",
        "                    loss = criterion(outputs, targets)\n",
        "                    trn_loss += loss.item()\n",
        "                    if \"trn_acc\" in print_args:\n",
        "                        _, predicted = outputs.max(1)\n",
        "                        trn_total += targets.size(0)\n",
        "                        trn_correct += predicted.eq(targets).sum().item()\n",
        "                trn_losses.append(trn_loss)\n",
        "\n",
        "            if \"trn_acc\" in print_args:\n",
        "                trn_acc.append(trn_correct / trn_total)\n",
        "\n",
        "        if (\"val_loss\" in print_args) or (\"val_acc\" in print_args):\n",
        "            with torch.no_grad():\n",
        "                for _, (inputs, targets) in enumerate(valloader):\n",
        "                    inputs, targets = inputs.to(device), \\\n",
        "                                      targets.to(device, non_blocking=True)\n",
        "                    outputs = model(inputs)\n",
        "                    loss = criterion(outputs, targets)\n",
        "                    val_loss += loss.item()\n",
        "                    if \"val_acc\" in print_args:\n",
        "                        _, predicted = outputs.max(1)\n",
        "                        val_total += targets.size(0)\n",
        "                        val_correct += predicted.eq(targets).sum().item()\n",
        "                val_losses.append(val_loss)\n",
        "\n",
        "            if \"val_acc\" in print_args:\n",
        "                val_acc.append(val_correct / val_total)\n",
        "\n",
        "        if (\"tst_loss\" in print_args) or (\"tst_acc\" in print_args):\n",
        "            with torch.no_grad():\n",
        "                for _, (inputs, targets) in enumerate(testloader):\n",
        "                    inputs, targets = inputs.to(device), \\\n",
        "                                      targets.to(device, non_blocking=True)\n",
        "                    outputs = model(inputs)\n",
        "                    loss = criterion(outputs, targets)\n",
        "                    tst_loss += loss.item()\n",
        "                    if \"tst_acc\" in print_args:\n",
        "                        _, predicted = outputs.max(1)\n",
        "                        tst_total += targets.size(0)\n",
        "                        tst_correct += predicted.eq(targets).sum().item()\n",
        "                tst_losses.append(tst_loss)\n",
        "\n",
        "            if \"tst_acc\" in print_args:\n",
        "                tst_acc.append(tst_correct / tst_total)\n",
        "\n",
        "        if \"subtrn_acc\" in print_args:\n",
        "            subtrn_acc.append(subtrn_correct / subtrn_total)\n",
        "\n",
        "        if \"subtrn_losses\" in print_args:\n",
        "            subtrn_losses.append(subtrn_loss)\n",
        "\n",
        "        print_str = \"Epoch: \" + str(epoch + 1)\n",
        "\n",
        "        #Results Printing\n",
        "        for arg in print_args:\n",
        "\n",
        "            if arg == \"val_loss\":\n",
        "                print_str += \" , \" + \"Validation Loss: \" + str(val_losses[-1])\n",
        "\n",
        "            if arg == \"val_acc\":\n",
        "                print_str += \" , \" + \"Validation Accuracy: \" + str(val_acc[-1])\n",
        "\n",
        "            if arg == \"tst_loss\":\n",
        "                print_str += \" , \" + \"Test Loss: \" + str(tst_losses[-1])\n",
        "\n",
        "            if arg == \"tst_acc\":\n",
        "                print_str += \" , \" + \"Test Accuracy: \" + str(tst_acc[-1])\n",
        "\n",
        "            if arg == \"trn_loss\":\n",
        "                print_str += \" , \" + \"Training Loss: \" + str(trn_losses[-1])\n",
        "\n",
        "            if arg == \"trn_acc\":\n",
        "                print_str += \" , \" + \"Training Accuracy: \" + str(trn_acc[-1])\n",
        "\n",
        "            if arg == \"subtrn_loss\":\n",
        "                print_str += \" , \" + \"Subset Loss: \" + str(subtrn_losses[-1])\n",
        "\n",
        "            if arg == \"subtrn_acc\":\n",
        "                print_str += \" , \" + \"Subset Accuracy: \" + str(subtrn_acc[-1])\n",
        "\n",
        "            if arg == \"time\":\n",
        "                print_str += \" , \" + \"Timing: \" + str(timing[-1])\n",
        "\n",
        "        logger.info(print_str)"
      ],
      "metadata": {
        "colab": {
          "base_uri": "https://localhost:8080/"
        },
        "id": "7_QW0M9SPsgV",
        "outputId": "96556661-9142-4f91-d274-e36df517f020"
      },
      "execution_count": null,
      "outputs": [
        {
          "output_type": "stream",
          "name": "stdout",
          "text": [
            "[11/03 04:45:07] __main__ INFO: Epoch: 1 , Validation Loss: 377.8990362882614 , Validation Accuracy: 0.465 , Test Loss: 13.49512767791748 , Test Accuracy: 0.4827 , Timing: 36.82470226287842\n",
            "[11/03 04:45:46] __main__ INFO: Epoch: 2 , Validation Loss: 275.2718375325203 , Validation Accuracy: 0.6058 , Test Loss: 9.688828945159912 , Test Accuracy: 0.622 , Timing: 34.00963354110718\n",
            "[11/03 04:46:26] __main__ INFO: Epoch: 3 , Validation Loss: 220.94160422682762 , Validation Accuracy: 0.6756 , Test Loss: 7.815418839454651 , Test Accuracy: 0.6976 , Timing: 33.99653244018555\n",
            "[11/03 04:47:05] __main__ INFO: Epoch: 4 , Validation Loss: 185.5509025156498 , Validation Accuracy: 0.7382 , Test Loss: 6.545505225658417 , Test Accuracy: 0.7493 , Timing: 34.18774771690369\n",
            "[11/03 04:47:45] __main__ INFO: Epoch: 5 , Validation Loss: 167.9594720005989 , Validation Accuracy: 0.7668 , Test Loss: 6.276014864444733 , Test Accuracy: 0.7633 , Timing: 34.47342491149902\n",
            "[11/03 04:48:24] __main__ INFO: Epoch: 6 , Validation Loss: 168.5316914767027 , Validation Accuracy: 0.7648 , Test Loss: 6.14588338136673 , Test Accuracy: 0.7697 , Timing: 34.07759642601013\n",
            "[11/03 04:49:03] __main__ INFO: Epoch: 7 , Validation Loss: 152.79948154091835 , Validation Accuracy: 0.7956 , Test Loss: 5.557458877563477 , Test Accuracy: 0.795 , Timing: 34.00449895858765\n",
            "[11/03 04:49:44] __main__ INFO: Epoch: 8 , Validation Loss: 141.0689475685358 , Validation Accuracy: 0.8062 , Test Loss: 5.142582952976227 , Test Accuracy: 0.8093 , Timing: 34.83477711677551\n",
            "[11/03 04:50:24] __main__ INFO: Epoch: 9 , Validation Loss: 139.9969052299857 , Validation Accuracy: 0.8034 , Test Loss: 5.1264649629592896 , Test Accuracy: 0.8079 , Timing: 34.71864438056946\n",
            "[11/03 04:51:03] __main__ INFO: Epoch: 10 , Validation Loss: 136.46320225298405 , Validation Accuracy: 0.8132 , Test Loss: 4.8089688420295715 , Test Accuracy: 0.8222 , Timing: 34.64050507545471\n",
            "[11/03 04:51:43] __main__ INFO: Epoch: 11 , Validation Loss: 131.70766755193472 , Validation Accuracy: 0.8186 , Test Loss: 5.0495158433914185 , Test Accuracy: 0.8167 , Timing: 34.76213717460632\n",
            "[11/03 04:52:24] __main__ INFO: Epoch: 12 , Validation Loss: 127.73288077116013 , Validation Accuracy: 0.8272 , Test Loss: 4.700058192014694 , Test Accuracy: 0.8276 , Timing: 34.97225999832153\n",
            "[11/03 04:53:04] __main__ INFO: Epoch: 13 , Validation Loss: 125.8368961662054 , Validation Accuracy: 0.8268 , Test Loss: 4.5001161098480225 , Test Accuracy: 0.8335 , Timing: 35.37483525276184\n",
            "[11/03 04:53:45] __main__ INFO: Epoch: 14 , Validation Loss: 128.99627605080605 , Validation Accuracy: 0.8258 , Test Loss: 4.72721254825592 , Test Accuracy: 0.8309 , Timing: 35.10472512245178\n",
            "[11/03 04:54:25] __main__ INFO: Epoch: 15 , Validation Loss: 128.66047633439302 , Validation Accuracy: 0.8214 , Test Loss: 4.651828229427338 , Test Accuracy: 0.8267 , Timing: 35.44722247123718\n",
            "[11/03 04:55:06] __main__ INFO: Epoch: 16 , Validation Loss: 114.27127080783248 , Validation Accuracy: 0.8438 , Test Loss: 4.375290900468826 , Test Accuracy: 0.8461 , Timing: 35.11406135559082\n",
            "[11/03 04:55:46] __main__ INFO: Epoch: 17 , Validation Loss: 127.94169608876109 , Validation Accuracy: 0.8266 , Test Loss: 4.802236348390579 , Test Accuracy: 0.8288 , Timing: 34.68091607093811\n",
            "[11/03 04:56:26] __main__ INFO: Epoch: 18 , Validation Loss: 121.18664380535483 , Validation Accuracy: 0.8364 , Test Loss: 4.459575802087784 , Test Accuracy: 0.8433 , Timing: 34.19426679611206\n",
            "[11/03 04:57:05] __main__ INFO: Epoch: 19 , Validation Loss: 125.96306519862264 , Validation Accuracy: 0.8316 , Test Loss: 4.8510571122169495 , Test Accuracy: 0.8356 , Timing: 34.12886333465576\n",
            "[11/03 04:57:44] __main__ INFO: Epoch: 20 , Validation Loss: 117.59125364199281 , Validation Accuracy: 0.8472 , Test Loss: 4.417820870876312 , Test Accuracy: 0.8423 , Timing: 34.17032480239868\n",
            "[11/03 04:58:53] __main__ INFO: Epoch: 21, GLISTER dataloader subset selection finished, takes 68.3199. \n",
            "[11/03 04:59:32] __main__ INFO: Epoch: 21 , Validation Loss: 97.89831897430122 , Validation Accuracy: 0.8684 , Test Loss: 3.569617450237274 , Test Accuracy: 0.8692 , Timing: 102.41196250915527\n",
            "[11/03 05:00:11] __main__ INFO: Epoch: 22 , Validation Loss: 97.18489059060812 , Validation Accuracy: 0.8724 , Test Loss: 3.572950005531311 , Test Accuracy: 0.8694 , Timing: 34.17875075340271\n",
            "[11/03 05:00:51] __main__ INFO: Epoch: 23 , Validation Loss: 92.3560009598732 , Validation Accuracy: 0.8766 , Test Loss: 3.3013251423835754 , Test Accuracy: 0.8782 , Timing: 34.08529353141785\n",
            "[11/03 05:01:30] __main__ INFO: Epoch: 24 , Validation Loss: 99.29532767087221 , Validation Accuracy: 0.867 , Test Loss: 3.615559458732605 , Test Accuracy: 0.8709 , Timing: 34.00768733024597\n",
            "[11/03 05:02:09] __main__ INFO: Epoch: 25 , Validation Loss: 103.87990481965244 , Validation Accuracy: 0.8608 , Test Loss: 3.5957582890987396 , Test Accuracy: 0.8743 , Timing: 34.11982321739197\n",
            "[11/03 05:02:49] __main__ INFO: Epoch: 26 , Validation Loss: 97.13420962914824 , Validation Accuracy: 0.8764 , Test Loss: 3.6852461397647858 , Test Accuracy: 0.8695 , Timing: 34.291585206985474\n",
            "[11/03 05:03:28] __main__ INFO: Epoch: 27 , Validation Loss: 94.56762512773275 , Validation Accuracy: 0.8768 , Test Loss: 3.5094341039657593 , Test Accuracy: 0.8777 , Timing: 34.209557056427\n",
            "[11/03 05:04:08] __main__ INFO: Epoch: 28 , Validation Loss: 109.43282264843583 , Validation Accuracy: 0.856 , Test Loss: 3.947152227163315 , Test Accuracy: 0.8637 , Timing: 34.1726393699646\n",
            "[11/03 05:04:47] __main__ INFO: Epoch: 29 , Validation Loss: 100.61090603470802 , Validation Accuracy: 0.8664 , Test Loss: 3.6511087119579315 , Test Accuracy: 0.872 , Timing: 34.2794713973999\n",
            "[11/03 05:05:27] __main__ INFO: Epoch: 30 , Validation Loss: 97.06926462426782 , Validation Accuracy: 0.8736 , Test Loss: 3.5349622070789337 , Test Accuracy: 0.879 , Timing: 34.25452971458435\n",
            "[11/03 05:06:06] __main__ INFO: Epoch: 31 , Validation Loss: 100.70581162162125 , Validation Accuracy: 0.8704 , Test Loss: 3.704746514558792 , Test Accuracy: 0.8685 , Timing: 34.44321393966675\n",
            "[11/03 05:06:46] __main__ INFO: Epoch: 32 , Validation Loss: 97.64858762547374 , Validation Accuracy: 0.8752 , Test Loss: 3.4857223629951477 , Test Accuracy: 0.8769 , Timing: 34.34793472290039\n",
            "[11/03 05:07:26] __main__ INFO: Epoch: 33 , Validation Loss: 92.92321838065982 , Validation Accuracy: 0.8806 , Test Loss: 3.4472258388996124 , Test Accuracy: 0.8808 , Timing: 34.5754599571228\n",
            "[11/03 05:08:05] __main__ INFO: Epoch: 34 , Validation Loss: 95.36740753054619 , Validation Accuracy: 0.8818 , Test Loss: 3.4603313207626343 , Test Accuracy: 0.8795 , Timing: 34.349677085876465\n",
            "[11/03 05:08:45] __main__ INFO: Epoch: 35 , Validation Loss: 101.69865813665092 , Validation Accuracy: 0.8708 , Test Loss: 3.6477615535259247 , Test Accuracy: 0.8771 , Timing: 34.72698211669922\n",
            "[11/03 05:09:25] __main__ INFO: Epoch: 36 , Validation Loss: 102.41432253737003 , Validation Accuracy: 0.869 , Test Loss: 3.684175342321396 , Test Accuracy: 0.8719 , Timing: 34.617027044296265\n",
            "[11/03 05:10:06] __main__ INFO: Epoch: 37 , Validation Loss: 88.61862916778773 , Validation Accuracy: 0.8844 , Test Loss: 2.9947574734687805 , Test Accuracy: 0.8939 , Timing: 35.10619139671326\n",
            "[11/03 05:10:46] __main__ INFO: Epoch: 38 , Validation Loss: 104.31759032607079 , Validation Accuracy: 0.867 , Test Loss: 3.549782693386078 , Test Accuracy: 0.8787 , Timing: 34.389972448349\n",
            "[11/03 05:11:26] __main__ INFO: Epoch: 39 , Validation Loss: 86.6216283114627 , Validation Accuracy: 0.8842 , Test Loss: 3.1149125397205353 , Test Accuracy: 0.8955 , Timing: 34.682820558547974\n",
            "[11/03 05:12:06] __main__ INFO: Epoch: 40 , Validation Loss: 96.33961570868269 , Validation Accuracy: 0.8734 , Test Loss: 3.3861402571201324 , Test Accuracy: 0.8864 , Timing: 34.5286169052124\n",
            "[11/03 05:13:17] __main__ INFO: Epoch: 41, GLISTER dataloader subset selection finished, takes 71.1342. \n",
            "[11/03 05:13:56] __main__ INFO: Epoch: 41 , Validation Loss: 84.63731368258595 , Validation Accuracy: 0.8878 , Test Loss: 3.2041355967521667 , Test Accuracy: 0.8851 , Timing: 105.5053346157074\n",
            "[11/03 05:14:36] __main__ INFO: Epoch: 42 , Validation Loss: 82.22648769710213 , Validation Accuracy: 0.8902 , Test Loss: 3.0226530730724335 , Test Accuracy: 0.8944 , Timing: 34.508399963378906\n",
            "[11/03 05:15:16] __main__ INFO: Epoch: 43 , Validation Loss: 83.55857636407018 , Validation Accuracy: 0.8918 , Test Loss: 3.059553861618042 , Test Accuracy: 0.8896 , Timing: 34.59437608718872\n",
            "[11/03 05:15:57] __main__ INFO: Epoch: 44 , Validation Loss: 79.93975395709276 , Validation Accuracy: 0.8958 , Test Loss: 2.989906281232834 , Test Accuracy: 0.895 , Timing: 34.50687289237976\n",
            "[11/03 05:16:37] __main__ INFO: Epoch: 45 , Validation Loss: 89.19118974357843 , Validation Accuracy: 0.8844 , Test Loss: 3.134292036294937 , Test Accuracy: 0.8906 , Timing: 35.137749671936035\n",
            "[11/03 05:17:17] __main__ INFO: Epoch: 46 , Validation Loss: 81.4392092935741 , Validation Accuracy: 0.8896 , Test Loss: 3.0834622383117676 , Test Accuracy: 0.8913 , Timing: 35.05384850502014\n",
            "[11/03 05:17:58] __main__ INFO: Epoch: 47 , Validation Loss: 93.84401885420084 , Validation Accuracy: 0.88 , Test Loss: 3.330654501914978 , Test Accuracy: 0.8845 , Timing: 35.13050723075867\n",
            "[11/03 05:18:38] __main__ INFO: Epoch: 48 , Validation Loss: 83.47247184813023 , Validation Accuracy: 0.8902 , Test Loss: 3.156622737646103 , Test Accuracy: 0.8901 , Timing: 34.86729383468628\n",
            "[11/03 05:19:17] __main__ INFO: Epoch: 49 , Validation Loss: 88.88818053808063 , Validation Accuracy: 0.8838 , Test Loss: 3.176095128059387 , Test Accuracy: 0.8916 , Timing: 34.4624445438385\n",
            "[11/03 05:19:57] __main__ INFO: Epoch: 50 , Validation Loss: 94.25421387609094 , Validation Accuracy: 0.8802 , Test Loss: 3.3763961791992188 , Test Accuracy: 0.8862 , Timing: 34.43122911453247\n"
          ]
        }
      ]
    },
    {
      "cell_type": "markdown",
      "source": [
        "## Results Summary"
      ],
      "metadata": {
        "id": "-V7zJ5wfaxT0"
      }
    },
    {
      "cell_type": "code",
      "source": [
        "print(\"CORDS Selection Method: {0:s}\".format(selection_strategy))\n",
        "print(\"Final SubsetTrn: {0:f}\".format(subtrn_loss))\n",
        "if \"val_loss\" in print_args:\n",
        "    if \"val_acc\" in print_args:\n",
        "        print(\"Validation Loss:\", val_loss, \"/ Validation Accuracy:\", val_acc[-1])\n",
        "    else:\n",
        "        print(\"Validation Loss:\", val_loss)\n",
        "\n",
        "if \"tst_loss\" in print_args:\n",
        "    if \"tst_acc\" in print_args:\n",
        "        print(\"Test Loss:\", tst_loss, \"/ Test Accuracy:\", tst_acc[-1])\n",
        "    else:\n",
        "        print(\"Test Data Loss:\", tst_loss)\n",
        "\n",
        "if \"time\" in print_args:\n",
        "    time_str = \"Time, \"\n",
        "    for t in timing:\n",
        "        time_str = time_str + \" , \" + str(t)\n",
        "\n",
        "timing_array = np.array(timing)\n",
        "cum_timing = list(generate_cumulative_timing(timing_array))\n",
        "print(\"Total time taken by\", selection_strategy, \"=\", cum_timing[-1])"
      ],
      "metadata": {
        "id": "QfOEhChXayFC",
        "colab": {
          "base_uri": "https://localhost:8080/"
        },
        "outputId": "9ccd672e-fe52-4449-fd19-3484b2f3cf94"
      },
      "execution_count": null,
      "outputs": [
        {
          "output_type": "stream",
          "name": "stdout",
          "text": [
            "CORDS Selection Method: Glister\n",
            "Final SubsetTrn: 348.872600\n",
            "Validation Loss: 94.25421387609094 / Validation Accuracy: 0.8802\n",
            "Test Loss: 3.3763961791992188 / Test Accuracy: 0.8862\n",
            "Total time taken by Glister = 0.5188041466474533\n"
          ]
        }
      ]
    }
  ]
}