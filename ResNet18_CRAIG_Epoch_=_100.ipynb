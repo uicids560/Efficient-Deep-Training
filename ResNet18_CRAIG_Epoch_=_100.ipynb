{
  "nbformat": 4,
  "nbformat_minor": 0,
  "metadata": {
    "colab": {
      "provenance": [],
      "collapsed_sections": [],
      "machine_shape": "hm",
      "include_colab_link": true
    },
    "kernelspec": {
      "name": "python3",
      "display_name": "Python 3"
    },
    "language_info": {
      "name": "python"
    },
    "accelerator": "GPU",
    "gpuClass": "premium"
  },
  "cells": [
    {
      "cell_type": "markdown",
      "metadata": {
        "id": "view-in-github",
        "colab_type": "text"
      },
      "source": [
        "<a href=\"https://colab.research.google.com/github/uicids560/Efficient-Deep-Training/blob/main/ResNet18_CRAIG_Epoch_%3D_100.ipynb\" target=\"_parent\"><img src=\"https://colab.research.google.com/assets/colab-badge.svg\" alt=\"Open In Colab\"/></a>"
      ]
    },
    {
      "cell_type": "markdown",
      "source": [
        "# ResNet18 - CRAIG - CIFAR10\n",
        "ResNet18 Model Architecture from CORDS: https://github.com/decile-team/cords/blob/844f897ea4ed7e2f9c1453888022c281bb2091be/examples/SL/image_classification/python_notebooks/CORDS_SL_CIFAR10_Custom_Train.ipynb"
      ],
      "metadata": {
        "id": "myL-hj-vKrNR"
      }
    },
    {
      "cell_type": "markdown",
      "source": [
        "## Cloning CORDS repository"
      ],
      "metadata": {
        "id": "BQwSf8rkKewm"
      }
    },
    {
      "cell_type": "code",
      "execution_count": null,
      "metadata": {
        "colab": {
          "base_uri": "https://localhost:8080/"
        },
        "id": "BQdBqB1WKFe0",
        "outputId": "6a2530fe-0cde-41bf-c7cf-e7653c02f946"
      },
      "outputs": [
        {
          "output_type": "stream",
          "name": "stdout",
          "text": [
            "fatal: destination path 'cords' already exists and is not an empty directory.\n",
            "/content/cords\n",
            "\u001b[0m\u001b[01;34mbenchmarks\u001b[0m/   \u001b[01;34mcords\u001b[0m/  \u001b[01;34mexamples\u001b[0m/    \u001b[01;34mrequirements\u001b[0m/  \u001b[01;34mtests\u001b[0m/        train_ssl.py\n",
            "CITATION.CFF  \u001b[01;34mdata\u001b[0m/   LICENSE.txt  \u001b[01;34mresults\u001b[0m/       train_hpo.py\n",
            "\u001b[01;34mconfigs\u001b[0m/      \u001b[01;34mdocs\u001b[0m/   README.md    setup.py       train_sl.py\n"
          ]
        }
      ],
      "source": [
        "!git clone https://github.com/decile-team/cords.git\n",
        "%cd cords/\n",
        "%ls"
      ]
    },
    {
      "cell_type": "markdown",
      "source": [
        "## Install prerequisite libraries of CORDS"
      ],
      "metadata": {
        "id": "ppFQBZo9LhzT"
      }
    },
    {
      "cell_type": "code",
      "source": [
        "!pip install dotmap\n",
        "!pip install apricot-select\n",
        "!pip install ray[default]\n",
        "!pip install ray[tune]"
      ],
      "metadata": {
        "colab": {
          "base_uri": "https://localhost:8080/"
        },
        "id": "4vXQMpSvLhZb",
        "outputId": "bd1098de-e9eb-4583-de6e-4846ce50d0f4"
      },
      "execution_count": null,
      "outputs": [
        {
          "output_type": "stream",
          "name": "stdout",
          "text": [
            "Looking in indexes: https://pypi.org/simple, https://us-python.pkg.dev/colab-wheels/public/simple/\n",
            "Requirement already satisfied: dotmap in /usr/local/lib/python3.7/dist-packages (1.3.30)\n",
            "Looking in indexes: https://pypi.org/simple, https://us-python.pkg.dev/colab-wheels/public/simple/\n",
            "Requirement already satisfied: apricot-select in /usr/local/lib/python3.7/dist-packages (0.6.1)\n",
            "Requirement already satisfied: nose in /usr/local/lib/python3.7/dist-packages (from apricot-select) (1.3.7)\n",
            "Requirement already satisfied: numpy>=1.14.2 in /usr/local/lib/python3.7/dist-packages (from apricot-select) (1.21.6)\n",
            "Requirement already satisfied: tqdm>=4.24.0 in /usr/local/lib/python3.7/dist-packages (from apricot-select) (4.64.1)\n",
            "Requirement already satisfied: numba>=0.43.0 in /usr/local/lib/python3.7/dist-packages (from apricot-select) (0.56.3)\n",
            "Requirement already satisfied: scipy>=1.0.0 in /usr/local/lib/python3.7/dist-packages (from apricot-select) (1.7.3)\n",
            "Requirement already satisfied: importlib-metadata in /usr/local/lib/python3.7/dist-packages (from numba>=0.43.0->apricot-select) (4.13.0)\n",
            "Requirement already satisfied: setuptools in /usr/local/lib/python3.7/dist-packages (from numba>=0.43.0->apricot-select) (57.4.0)\n",
            "Requirement already satisfied: llvmlite<0.40,>=0.39.0dev0 in /usr/local/lib/python3.7/dist-packages (from numba>=0.43.0->apricot-select) (0.39.1)\n",
            "Requirement already satisfied: zipp>=0.5 in /usr/local/lib/python3.7/dist-packages (from importlib-metadata->numba>=0.43.0->apricot-select) (3.10.0)\n",
            "Requirement already satisfied: typing-extensions>=3.6.4 in /usr/local/lib/python3.7/dist-packages (from importlib-metadata->numba>=0.43.0->apricot-select) (4.1.1)\n",
            "Looking in indexes: https://pypi.org/simple, https://us-python.pkg.dev/colab-wheels/public/simple/\n",
            "Requirement already satisfied: ray[default] in /usr/local/lib/python3.7/dist-packages (2.0.1)\n",
            "Requirement already satisfied: click<=8.0.4,>=7.0 in /usr/local/lib/python3.7/dist-packages (from ray[default]) (7.1.2)\n",
            "Requirement already satisfied: frozenlist in /usr/local/lib/python3.7/dist-packages (from ray[default]) (1.3.1)\n",
            "Requirement already satisfied: grpcio<=1.43.0,>=1.32.0 in /usr/local/lib/python3.7/dist-packages (from ray[default]) (1.43.0)\n",
            "Requirement already satisfied: virtualenv in /usr/local/lib/python3.7/dist-packages (from ray[default]) (20.16.6)\n",
            "Requirement already satisfied: typing-extensions in /usr/local/lib/python3.7/dist-packages (from ray[default]) (4.1.1)\n",
            "Requirement already satisfied: protobuf<4.0.0,>=3.15.3 in /usr/local/lib/python3.7/dist-packages (from ray[default]) (3.17.3)\n",
            "Requirement already satisfied: attrs in /usr/local/lib/python3.7/dist-packages (from ray[default]) (22.1.0)\n",
            "Requirement already satisfied: requests in /usr/local/lib/python3.7/dist-packages (from ray[default]) (2.23.0)\n",
            "Requirement already satisfied: numpy>=1.16 in /usr/local/lib/python3.7/dist-packages (from ray[default]) (1.21.6)\n",
            "Requirement already satisfied: jsonschema in /usr/local/lib/python3.7/dist-packages (from ray[default]) (4.3.3)\n",
            "Requirement already satisfied: msgpack<2.0.0,>=1.0.0 in /usr/local/lib/python3.7/dist-packages (from ray[default]) (1.0.4)\n",
            "Requirement already satisfied: filelock in /usr/local/lib/python3.7/dist-packages (from ray[default]) (3.8.0)\n",
            "Requirement already satisfied: aiosignal in /usr/local/lib/python3.7/dist-packages (from ray[default]) (1.2.0)\n",
            "Requirement already satisfied: pyyaml in /usr/local/lib/python3.7/dist-packages (from ray[default]) (6.0)\n",
            "Requirement already satisfied: py-spy>=0.2.0 in /usr/local/lib/python3.7/dist-packages (from ray[default]) (0.3.14)\n",
            "Requirement already satisfied: aiohttp>=3.7 in /usr/local/lib/python3.7/dist-packages (from ray[default]) (3.8.3)\n",
            "Requirement already satisfied: pydantic in /usr/local/lib/python3.7/dist-packages (from ray[default]) (1.10.2)\n",
            "Requirement already satisfied: smart-open in /usr/local/lib/python3.7/dist-packages (from ray[default]) (5.2.1)\n",
            "Requirement already satisfied: aiohttp-cors in /usr/local/lib/python3.7/dist-packages (from ray[default]) (0.7.0)\n",
            "Requirement already satisfied: opencensus in /usr/local/lib/python3.7/dist-packages (from ray[default]) (0.11.0)\n",
            "Requirement already satisfied: colorful in /usr/local/lib/python3.7/dist-packages (from ray[default]) (0.5.4)\n",
            "Requirement already satisfied: prometheus-client<0.14.0,>=0.7.1 in /usr/local/lib/python3.7/dist-packages (from ray[default]) (0.13.1)\n",
            "Requirement already satisfied: gpustat>=1.0.0b1 in /usr/local/lib/python3.7/dist-packages (from ray[default]) (1.0.0)\n",
            "Requirement already satisfied: asynctest==0.13.0 in /usr/local/lib/python3.7/dist-packages (from aiohttp>=3.7->ray[default]) (0.13.0)\n",
            "Requirement already satisfied: yarl<2.0,>=1.0 in /usr/local/lib/python3.7/dist-packages (from aiohttp>=3.7->ray[default]) (1.8.1)\n",
            "Requirement already satisfied: multidict<7.0,>=4.5 in /usr/local/lib/python3.7/dist-packages (from aiohttp>=3.7->ray[default]) (6.0.2)\n",
            "Requirement already satisfied: async-timeout<5.0,>=4.0.0a3 in /usr/local/lib/python3.7/dist-packages (from aiohttp>=3.7->ray[default]) (4.0.2)\n",
            "Requirement already satisfied: charset-normalizer<3.0,>=2.0 in /usr/local/lib/python3.7/dist-packages (from aiohttp>=3.7->ray[default]) (2.1.1)\n",
            "Requirement already satisfied: six>=1.7 in /usr/local/lib/python3.7/dist-packages (from gpustat>=1.0.0b1->ray[default]) (1.15.0)\n",
            "Requirement already satisfied: psutil>=5.6.0 in /usr/local/lib/python3.7/dist-packages (from gpustat>=1.0.0b1->ray[default]) (5.9.3)\n",
            "Requirement already satisfied: blessed>=1.17.1 in /usr/local/lib/python3.7/dist-packages (from gpustat>=1.0.0b1->ray[default]) (1.19.1)\n",
            "Requirement already satisfied: nvidia-ml-py<=11.495.46,>=11.450.129 in /usr/local/lib/python3.7/dist-packages (from gpustat>=1.0.0b1->ray[default]) (11.495.46)\n",
            "Requirement already satisfied: wcwidth>=0.1.4 in /usr/local/lib/python3.7/dist-packages (from blessed>=1.17.1->gpustat>=1.0.0b1->ray[default]) (0.2.5)\n",
            "Requirement already satisfied: idna>=2.0 in /usr/local/lib/python3.7/dist-packages (from yarl<2.0,>=1.0->aiohttp>=3.7->ray[default]) (2.10)\n",
            "Requirement already satisfied: importlib-resources>=1.4.0 in /usr/local/lib/python3.7/dist-packages (from jsonschema->ray[default]) (5.10.0)\n",
            "Requirement already satisfied: importlib-metadata in /usr/local/lib/python3.7/dist-packages (from jsonschema->ray[default]) (4.13.0)\n",
            "Requirement already satisfied: pyrsistent!=0.17.0,!=0.17.1,!=0.17.2,>=0.14.0 in /usr/local/lib/python3.7/dist-packages (from jsonschema->ray[default]) (0.18.1)\n",
            "Requirement already satisfied: zipp>=3.1.0 in /usr/local/lib/python3.7/dist-packages (from importlib-resources>=1.4.0->jsonschema->ray[default]) (3.10.0)\n",
            "Requirement already satisfied: opencensus-context>=0.1.3 in /usr/local/lib/python3.7/dist-packages (from opencensus->ray[default]) (0.1.3)\n",
            "Requirement already satisfied: google-api-core<3.0.0,>=1.0.0 in /usr/local/lib/python3.7/dist-packages (from opencensus->ray[default]) (1.31.6)\n",
            "Requirement already satisfied: setuptools>=40.3.0 in /usr/local/lib/python3.7/dist-packages (from google-api-core<3.0.0,>=1.0.0->opencensus->ray[default]) (57.4.0)\n",
            "Requirement already satisfied: packaging>=14.3 in /usr/local/lib/python3.7/dist-packages (from google-api-core<3.0.0,>=1.0.0->opencensus->ray[default]) (21.3)\n",
            "Requirement already satisfied: pytz in /usr/local/lib/python3.7/dist-packages (from google-api-core<3.0.0,>=1.0.0->opencensus->ray[default]) (2022.5)\n",
            "Requirement already satisfied: googleapis-common-protos<2.0dev,>=1.6.0 in /usr/local/lib/python3.7/dist-packages (from google-api-core<3.0.0,>=1.0.0->opencensus->ray[default]) (1.56.4)\n",
            "Requirement already satisfied: google-auth<2.0dev,>=1.25.0 in /usr/local/lib/python3.7/dist-packages (from google-api-core<3.0.0,>=1.0.0->opencensus->ray[default]) (1.35.0)\n",
            "Requirement already satisfied: pyasn1-modules>=0.2.1 in /usr/local/lib/python3.7/dist-packages (from google-auth<2.0dev,>=1.25.0->google-api-core<3.0.0,>=1.0.0->opencensus->ray[default]) (0.2.8)\n",
            "Requirement already satisfied: cachetools<5.0,>=2.0.0 in /usr/local/lib/python3.7/dist-packages (from google-auth<2.0dev,>=1.25.0->google-api-core<3.0.0,>=1.0.0->opencensus->ray[default]) (4.2.4)\n",
            "Requirement already satisfied: rsa<5,>=3.1.4 in /usr/local/lib/python3.7/dist-packages (from google-auth<2.0dev,>=1.25.0->google-api-core<3.0.0,>=1.0.0->opencensus->ray[default]) (4.9)\n",
            "Requirement already satisfied: pyparsing!=3.0.5,>=2.0.2 in /usr/local/lib/python3.7/dist-packages (from packaging>=14.3->google-api-core<3.0.0,>=1.0.0->opencensus->ray[default]) (3.0.9)\n",
            "Requirement already satisfied: pyasn1<0.5.0,>=0.4.6 in /usr/local/lib/python3.7/dist-packages (from pyasn1-modules>=0.2.1->google-auth<2.0dev,>=1.25.0->google-api-core<3.0.0,>=1.0.0->opencensus->ray[default]) (0.4.8)\n",
            "Requirement already satisfied: urllib3!=1.25.0,!=1.25.1,<1.26,>=1.21.1 in /usr/local/lib/python3.7/dist-packages (from requests->ray[default]) (1.24.3)\n",
            "Requirement already satisfied: certifi>=2017.4.17 in /usr/local/lib/python3.7/dist-packages (from requests->ray[default]) (2022.9.24)\n",
            "Requirement already satisfied: chardet<4,>=3.0.2 in /usr/local/lib/python3.7/dist-packages (from requests->ray[default]) (3.0.4)\n",
            "Requirement already satisfied: platformdirs<3,>=2.4 in /usr/local/lib/python3.7/dist-packages (from virtualenv->ray[default]) (2.5.2)\n",
            "Requirement already satisfied: distlib<1,>=0.3.6 in /usr/local/lib/python3.7/dist-packages (from virtualenv->ray[default]) (0.3.6)\n",
            "Looking in indexes: https://pypi.org/simple, https://us-python.pkg.dev/colab-wheels/public/simple/\n",
            "Requirement already satisfied: ray[tune] in /usr/local/lib/python3.7/dist-packages (2.0.1)\n",
            "Requirement already satisfied: grpcio<=1.43.0,>=1.32.0 in /usr/local/lib/python3.7/dist-packages (from ray[tune]) (1.43.0)\n",
            "Requirement already satisfied: protobuf<4.0.0,>=3.15.3 in /usr/local/lib/python3.7/dist-packages (from ray[tune]) (3.17.3)\n",
            "Requirement already satisfied: click<=8.0.4,>=7.0 in /usr/local/lib/python3.7/dist-packages (from ray[tune]) (7.1.2)\n",
            "Requirement already satisfied: jsonschema in /usr/local/lib/python3.7/dist-packages (from ray[tune]) (4.3.3)\n",
            "Requirement already satisfied: frozenlist in /usr/local/lib/python3.7/dist-packages (from ray[tune]) (1.3.1)\n",
            "Requirement already satisfied: numpy>=1.16 in /usr/local/lib/python3.7/dist-packages (from ray[tune]) (1.21.6)\n",
            "Requirement already satisfied: filelock in /usr/local/lib/python3.7/dist-packages (from ray[tune]) (3.8.0)\n",
            "Requirement already satisfied: attrs in /usr/local/lib/python3.7/dist-packages (from ray[tune]) (22.1.0)\n",
            "Requirement already satisfied: typing-extensions in /usr/local/lib/python3.7/dist-packages (from ray[tune]) (4.1.1)\n",
            "Requirement already satisfied: msgpack<2.0.0,>=1.0.0 in /usr/local/lib/python3.7/dist-packages (from ray[tune]) (1.0.4)\n",
            "Requirement already satisfied: requests in /usr/local/lib/python3.7/dist-packages (from ray[tune]) (2.23.0)\n",
            "Requirement already satisfied: virtualenv in /usr/local/lib/python3.7/dist-packages (from ray[tune]) (20.16.6)\n",
            "Requirement already satisfied: pyyaml in /usr/local/lib/python3.7/dist-packages (from ray[tune]) (6.0)\n",
            "Requirement already satisfied: aiosignal in /usr/local/lib/python3.7/dist-packages (from ray[tune]) (1.2.0)\n",
            "Requirement already satisfied: tensorboardX>=1.9 in /usr/local/lib/python3.7/dist-packages (from ray[tune]) (2.5.1)\n",
            "Requirement already satisfied: tabulate in /usr/local/lib/python3.7/dist-packages (from ray[tune]) (0.8.10)\n",
            "Requirement already satisfied: pandas in /usr/local/lib/python3.7/dist-packages (from ray[tune]) (1.3.5)\n",
            "Requirement already satisfied: six>=1.5.2 in /usr/local/lib/python3.7/dist-packages (from grpcio<=1.43.0,>=1.32.0->ray[tune]) (1.15.0)\n",
            "Requirement already satisfied: pyrsistent!=0.17.0,!=0.17.1,!=0.17.2,>=0.14.0 in /usr/local/lib/python3.7/dist-packages (from jsonschema->ray[tune]) (0.18.1)\n",
            "Requirement already satisfied: importlib-resources>=1.4.0 in /usr/local/lib/python3.7/dist-packages (from jsonschema->ray[tune]) (5.10.0)\n",
            "Requirement already satisfied: importlib-metadata in /usr/local/lib/python3.7/dist-packages (from jsonschema->ray[tune]) (4.13.0)\n",
            "Requirement already satisfied: zipp>=3.1.0 in /usr/local/lib/python3.7/dist-packages (from importlib-resources>=1.4.0->jsonschema->ray[tune]) (3.10.0)\n",
            "Requirement already satisfied: pytz>=2017.3 in /usr/local/lib/python3.7/dist-packages (from pandas->ray[tune]) (2022.5)\n",
            "Requirement already satisfied: python-dateutil>=2.7.3 in /usr/local/lib/python3.7/dist-packages (from pandas->ray[tune]) (2.8.2)\n",
            "Requirement already satisfied: chardet<4,>=3.0.2 in /usr/local/lib/python3.7/dist-packages (from requests->ray[tune]) (3.0.4)\n",
            "Requirement already satisfied: idna<3,>=2.5 in /usr/local/lib/python3.7/dist-packages (from requests->ray[tune]) (2.10)\n",
            "Requirement already satisfied: urllib3!=1.25.0,!=1.25.1,<1.26,>=1.21.1 in /usr/local/lib/python3.7/dist-packages (from requests->ray[tune]) (1.24.3)\n",
            "Requirement already satisfied: certifi>=2017.4.17 in /usr/local/lib/python3.7/dist-packages (from requests->ray[tune]) (2022.9.24)\n",
            "Requirement already satisfied: distlib<1,>=0.3.6 in /usr/local/lib/python3.7/dist-packages (from virtualenv->ray[tune]) (0.3.6)\n",
            "Requirement already satisfied: platformdirs<3,>=2.4 in /usr/local/lib/python3.7/dist-packages (from virtualenv->ray[tune]) (2.5.2)\n"
          ]
        }
      ]
    },
    {
      "cell_type": "markdown",
      "source": [
        "## Import necessary libraries"
      ],
      "metadata": {
        "id": "4j72gNlzLwNQ"
      }
    },
    {
      "cell_type": "code",
      "source": [
        "import time\n",
        "import numpy as np\n",
        "import os\n",
        "import torch\n",
        "import torch.nn as nn\n",
        "import torch.optim as optim\n",
        "from cords.utils.data.datasets.SL import gen_dataset\n",
        "from torch.utils.data import Subset\n",
        "from cords.utils.config_utils import load_config_data\n",
        "import os.path as osp\n",
        "from cords.utils.data.data_utils import WeightedSubset\n",
        "from ray import tune"
      ],
      "metadata": {
        "id": "Z_f8ilQ6LxoM"
      },
      "execution_count": null,
      "outputs": []
    },
    {
      "cell_type": "markdown",
      "source": [
        "## Loading the CIFAR10 dataset"
      ],
      "metadata": {
        "id": "KZPvWsLpMJyj"
      }
    },
    {
      "cell_type": "code",
      "source": [
        "trainset, validset, testset, num_cls = gen_dataset('data/', 'cifar10', None, isnumpy=False)"
      ],
      "metadata": {
        "colab": {
          "base_uri": "https://localhost:8080/"
        },
        "id": "pHVmleWFMK7M",
        "outputId": "8929c41e-02bd-4d30-a55d-7424cad438a1"
      },
      "execution_count": null,
      "outputs": [
        {
          "output_type": "stream",
          "name": "stdout",
          "text": [
            "Files already downloaded and verified\n",
            "Files already downloaded and verified\n"
          ]
        }
      ]
    },
    {
      "cell_type": "markdown",
      "source": [
        "## Create dataloaders"
      ],
      "metadata": {
        "id": "6baiIe94MXYr"
      }
    },
    {
      "cell_type": "code",
      "source": [
        "trn_batch_size = 20\n",
        "val_batch_size = 20\n",
        "tst_batch_size = 1200\n",
        "\n",
        "# Creating the Data Loaders\n",
        "trainloader = torch.utils.data.DataLoader(trainset, batch_size=trn_batch_size,\n",
        "                                          shuffle=False, pin_memory=True)\n",
        "\n",
        "valloader = torch.utils.data.DataLoader(validset, batch_size=val_batch_size,\n",
        "                                        shuffle=False, pin_memory=True)\n",
        "\n",
        "testloader = torch.utils.data.DataLoader(testset, batch_size=tst_batch_size,\n",
        "                                          shuffle=False, pin_memory=True)"
      ],
      "metadata": {
        "id": "0SKr5iCKMYa3"
      },
      "execution_count": null,
      "outputs": []
    },
    {
      "cell_type": "markdown",
      "source": [
        "## Defining Model"
      ],
      "metadata": {
        "id": "OtG-iKsbMfbA"
      }
    },
    {
      "cell_type": "code",
      "source": [
        "from cords.utils.models import ResNet18\n",
        "numclasses = 10\n",
        "device = 'cuda' #Device Argument\n",
        "model = ResNet18(10)\n",
        "model = model.to(device)"
      ],
      "metadata": {
        "id": "M3XKJY2IMgaz"
      },
      "execution_count": null,
      "outputs": []
    },
    {
      "cell_type": "markdown",
      "source": [
        "## Defining Loss Functions"
      ],
      "metadata": {
        "id": "ZnASL0dYNv54"
      }
    },
    {
      "cell_type": "code",
      "source": [
        "criterion = nn.CrossEntropyLoss()\n",
        "criterion_nored = nn.CrossEntropyLoss(reduction='none')"
      ],
      "metadata": {
        "id": "17Q0XPVDNxnG"
      },
      "execution_count": null,
      "outputs": []
    },
    {
      "cell_type": "markdown",
      "source": [
        "## Cumulative time calculation"
      ],
      "metadata": {
        "id": "ggc-89lfN0Dh"
      }
    },
    {
      "cell_type": "code",
      "source": [
        "def generate_cumulative_timing(mod_timing):\n",
        "    tmp = 0\n",
        "    mod_cum_timing = np.zeros(len(mod_timing))\n",
        "    for i in range(len(mod_timing)):\n",
        "        tmp += mod_timing[i]\n",
        "        mod_cum_timing[i] = tmp\n",
        "    return mod_cum_timing / 3600"
      ],
      "metadata": {
        "id": "p2AoNY8vObdo"
      },
      "execution_count": null,
      "outputs": []
    },
    {
      "cell_type": "markdown",
      "source": [
        "## Defining Optimizers and schedulers"
      ],
      "metadata": {
        "id": "F3a2qGlcOp-4"
      }
    },
    {
      "cell_type": "code",
      "source": [
        "optimizer = optim.SGD(model.parameters(), lr=1e-2,\n",
        "                                  momentum=0.9,\n",
        "                                  weight_decay=5e-4,\n",
        "                                  nesterov=False)\n",
        "\n",
        "#T_max is the maximum number of scheduler steps. Here we are using the number of epochs as the maximum number of scheduler steps.\n",
        "\n",
        "scheduler = torch.optim.lr_scheduler.CosineAnnealingLR(optimizer,\n",
        "                                                       T_max=300)"
      ],
      "metadata": {
        "id": "IWXujMi3OrJh"
      },
      "execution_count": null,
      "outputs": []
    },
    {
      "cell_type": "markdown",
      "source": [
        "## Get logger object for logging"
      ],
      "metadata": {
        "id": "bX-zgL1YOz8F"
      }
    },
    {
      "cell_type": "code",
      "source": [
        "def __get_logger(results_dir):\n",
        "  os.makedirs(results_dir, exist_ok=True)\n",
        "  # setup logger\n",
        "  plain_formatter = logging.Formatter(\"[%(asctime)s] %(name)s %(levelname)s: %(message)s\",\n",
        "                                      datefmt=\"%m/%d %H:%M:%S\")\n",
        "  logger = logging.getLogger(__name__)\n",
        "  logger.setLevel(logging.INFO)\n",
        "  s_handler = logging.StreamHandler(stream=sys.stdout)\n",
        "  s_handler.setFormatter(plain_formatter)\n",
        "  s_handler.setLevel(logging.INFO)\n",
        "  logger.addHandler(s_handler)\n",
        "  f_handler = logging.FileHandler(os.path.join(results_dir, \"results.log\"))\n",
        "  f_handler.setFormatter(plain_formatter)\n",
        "  f_handler.setLevel(logging.DEBUG)\n",
        "  logger.addHandler(f_handler)\n",
        "  logger.propagate = False\n",
        "  return logger"
      ],
      "metadata": {
        "id": "gccZKpIGO2dC"
      },
      "execution_count": null,
      "outputs": []
    },
    {
      "cell_type": "markdown",
      "source": [
        "## Instantiating logger file for logging the information"
      ],
      "metadata": {
        "id": "6XfQ_qQtO6-1"
      }
    },
    {
      "cell_type": "code",
      "source": [
        "import logging\n",
        "import os\n",
        "import os.path as osp\n",
        "import sys\n",
        "\n",
        "#Results logging directory\n",
        "results_dir = osp.abspath(osp.expanduser('results'))\n",
        "logger = __get_logger(results_dir)"
      ],
      "metadata": {
        "id": "G2TyxyoNO8Pc"
      },
      "execution_count": null,
      "outputs": []
    },
    {
      "cell_type": "markdown",
      "source": [
        "## Instantiating CRAIG subset selection dataloaders"
      ],
      "metadata": {
        "id": "saz-i-J-PENj"
      }
    },
    {
      "cell_type": "code",
      "source": [
        "from cords.utils.data.dataloader.SL.adaptive import CRAIGDataLoader\n",
        "from dotmap import DotMap\n",
        "\n",
        "selection_strategy = 'CRAIG'\n",
        "dss_args = dict(model=model,\n",
        "                loss=criterion_nored,\n",
        "                eta=0.1,\n",
        "                num_classes=10,\n",
        "                num_epochs=100,\n",
        "                device='cuda',\n",
        "                fraction=0.7,\n",
        "                select_every=20,\n",
        "                kappa=0,\n",
        "                linear_layer=False,\n",
        "                selection_type='SL',\n",
        "                optimizer= optimizer,\n",
        "                if_convex=False)\n",
        "\n",
        "dss_args = DotMap(dss_args)\n",
        "\n",
        "dataloader = CRAIGDataLoader(trainloader, valloader, dss_args, logger, \n",
        "                                  batch_size=20,\n",
        "                                  shuffle=False,\n",
        "                                  pin_memory=False)"
      ],
      "metadata": {
        "colab": {
          "base_uri": "https://localhost:8080/"
        },
        "id": "ksPpDXWkPHWX",
        "outputId": "9ad77163-ea4d-4085-e597-a184ef74adb7"
      },
      "execution_count": null,
      "outputs": [
        {
          "output_type": "stream",
          "name": "stdout",
          "text": [
            "[11/03 06:00:40] __main__ INFO: CRAIG dataloader initialized. \n"
          ]
        }
      ]
    },
    {
      "cell_type": "markdown",
      "source": [
        "## Arguments for training and evaluation"
      ],
      "metadata": {
        "id": "XzbnBGW_Pcjh"
      }
    },
    {
      "cell_type": "code",
      "source": [
        "#Training Arguments\n",
        "num_epochs = 100\n",
        "\n",
        "#Arguments for results logging\n",
        "print_every = 1\n",
        "print_args = [\"val_loss\", \"val_acc\", \"tst_loss\", \"tst_acc\", \"time\"]\n",
        "\n",
        "#Evaluation Metrics\n",
        "trn_losses = list()\n",
        "val_losses = list()\n",
        "tst_losses = list()\n",
        "subtrn_losses = list()\n",
        "timing = list()\n",
        "trn_acc = list()\n",
        "val_acc = list()  \n",
        "tst_acc = list()  \n",
        "subtrn_acc = list()"
      ],
      "metadata": {
        "id": "uBPOrShqPe51"
      },
      "execution_count": null,
      "outputs": []
    },
    {
      "cell_type": "markdown",
      "source": [
        "## Training loop with evaluation"
      ],
      "metadata": {
        "id": "6XHjYCoDPoLO"
      }
    },
    {
      "cell_type": "code",
      "source": [
        "#Training Loop\n",
        "for epoch in range(num_epochs):\n",
        "    subtrn_loss = 0\n",
        "    subtrn_correct = 0\n",
        "    subtrn_total = 0\n",
        "    model.train()\n",
        "    start_time = time.time()\n",
        "    for _, (inputs, targets, weights) in enumerate(dataloader):\n",
        "        inputs = inputs.to(device)\n",
        "        targets = targets.to(device, non_blocking=True)\n",
        "        weights = weights.to(device)  \n",
        "        optimizer.zero_grad()\n",
        "        outputs = model(inputs)\n",
        "        losses = criterion_nored(outputs, targets)\n",
        "        loss = torch.dot(losses, weights/(weights.sum()))\n",
        "        loss.backward()\n",
        "        subtrn_loss += loss.item()\n",
        "        optimizer.step()\n",
        "        _, predicted = outputs.max(1)\n",
        "        subtrn_total += targets.size(0)\n",
        "        subtrn_correct += predicted.eq(targets).sum().item()\n",
        "    epoch_time = time.time() - start_time\n",
        "    scheduler.step()\n",
        "    timing.append(epoch_time)\n",
        "\n",
        "    #Evaluation Loop\n",
        "    if (epoch + 1) % print_every == 0:\n",
        "        trn_loss = 0\n",
        "        trn_correct = 0\n",
        "        trn_total = 0\n",
        "        val_loss = 0\n",
        "        val_correct = 0\n",
        "        val_total = 0\n",
        "        tst_correct = 0\n",
        "        tst_total = 0\n",
        "        tst_loss = 0\n",
        "        model.eval()\n",
        "\n",
        "        if (\"trn_loss\" in print_args) or (\"trn_acc\" in print_args):\n",
        "            with torch.no_grad():\n",
        "                for _, (inputs, targets) in enumerate(trainloader):\n",
        "                    inputs, targets = inputs.to(device), \\\n",
        "                                      targets.to(device, non_blocking=True)\n",
        "                    outputs = model(inputs)\n",
        "                    loss = criterion(outputs, targets)\n",
        "                    trn_loss += loss.item()\n",
        "                    if \"trn_acc\" in print_args:\n",
        "                        _, predicted = outputs.max(1)\n",
        "                        trn_total += targets.size(0)\n",
        "                        trn_correct += predicted.eq(targets).sum().item()\n",
        "                trn_losses.append(trn_loss)\n",
        "\n",
        "            if \"trn_acc\" in print_args:\n",
        "                trn_acc.append(trn_correct / trn_total)\n",
        "\n",
        "        if (\"val_loss\" in print_args) or (\"val_acc\" in print_args):\n",
        "            with torch.no_grad():\n",
        "                for _, (inputs, targets) in enumerate(valloader):\n",
        "                    inputs, targets = inputs.to(device), \\\n",
        "                                      targets.to(device, non_blocking=True)\n",
        "                    outputs = model(inputs)\n",
        "                    loss = criterion(outputs, targets)\n",
        "                    val_loss += loss.item()\n",
        "                    if \"val_acc\" in print_args:\n",
        "                        _, predicted = outputs.max(1)\n",
        "                        val_total += targets.size(0)\n",
        "                        val_correct += predicted.eq(targets).sum().item()\n",
        "                val_losses.append(val_loss)\n",
        "\n",
        "            if \"val_acc\" in print_args:\n",
        "                val_acc.append(val_correct / val_total)\n",
        "\n",
        "        if (\"tst_loss\" in print_args) or (\"tst_acc\" in print_args):\n",
        "            with torch.no_grad():\n",
        "                for _, (inputs, targets) in enumerate(testloader):\n",
        "                    inputs, targets = inputs.to(device), \\\n",
        "                                      targets.to(device, non_blocking=True)\n",
        "                    outputs = model(inputs)\n",
        "                    loss = criterion(outputs, targets)\n",
        "                    tst_loss += loss.item()\n",
        "                    if \"tst_acc\" in print_args:\n",
        "                        _, predicted = outputs.max(1)\n",
        "                        tst_total += targets.size(0)\n",
        "                        tst_correct += predicted.eq(targets).sum().item()\n",
        "                tst_losses.append(tst_loss)\n",
        "\n",
        "            if \"tst_acc\" in print_args:\n",
        "                tst_acc.append(tst_correct / tst_total)\n",
        "\n",
        "        if \"subtrn_acc\" in print_args:\n",
        "            subtrn_acc.append(subtrn_correct / subtrn_total)\n",
        "\n",
        "        if \"subtrn_losses\" in print_args:\n",
        "            subtrn_losses.append(subtrn_loss)\n",
        "\n",
        "        print_str = \"Epoch: \" + str(epoch + 1)\n",
        "\n",
        "        #Results Printing\n",
        "        for arg in print_args:\n",
        "\n",
        "            if arg == \"val_loss\":\n",
        "                print_str += \" , \" + \"Validation Loss: \" + str(val_losses[-1])\n",
        "\n",
        "            if arg == \"val_acc\":\n",
        "                print_str += \" , \" + \"Validation Accuracy: \" + str(val_acc[-1])\n",
        "\n",
        "            if arg == \"tst_loss\":\n",
        "                print_str += \" , \" + \"Test Loss: \" + str(tst_losses[-1])\n",
        "\n",
        "            if arg == \"tst_acc\":\n",
        "                print_str += \" , \" + \"Test Accuracy: \" + str(tst_acc[-1])\n",
        "\n",
        "            if arg == \"trn_loss\":\n",
        "                print_str += \" , \" + \"Training Loss: \" + str(trn_losses[-1])\n",
        "\n",
        "            if arg == \"trn_acc\":\n",
        "                print_str += \" , \" + \"Training Accuracy: \" + str(trn_acc[-1])\n",
        "\n",
        "            if arg == \"subtrn_loss\":\n",
        "                print_str += \" , \" + \"Subset Loss: \" + str(subtrn_losses[-1])\n",
        "\n",
        "            if arg == \"subtrn_acc\":\n",
        "                print_str += \" , \" + \"Subset Accuracy: \" + str(subtrn_acc[-1])\n",
        "\n",
        "            if arg == \"time\":\n",
        "                print_str += \" , \" + \"Timing: \" + str(timing[-1])\n",
        "\n",
        "        logger.info(print_str)"
      ],
      "metadata": {
        "colab": {
          "base_uri": "https://localhost:8080/"
        },
        "id": "7_QW0M9SPsgV",
        "outputId": "a69d7cb5-a59f-496d-acf1-d050beb07abb"
      },
      "execution_count": null,
      "outputs": [
        {
          "output_type": "stream",
          "name": "stdout",
          "text": [
            "[11/03 06:01:22] __main__ INFO: Epoch: 1 , Validation Loss: 377.59398007392883 , Validation Accuracy: 0.4548 , Test Loss: 13.461283683776855 , Test Accuracy: 0.4576 , Timing: 36.508063316345215\n",
            "[11/03 06:02:01] __main__ INFO: Epoch: 2 , Validation Loss: 296.3963176012039 , Validation Accuracy: 0.583 , Test Loss: 10.93982744216919 , Test Accuracy: 0.5779 , Timing: 34.05008864402771\n",
            "[11/03 06:02:41] __main__ INFO: Epoch: 3 , Validation Loss: 225.70920178294182 , Validation Accuracy: 0.6796 , Test Loss: 8.050273776054382 , Test Accuracy: 0.6872 , Timing: 34.29865622520447\n",
            "[11/03 06:03:21] __main__ INFO: Epoch: 4 , Validation Loss: 204.96959680318832 , Validation Accuracy: 0.7082 , Test Loss: 7.585597097873688 , Test Accuracy: 0.7105 , Timing: 34.47122049331665\n",
            "[11/03 06:04:00] __main__ INFO: Epoch: 5 , Validation Loss: 195.94237315654755 , Validation Accuracy: 0.7182 , Test Loss: 7.557261407375336 , Test Accuracy: 0.7187 , Timing: 33.91706132888794\n",
            "[11/03 06:04:39] __main__ INFO: Epoch: 6 , Validation Loss: 163.04442444443703 , Validation Accuracy: 0.7634 , Test Loss: 5.802726686000824 , Test Accuracy: 0.7816 , Timing: 34.009501218795776\n",
            "[11/03 06:05:18] __main__ INFO: Epoch: 7 , Validation Loss: 166.38469077646732 , Validation Accuracy: 0.7636 , Test Loss: 6.126619935035706 , Test Accuracy: 0.77 , Timing: 34.10031843185425\n",
            "[11/03 06:05:58] __main__ INFO: Epoch: 8 , Validation Loss: 150.51377575099468 , Validation Accuracy: 0.7844 , Test Loss: 5.310174107551575 , Test Accuracy: 0.7976 , Timing: 34.183472633361816\n",
            "[11/03 06:06:37] __main__ INFO: Epoch: 9 , Validation Loss: 138.4006481319666 , Validation Accuracy: 0.8074 , Test Loss: 5.054886519908905 , Test Accuracy: 0.8077 , Timing: 33.798715114593506\n",
            "[11/03 06:07:16] __main__ INFO: Epoch: 10 , Validation Loss: 132.50968142598867 , Validation Accuracy: 0.816 , Test Loss: 4.917551636695862 , Test Accuracy: 0.814 , Timing: 34.06925368309021\n",
            "[11/03 06:07:56] __main__ INFO: Epoch: 11 , Validation Loss: 131.36820433288813 , Validation Accuracy: 0.8172 , Test Loss: 4.89593118429184 , Test Accuracy: 0.8112 , Timing: 34.617571115493774\n",
            "[11/03 06:08:36] __main__ INFO: Epoch: 12 , Validation Loss: 124.93425334244967 , Validation Accuracy: 0.8312 , Test Loss: 4.490009754896164 , Test Accuracy: 0.8337 , Timing: 34.39828062057495\n",
            "[11/03 06:09:15] __main__ INFO: Epoch: 13 , Validation Loss: 127.5316245034337 , Validation Accuracy: 0.8266 , Test Loss: 4.40805247426033 , Test Accuracy: 0.835 , Timing: 33.92614984512329\n",
            "[11/03 06:09:54] __main__ INFO: Epoch: 14 , Validation Loss: 122.09055449068546 , Validation Accuracy: 0.8332 , Test Loss: 4.565168350934982 , Test Accuracy: 0.8321 , Timing: 34.04586744308472\n",
            "[11/03 06:10:33] __main__ INFO: Epoch: 15 , Validation Loss: 110.0575512200594 , Validation Accuracy: 0.8478 , Test Loss: 3.9104877412319183 , Test Accuracy: 0.8514 , Timing: 34.1530601978302\n",
            "[11/03 06:11:13] __main__ INFO: Epoch: 16 , Validation Loss: 114.1431410908699 , Validation Accuracy: 0.8444 , Test Loss: 4.211743354797363 , Test Accuracy: 0.8453 , Timing: 34.085023641586304\n",
            "[11/03 06:11:52] __main__ INFO: Epoch: 17 , Validation Loss: 120.85776949673891 , Validation Accuracy: 0.829 , Test Loss: 4.159959554672241 , Test Accuracy: 0.8436 , Timing: 33.8846480846405\n",
            "[11/03 06:12:31] __main__ INFO: Epoch: 18 , Validation Loss: 131.95752131938934 , Validation Accuracy: 0.8196 , Test Loss: 4.769394725561142 , Test Accuracy: 0.8307 , Timing: 34.23741912841797\n",
            "[11/03 06:13:11] __main__ INFO: Epoch: 19 , Validation Loss: 129.4289794266224 , Validation Accuracy: 0.8274 , Test Loss: 4.730774462223053 , Test Accuracy: 0.8265 , Timing: 34.59441828727722\n",
            "[11/03 06:13:50] __main__ INFO: Epoch: 20 , Validation Loss: 122.57416535168886 , Validation Accuracy: 0.8388 , Test Loss: 4.225276172161102 , Test Accuracy: 0.8504 , Timing: 34.25067639350891\n",
            "[11/03 06:13:50] __main__ INFO: Epoch: 21, requires subset selection. \n",
            "[11/03 06:14:08] __main__ INFO: Epoch: 21, subset selection finished, takes 17.8030. \n",
            "[11/03 06:14:13] __main__ INFO: Epoch: 21 , Validation Loss: 120.87655597925186 , Validation Accuracy: 0.8378 , Test Loss: 4.225276172161102 , Test Accuracy: 0.8504 , Timing: 17.80641746520996\n",
            "[11/03 06:14:19] __main__ INFO: Epoch: 22 , Validation Loss: 120.28816090524197 , Validation Accuracy: 0.8418 , Test Loss: 4.225276172161102 , Test Accuracy: 0.8504 , Timing: 0.0004012584686279297\n",
            "[11/03 06:14:24] __main__ INFO: Epoch: 23 , Validation Loss: 121.81418689340353 , Validation Accuracy: 0.838 , Test Loss: 4.225276172161102 , Test Accuracy: 0.8504 , Timing: 0.0005943775177001953\n",
            "[11/03 06:14:29] __main__ INFO: Epoch: 24 , Validation Loss: 120.99414783716202 , Validation Accuracy: 0.8398 , Test Loss: 4.225276172161102 , Test Accuracy: 0.8504 , Timing: 0.0005898475646972656\n",
            "[11/03 06:14:34] __main__ INFO: Epoch: 25 , Validation Loss: 119.87439089640975 , Validation Accuracy: 0.8414 , Test Loss: 4.225276172161102 , Test Accuracy: 0.8504 , Timing: 0.0002982616424560547\n",
            "[11/03 06:14:40] __main__ INFO: Epoch: 26 , Validation Loss: 121.43233240395784 , Validation Accuracy: 0.8428 , Test Loss: 4.225276172161102 , Test Accuracy: 0.8504 , Timing: 0.00046753883361816406\n",
            "[11/03 06:14:45] __main__ INFO: Epoch: 27 , Validation Loss: 120.940439555794 , Validation Accuracy: 0.837 , Test Loss: 4.225276172161102 , Test Accuracy: 0.8504 , Timing: 0.00041556358337402344\n",
            "[11/03 06:14:50] __main__ INFO: Epoch: 28 , Validation Loss: 116.73200169578195 , Validation Accuracy: 0.841 , Test Loss: 4.225276172161102 , Test Accuracy: 0.8504 , Timing: 0.0011014938354492188\n",
            "[11/03 06:14:55] __main__ INFO: Epoch: 29 , Validation Loss: 121.764469653368 , Validation Accuracy: 0.8366 , Test Loss: 4.225276172161102 , Test Accuracy: 0.8504 , Timing: 0.001102447509765625\n",
            "[11/03 06:15:01] __main__ INFO: Epoch: 30 , Validation Loss: 119.31809049844742 , Validation Accuracy: 0.8426 , Test Loss: 4.225276172161102 , Test Accuracy: 0.8504 , Timing: 0.0008046627044677734\n",
            "[11/03 06:15:06] __main__ INFO: Epoch: 31 , Validation Loss: 120.25765497982502 , Validation Accuracy: 0.8422 , Test Loss: 4.225276172161102 , Test Accuracy: 0.8504 , Timing: 0.0006465911865234375\n",
            "[11/03 06:15:11] __main__ INFO: Epoch: 32 , Validation Loss: 119.22352922707796 , Validation Accuracy: 0.8422 , Test Loss: 4.225276172161102 , Test Accuracy: 0.8504 , Timing: 0.0008249282836914062\n",
            "[11/03 06:15:16] __main__ INFO: Epoch: 33 , Validation Loss: 119.12851981818676 , Validation Accuracy: 0.8446 , Test Loss: 4.225276172161102 , Test Accuracy: 0.8504 , Timing: 0.00044798851013183594\n",
            "[11/03 06:15:21] __main__ INFO: Epoch: 34 , Validation Loss: 123.9655617363751 , Validation Accuracy: 0.8358 , Test Loss: 4.225276172161102 , Test Accuracy: 0.8504 , Timing: 0.0003459453582763672\n",
            "[11/03 06:15:26] __main__ INFO: Epoch: 35 , Validation Loss: 120.06841969117522 , Validation Accuracy: 0.84 , Test Loss: 4.225276172161102 , Test Accuracy: 0.8504 , Timing: 0.00018310546875\n",
            "[11/03 06:15:33] __main__ INFO: Epoch: 36 , Validation Loss: 122.39086532965302 , Validation Accuracy: 0.8324 , Test Loss: 4.225276172161102 , Test Accuracy: 0.8504 , Timing: 0.0007350444793701172\n",
            "[11/03 06:15:38] __main__ INFO: Epoch: 37 , Validation Loss: 121.76682288199663 , Validation Accuracy: 0.8392 , Test Loss: 4.225276172161102 , Test Accuracy: 0.8504 , Timing: 0.0005955696105957031\n",
            "[11/03 06:15:43] __main__ INFO: Epoch: 38 , Validation Loss: 118.57554379105568 , Validation Accuracy: 0.8394 , Test Loss: 4.225276172161102 , Test Accuracy: 0.8504 , Timing: 0.0009043216705322266\n",
            "[11/03 06:15:48] __main__ INFO: Epoch: 39 , Validation Loss: 120.83166349306703 , Validation Accuracy: 0.8408 , Test Loss: 4.225276172161102 , Test Accuracy: 0.8504 , Timing: 0.000446319580078125\n",
            "[11/03 06:15:53] __main__ INFO: Epoch: 40 , Validation Loss: 120.38463928550482 , Validation Accuracy: 0.8404 , Test Loss: 4.225276172161102 , Test Accuracy: 0.8504 , Timing: 0.0008082389831542969\n",
            "[11/03 06:15:53] __main__ INFO: Epoch: 41, requires subset selection. \n",
            "[11/03 06:16:11] __main__ INFO: Epoch: 41, subset selection finished, takes 17.7091. \n",
            "[11/03 06:16:16] __main__ INFO: Epoch: 41 , Validation Loss: 123.60110625624657 , Validation Accuracy: 0.8362 , Test Loss: 4.225276172161102 , Test Accuracy: 0.8504 , Timing: 17.712207078933716\n",
            "[11/03 06:16:21] __main__ INFO: Epoch: 42 , Validation Loss: 118.40104532241821 , Validation Accuracy: 0.8404 , Test Loss: 4.225276172161102 , Test Accuracy: 0.8504 , Timing: 0.0007889270782470703\n",
            "[11/03 06:16:27] __main__ INFO: Epoch: 43 , Validation Loss: 118.74602499231696 , Validation Accuracy: 0.8416 , Test Loss: 4.225276172161102 , Test Accuracy: 0.8504 , Timing: 0.0005686283111572266\n",
            "[11/03 06:16:33] __main__ INFO: Epoch: 44 , Validation Loss: 120.45265505835414 , Validation Accuracy: 0.8386 , Test Loss: 4.225276172161102 , Test Accuracy: 0.8504 , Timing: 0.0003364086151123047\n",
            "[11/03 06:16:38] __main__ INFO: Epoch: 45 , Validation Loss: 122.64421508833766 , Validation Accuracy: 0.8384 , Test Loss: 4.225276172161102 , Test Accuracy: 0.8504 , Timing: 0.0009284019470214844\n",
            "[11/03 06:16:43] __main__ INFO: Epoch: 46 , Validation Loss: 121.95985419675708 , Validation Accuracy: 0.8374 , Test Loss: 4.225276172161102 , Test Accuracy: 0.8504 , Timing: 0.0006012916564941406\n",
            "[11/03 06:16:48] __main__ INFO: Epoch: 47 , Validation Loss: 121.58101626858115 , Validation Accuracy: 0.8322 , Test Loss: 4.225276172161102 , Test Accuracy: 0.8504 , Timing: 0.0005679130554199219\n",
            "[11/03 06:16:53] __main__ INFO: Epoch: 48 , Validation Loss: 122.1727778762579 , Validation Accuracy: 0.84 , Test Loss: 4.225276172161102 , Test Accuracy: 0.8504 , Timing: 0.000990152359008789\n",
            "[11/03 06:16:58] __main__ INFO: Epoch: 49 , Validation Loss: 122.10986694321036 , Validation Accuracy: 0.8376 , Test Loss: 4.225276172161102 , Test Accuracy: 0.8504 , Timing: 0.0009322166442871094\n",
            "[11/03 06:17:03] __main__ INFO: Epoch: 50 , Validation Loss: 120.1193590015173 , Validation Accuracy: 0.8406 , Test Loss: 4.225276172161102 , Test Accuracy: 0.8504 , Timing: 0.0006854534149169922\n",
            "[11/03 06:17:09] __main__ INFO: Epoch: 51 , Validation Loss: 122.65134850144386 , Validation Accuracy: 0.8404 , Test Loss: 4.225276172161102 , Test Accuracy: 0.8504 , Timing: 0.0001964569091796875\n",
            "[11/03 06:17:14] __main__ INFO: Epoch: 52 , Validation Loss: 120.56389373913407 , Validation Accuracy: 0.838 , Test Loss: 4.225276172161102 , Test Accuracy: 0.8504 , Timing: 0.0007367134094238281\n",
            "[11/03 06:17:20] __main__ INFO: Epoch: 53 , Validation Loss: 120.47534585371614 , Validation Accuracy: 0.8388 , Test Loss: 4.225276172161102 , Test Accuracy: 0.8504 , Timing: 0.0008578300476074219\n",
            "[11/03 06:17:25] __main__ INFO: Epoch: 54 , Validation Loss: 121.95154670625925 , Validation Accuracy: 0.8406 , Test Loss: 4.225276172161102 , Test Accuracy: 0.8504 , Timing: 0.0006635189056396484\n",
            "[11/03 06:17:32] __main__ INFO: Epoch: 55 , Validation Loss: 120.58268240094185 , Validation Accuracy: 0.839 , Test Loss: 4.225276172161102 , Test Accuracy: 0.8504 , Timing: 0.0008709430694580078\n",
            "[11/03 06:17:37] __main__ INFO: Epoch: 56 , Validation Loss: 120.17873494327068 , Validation Accuracy: 0.843 , Test Loss: 4.225276172161102 , Test Accuracy: 0.8504 , Timing: 0.0002665519714355469\n",
            "[11/03 06:17:42] __main__ INFO: Epoch: 57 , Validation Loss: 118.01360891014338 , Validation Accuracy: 0.8418 , Test Loss: 4.225276172161102 , Test Accuracy: 0.8504 , Timing: 0.0006282329559326172\n",
            "[11/03 06:17:47] __main__ INFO: Epoch: 58 , Validation Loss: 119.48938731662929 , Validation Accuracy: 0.8416 , Test Loss: 4.225276172161102 , Test Accuracy: 0.8504 , Timing: 0.0004172325134277344\n",
            "[11/03 06:17:52] __main__ INFO: Epoch: 59 , Validation Loss: 121.29124305769801 , Validation Accuracy: 0.8422 , Test Loss: 4.225276172161102 , Test Accuracy: 0.8504 , Timing: 0.000759124755859375\n",
            "[11/03 06:17:57] __main__ INFO: Epoch: 60 , Validation Loss: 123.00761244818568 , Validation Accuracy: 0.8412 , Test Loss: 4.225276172161102 , Test Accuracy: 0.8504 , Timing: 0.0006244182586669922\n",
            "[11/03 06:17:57] __main__ INFO: Epoch: 61, requires subset selection. \n",
            "[11/03 06:18:16] __main__ INFO: Epoch: 61, subset selection finished, takes 18.8494. \n",
            "[11/03 06:18:21] __main__ INFO: Epoch: 61 , Validation Loss: 123.08127640932798 , Validation Accuracy: 0.8338 , Test Loss: 4.225276172161102 , Test Accuracy: 0.8504 , Timing: 18.852158784866333\n",
            "[11/03 06:18:27] __main__ INFO: Epoch: 62 , Validation Loss: 120.74819681793451 , Validation Accuracy: 0.84 , Test Loss: 4.225276172161102 , Test Accuracy: 0.8504 , Timing: 0.000637054443359375\n",
            "[11/03 06:18:32] __main__ INFO: Epoch: 63 , Validation Loss: 120.57861209660769 , Validation Accuracy: 0.8382 , Test Loss: 4.225276172161102 , Test Accuracy: 0.8504 , Timing: 0.0006039142608642578\n",
            "[11/03 06:18:37] __main__ INFO: Epoch: 64 , Validation Loss: 121.96204855293036 , Validation Accuracy: 0.8352 , Test Loss: 4.225276172161102 , Test Accuracy: 0.8504 , Timing: 0.0010936260223388672\n",
            "[11/03 06:18:42] __main__ INFO: Epoch: 65 , Validation Loss: 120.38824807107449 , Validation Accuracy: 0.8384 , Test Loss: 4.225276172161102 , Test Accuracy: 0.8504 , Timing: 0.00044608116149902344\n",
            "[11/03 06:18:47] __main__ INFO: Epoch: 66 , Validation Loss: 124.21746556460857 , Validation Accuracy: 0.8378 , Test Loss: 4.225276172161102 , Test Accuracy: 0.8504 , Timing: 0.0006086826324462891\n",
            "[11/03 06:18:52] __main__ INFO: Epoch: 67 , Validation Loss: 121.76832531392574 , Validation Accuracy: 0.8364 , Test Loss: 4.225276172161102 , Test Accuracy: 0.8504 , Timing: 0.00026535987854003906\n",
            "[11/03 06:18:57] __main__ INFO: Epoch: 68 , Validation Loss: 118.7494546212256 , Validation Accuracy: 0.8362 , Test Loss: 4.225276172161102 , Test Accuracy: 0.8504 , Timing: 0.0009660720825195312\n",
            "[11/03 06:19:03] __main__ INFO: Epoch: 69 , Validation Loss: 119.31131882965565 , Validation Accuracy: 0.8384 , Test Loss: 4.225276172161102 , Test Accuracy: 0.8504 , Timing: 0.0007810592651367188\n",
            "[11/03 06:19:09] __main__ INFO: Epoch: 70 , Validation Loss: 121.35745600610971 , Validation Accuracy: 0.837 , Test Loss: 4.225276172161102 , Test Accuracy: 0.8504 , Timing: 0.0006809234619140625\n",
            "[11/03 06:19:14] __main__ INFO: Epoch: 71 , Validation Loss: 119.21591825783253 , Validation Accuracy: 0.8412 , Test Loss: 4.225276172161102 , Test Accuracy: 0.8504 , Timing: 0.0006890296936035156\n",
            "[11/03 06:19:19] __main__ INFO: Epoch: 72 , Validation Loss: 121.07071670144796 , Validation Accuracy: 0.8436 , Test Loss: 4.225276172161102 , Test Accuracy: 0.8504 , Timing: 0.00015425682067871094\n",
            "[11/03 06:19:24] __main__ INFO: Epoch: 73 , Validation Loss: 120.5796876475215 , Validation Accuracy: 0.8414 , Test Loss: 4.225276172161102 , Test Accuracy: 0.8504 , Timing: 0.0009946823120117188\n",
            "[11/03 06:19:29] __main__ INFO: Epoch: 74 , Validation Loss: 123.1291830316186 , Validation Accuracy: 0.8376 , Test Loss: 4.225276172161102 , Test Accuracy: 0.8504 , Timing: 0.0005352497100830078\n",
            "[11/03 06:19:35] __main__ INFO: Epoch: 75 , Validation Loss: 124.81502107530832 , Validation Accuracy: 0.8356 , Test Loss: 4.225276172161102 , Test Accuracy: 0.8504 , Timing: 0.000461578369140625\n",
            "[11/03 06:19:40] __main__ INFO: Epoch: 76 , Validation Loss: 120.07899215817451 , Validation Accuracy: 0.839 , Test Loss: 4.225276172161102 , Test Accuracy: 0.8504 , Timing: 0.00042128562927246094\n",
            "[11/03 06:19:45] __main__ INFO: Epoch: 77 , Validation Loss: 119.6840530410409 , Validation Accuracy: 0.8428 , Test Loss: 4.225276172161102 , Test Accuracy: 0.8504 , Timing: 0.0005767345428466797\n",
            "[11/03 06:19:50] __main__ INFO: Epoch: 78 , Validation Loss: 123.01169754564762 , Validation Accuracy: 0.8376 , Test Loss: 4.225276172161102 , Test Accuracy: 0.8504 , Timing: 0.0006601810455322266\n",
            "[11/03 06:19:55] __main__ INFO: Epoch: 79 , Validation Loss: 120.79883074015379 , Validation Accuracy: 0.8376 , Test Loss: 4.225276172161102 , Test Accuracy: 0.8504 , Timing: 0.0011124610900878906\n",
            "[11/03 06:20:00] __main__ INFO: Epoch: 80 , Validation Loss: 122.40454974025488 , Validation Accuracy: 0.8366 , Test Loss: 4.225276172161102 , Test Accuracy: 0.8504 , Timing: 0.0006039142608642578\n",
            "[11/03 06:20:00] __main__ INFO: Epoch: 81, requires subset selection. \n",
            "[11/03 06:20:18] __main__ INFO: Epoch: 81, subset selection finished, takes 17.9217. \n",
            "[11/03 06:20:23] __main__ INFO: Epoch: 81 , Validation Loss: 119.75406014919281 , Validation Accuracy: 0.8422 , Test Loss: 4.225276172161102 , Test Accuracy: 0.8504 , Timing: 17.924606800079346\n",
            "[11/03 06:20:29] __main__ INFO: Epoch: 82 , Validation Loss: 122.75283898040652 , Validation Accuracy: 0.8394 , Test Loss: 4.225276172161102 , Test Accuracy: 0.8504 , Timing: 0.0010559558868408203\n",
            "[11/03 06:20:34] __main__ INFO: Epoch: 83 , Validation Loss: 120.31648060306907 , Validation Accuracy: 0.8366 , Test Loss: 4.225276172161102 , Test Accuracy: 0.8504 , Timing: 0.0003027915954589844\n",
            "[11/03 06:20:39] __main__ INFO: Epoch: 84 , Validation Loss: 122.13103643804789 , Validation Accuracy: 0.8364 , Test Loss: 4.225276172161102 , Test Accuracy: 0.8504 , Timing: 0.0005781650543212891\n",
            "[11/03 06:20:44] __main__ INFO: Epoch: 85 , Validation Loss: 120.6521145477891 , Validation Accuracy: 0.8388 , Test Loss: 4.225276172161102 , Test Accuracy: 0.8504 , Timing: 0.0006387233734130859\n",
            "[11/03 06:20:49] __main__ INFO: Epoch: 86 , Validation Loss: 121.52865220978856 , Validation Accuracy: 0.8416 , Test Loss: 4.225276172161102 , Test Accuracy: 0.8504 , Timing: 0.0005834102630615234\n",
            "[11/03 06:20:54] __main__ INFO: Epoch: 87 , Validation Loss: 120.72906313091516 , Validation Accuracy: 0.8422 , Test Loss: 4.225276172161102 , Test Accuracy: 0.8504 , Timing: 0.00037407875061035156\n",
            "[11/03 06:21:00] __main__ INFO: Epoch: 88 , Validation Loss: 120.49561130255461 , Validation Accuracy: 0.8376 , Test Loss: 4.225276172161102 , Test Accuracy: 0.8504 , Timing: 0.0008599758148193359\n",
            "[11/03 06:21:05] __main__ INFO: Epoch: 89 , Validation Loss: 120.23345107957721 , Validation Accuracy: 0.8362 , Test Loss: 4.225276172161102 , Test Accuracy: 0.8504 , Timing: 0.0006814002990722656\n",
            "[11/03 06:21:10] __main__ INFO: Epoch: 90 , Validation Loss: 122.41413635388017 , Validation Accuracy: 0.8416 , Test Loss: 4.225276172161102 , Test Accuracy: 0.8504 , Timing: 0.0002696514129638672\n",
            "[11/03 06:21:16] __main__ INFO: Epoch: 91 , Validation Loss: 123.22998567298055 , Validation Accuracy: 0.839 , Test Loss: 4.225276172161102 , Test Accuracy: 0.8504 , Timing: 0.0002079010009765625\n",
            "[11/03 06:21:21] __main__ INFO: Epoch: 92 , Validation Loss: 121.80344444513321 , Validation Accuracy: 0.8372 , Test Loss: 4.225276172161102 , Test Accuracy: 0.8504 , Timing: 0.0005917549133300781\n",
            "[11/03 06:21:26] __main__ INFO: Epoch: 93 , Validation Loss: 120.68993167579174 , Validation Accuracy: 0.8418 , Test Loss: 4.225276172161102 , Test Accuracy: 0.8504 , Timing: 0.0008494853973388672\n",
            "[11/03 06:21:31] __main__ INFO: Epoch: 94 , Validation Loss: 121.52826258540154 , Validation Accuracy: 0.839 , Test Loss: 4.225276172161102 , Test Accuracy: 0.8504 , Timing: 0.0006222724914550781\n",
            "[11/03 06:21:36] __main__ INFO: Epoch: 95 , Validation Loss: 119.17020915076137 , Validation Accuracy: 0.8392 , Test Loss: 4.225276172161102 , Test Accuracy: 0.8504 , Timing: 0.0007061958312988281\n",
            "[11/03 06:21:41] __main__ INFO: Epoch: 96 , Validation Loss: 121.22286642715335 , Validation Accuracy: 0.8362 , Test Loss: 4.225276172161102 , Test Accuracy: 0.8504 , Timing: 0.0002899169921875\n",
            "[11/03 06:21:47] __main__ INFO: Epoch: 97 , Validation Loss: 123.23194018006325 , Validation Accuracy: 0.8374 , Test Loss: 4.225276172161102 , Test Accuracy: 0.8504 , Timing: 0.00016355514526367188\n",
            "[11/03 06:21:52] __main__ INFO: Epoch: 98 , Validation Loss: 120.51825374364853 , Validation Accuracy: 0.8394 , Test Loss: 4.225276172161102 , Test Accuracy: 0.8504 , Timing: 0.0005872249603271484\n",
            "[11/03 06:21:58] __main__ INFO: Epoch: 99 , Validation Loss: 120.41980446130037 , Validation Accuracy: 0.8414 , Test Loss: 4.225276172161102 , Test Accuracy: 0.8504 , Timing: 0.0009860992431640625\n",
            "[11/03 06:22:03] __main__ INFO: Epoch: 100 , Validation Loss: 122.03276998922229 , Validation Accuracy: 0.839 , Test Loss: 4.225276172161102 , Test Accuracy: 0.8504 , Timing: 0.0007596015930175781\n"
          ]
        }
      ]
    },
    {
      "cell_type": "markdown",
      "source": [
        "## Results Summary"
      ],
      "metadata": {
        "id": "-V7zJ5wfaxT0"
      }
    },
    {
      "cell_type": "code",
      "source": [
        "print(\"CORDS Selection Method: {0:s}\".format(selection_strategy))\n",
        "print(\"Final SubsetTrn: {0:f}\".format(subtrn_loss))\n",
        "if \"val_loss\" in print_args:\n",
        "    if \"val_acc\" in print_args:\n",
        "        print(\"Validation Loss:\", val_loss, \"/ Validation Accuracy:\", val_acc[-1])\n",
        "    else:\n",
        "        print(\"Validation Loss:\", val_loss)\n",
        "\n",
        "if \"tst_loss\" in print_args:\n",
        "    if \"tst_acc\" in print_args:\n",
        "        print(\"Test Loss:\", tst_loss, \"/ Test Accuracy:\", tst_acc[-1])\n",
        "    else:\n",
        "        print(\"Test Data Loss:\", tst_loss)\n",
        "\n",
        "if \"time\" in print_args:\n",
        "    time_str = \"Time, \"\n",
        "    for t in timing:\n",
        "        time_str = time_str + \" , \" + str(t)\n",
        "\n",
        "timing_array = np.array(timing)\n",
        "cum_timing = list(generate_cumulative_timing(timing_array))\n",
        "print(\"Total time taken by\", selection_strategy, \"=\", cum_timing[-1])"
      ],
      "metadata": {
        "colab": {
          "base_uri": "https://localhost:8080/"
        },
        "id": "QfOEhChXayFC",
        "outputId": "bf44804a-424c-456b-9e2e-677df8cf8c28"
      },
      "execution_count": null,
      "outputs": [
        {
          "output_type": "stream",
          "name": "stdout",
          "text": [
            "CORDS Selection Method: CRAIG\n",
            "Final SubsetTrn: 0.000000\n",
            "Validation Loss: 122.03276998922229 / Validation Accuracy: 0.839\n",
            "Test Loss: 4.225276172161102 / Test Accuracy: 0.8504\n",
            "Total time taken by CRAIG = 0.21053955283429887\n"
          ]
        }
      ]
    }
  ]
}