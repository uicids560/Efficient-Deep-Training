{
  "nbformat": 4,
  "nbformat_minor": 0,
  "metadata": {
    "colab": {
      "provenance": [],
      "collapsed_sections": [],
      "machine_shape": "hm",
      "include_colab_link": true
    },
    "kernelspec": {
      "name": "python3",
      "display_name": "Python 3"
    },
    "language_info": {
      "name": "python"
    },
    "accelerator": "GPU",
    "gpuClass": "premium",
    "widgets": {
      "application/vnd.jupyter.widget-state+json": {
        "d9e1c5e573234e40b9994c6b08afdef0": {
          "model_module": "@jupyter-widgets/controls",
          "model_name": "HBoxModel",
          "model_module_version": "1.5.0",
          "state": {
            "_dom_classes": [],
            "_model_module": "@jupyter-widgets/controls",
            "_model_module_version": "1.5.0",
            "_model_name": "HBoxModel",
            "_view_count": null,
            "_view_module": "@jupyter-widgets/controls",
            "_view_module_version": "1.5.0",
            "_view_name": "HBoxView",
            "box_style": "",
            "children": [
              "IPY_MODEL_d05b960b2cb447f2aad53001a62411cf",
              "IPY_MODEL_865289826b654f84a79c1575829d9ba7",
              "IPY_MODEL_34ca87673c0a4d2da1c1a3c5db7e3901"
            ],
            "layout": "IPY_MODEL_3441c8a559a540b6a1aab76a706191f5"
          }
        },
        "d05b960b2cb447f2aad53001a62411cf": {
          "model_module": "@jupyter-widgets/controls",
          "model_name": "HTMLModel",
          "model_module_version": "1.5.0",
          "state": {
            "_dom_classes": [],
            "_model_module": "@jupyter-widgets/controls",
            "_model_module_version": "1.5.0",
            "_model_name": "HTMLModel",
            "_view_count": null,
            "_view_module": "@jupyter-widgets/controls",
            "_view_module_version": "1.5.0",
            "_view_name": "HTMLView",
            "description": "",
            "description_tooltip": null,
            "layout": "IPY_MODEL_cc7a015c81cb4856b6b3d78d8942b9e9",
            "placeholder": "​",
            "style": "IPY_MODEL_504e4bc1c00849deadd13e4b98cb6f1f",
            "value": "100%"
          }
        },
        "865289826b654f84a79c1575829d9ba7": {
          "model_module": "@jupyter-widgets/controls",
          "model_name": "FloatProgressModel",
          "model_module_version": "1.5.0",
          "state": {
            "_dom_classes": [],
            "_model_module": "@jupyter-widgets/controls",
            "_model_module_version": "1.5.0",
            "_model_name": "FloatProgressModel",
            "_view_count": null,
            "_view_module": "@jupyter-widgets/controls",
            "_view_module_version": "1.5.0",
            "_view_name": "ProgressView",
            "bar_style": "success",
            "description": "",
            "description_tooltip": null,
            "layout": "IPY_MODEL_975da7f994ed4230836bc247435470b0",
            "max": 170498071,
            "min": 0,
            "orientation": "horizontal",
            "style": "IPY_MODEL_45c0246f5bf34cf7a9270c7f5086f52b",
            "value": 170498071
          }
        },
        "34ca87673c0a4d2da1c1a3c5db7e3901": {
          "model_module": "@jupyter-widgets/controls",
          "model_name": "HTMLModel",
          "model_module_version": "1.5.0",
          "state": {
            "_dom_classes": [],
            "_model_module": "@jupyter-widgets/controls",
            "_model_module_version": "1.5.0",
            "_model_name": "HTMLModel",
            "_view_count": null,
            "_view_module": "@jupyter-widgets/controls",
            "_view_module_version": "1.5.0",
            "_view_name": "HTMLView",
            "description": "",
            "description_tooltip": null,
            "layout": "IPY_MODEL_025aee7800c74d96b25774e639b5ac3a",
            "placeholder": "​",
            "style": "IPY_MODEL_9ef1c6d6811848ad913cfec8cd10db29",
            "value": " 170498071/170498071 [00:07&lt;00:00, 32008118.73it/s]"
          }
        },
        "3441c8a559a540b6a1aab76a706191f5": {
          "model_module": "@jupyter-widgets/base",
          "model_name": "LayoutModel",
          "model_module_version": "1.2.0",
          "state": {
            "_model_module": "@jupyter-widgets/base",
            "_model_module_version": "1.2.0",
            "_model_name": "LayoutModel",
            "_view_count": null,
            "_view_module": "@jupyter-widgets/base",
            "_view_module_version": "1.2.0",
            "_view_name": "LayoutView",
            "align_content": null,
            "align_items": null,
            "align_self": null,
            "border": null,
            "bottom": null,
            "display": null,
            "flex": null,
            "flex_flow": null,
            "grid_area": null,
            "grid_auto_columns": null,
            "grid_auto_flow": null,
            "grid_auto_rows": null,
            "grid_column": null,
            "grid_gap": null,
            "grid_row": null,
            "grid_template_areas": null,
            "grid_template_columns": null,
            "grid_template_rows": null,
            "height": null,
            "justify_content": null,
            "justify_items": null,
            "left": null,
            "margin": null,
            "max_height": null,
            "max_width": null,
            "min_height": null,
            "min_width": null,
            "object_fit": null,
            "object_position": null,
            "order": null,
            "overflow": null,
            "overflow_x": null,
            "overflow_y": null,
            "padding": null,
            "right": null,
            "top": null,
            "visibility": null,
            "width": null
          }
        },
        "cc7a015c81cb4856b6b3d78d8942b9e9": {
          "model_module": "@jupyter-widgets/base",
          "model_name": "LayoutModel",
          "model_module_version": "1.2.0",
          "state": {
            "_model_module": "@jupyter-widgets/base",
            "_model_module_version": "1.2.0",
            "_model_name": "LayoutModel",
            "_view_count": null,
            "_view_module": "@jupyter-widgets/base",
            "_view_module_version": "1.2.0",
            "_view_name": "LayoutView",
            "align_content": null,
            "align_items": null,
            "align_self": null,
            "border": null,
            "bottom": null,
            "display": null,
            "flex": null,
            "flex_flow": null,
            "grid_area": null,
            "grid_auto_columns": null,
            "grid_auto_flow": null,
            "grid_auto_rows": null,
            "grid_column": null,
            "grid_gap": null,
            "grid_row": null,
            "grid_template_areas": null,
            "grid_template_columns": null,
            "grid_template_rows": null,
            "height": null,
            "justify_content": null,
            "justify_items": null,
            "left": null,
            "margin": null,
            "max_height": null,
            "max_width": null,
            "min_height": null,
            "min_width": null,
            "object_fit": null,
            "object_position": null,
            "order": null,
            "overflow": null,
            "overflow_x": null,
            "overflow_y": null,
            "padding": null,
            "right": null,
            "top": null,
            "visibility": null,
            "width": null
          }
        },
        "504e4bc1c00849deadd13e4b98cb6f1f": {
          "model_module": "@jupyter-widgets/controls",
          "model_name": "DescriptionStyleModel",
          "model_module_version": "1.5.0",
          "state": {
            "_model_module": "@jupyter-widgets/controls",
            "_model_module_version": "1.5.0",
            "_model_name": "DescriptionStyleModel",
            "_view_count": null,
            "_view_module": "@jupyter-widgets/base",
            "_view_module_version": "1.2.0",
            "_view_name": "StyleView",
            "description_width": ""
          }
        },
        "975da7f994ed4230836bc247435470b0": {
          "model_module": "@jupyter-widgets/base",
          "model_name": "LayoutModel",
          "model_module_version": "1.2.0",
          "state": {
            "_model_module": "@jupyter-widgets/base",
            "_model_module_version": "1.2.0",
            "_model_name": "LayoutModel",
            "_view_count": null,
            "_view_module": "@jupyter-widgets/base",
            "_view_module_version": "1.2.0",
            "_view_name": "LayoutView",
            "align_content": null,
            "align_items": null,
            "align_self": null,
            "border": null,
            "bottom": null,
            "display": null,
            "flex": null,
            "flex_flow": null,
            "grid_area": null,
            "grid_auto_columns": null,
            "grid_auto_flow": null,
            "grid_auto_rows": null,
            "grid_column": null,
            "grid_gap": null,
            "grid_row": null,
            "grid_template_areas": null,
            "grid_template_columns": null,
            "grid_template_rows": null,
            "height": null,
            "justify_content": null,
            "justify_items": null,
            "left": null,
            "margin": null,
            "max_height": null,
            "max_width": null,
            "min_height": null,
            "min_width": null,
            "object_fit": null,
            "object_position": null,
            "order": null,
            "overflow": null,
            "overflow_x": null,
            "overflow_y": null,
            "padding": null,
            "right": null,
            "top": null,
            "visibility": null,
            "width": null
          }
        },
        "45c0246f5bf34cf7a9270c7f5086f52b": {
          "model_module": "@jupyter-widgets/controls",
          "model_name": "ProgressStyleModel",
          "model_module_version": "1.5.0",
          "state": {
            "_model_module": "@jupyter-widgets/controls",
            "_model_module_version": "1.5.0",
            "_model_name": "ProgressStyleModel",
            "_view_count": null,
            "_view_module": "@jupyter-widgets/base",
            "_view_module_version": "1.2.0",
            "_view_name": "StyleView",
            "bar_color": null,
            "description_width": ""
          }
        },
        "025aee7800c74d96b25774e639b5ac3a": {
          "model_module": "@jupyter-widgets/base",
          "model_name": "LayoutModel",
          "model_module_version": "1.2.0",
          "state": {
            "_model_module": "@jupyter-widgets/base",
            "_model_module_version": "1.2.0",
            "_model_name": "LayoutModel",
            "_view_count": null,
            "_view_module": "@jupyter-widgets/base",
            "_view_module_version": "1.2.0",
            "_view_name": "LayoutView",
            "align_content": null,
            "align_items": null,
            "align_self": null,
            "border": null,
            "bottom": null,
            "display": null,
            "flex": null,
            "flex_flow": null,
            "grid_area": null,
            "grid_auto_columns": null,
            "grid_auto_flow": null,
            "grid_auto_rows": null,
            "grid_column": null,
            "grid_gap": null,
            "grid_row": null,
            "grid_template_areas": null,
            "grid_template_columns": null,
            "grid_template_rows": null,
            "height": null,
            "justify_content": null,
            "justify_items": null,
            "left": null,
            "margin": null,
            "max_height": null,
            "max_width": null,
            "min_height": null,
            "min_width": null,
            "object_fit": null,
            "object_position": null,
            "order": null,
            "overflow": null,
            "overflow_x": null,
            "overflow_y": null,
            "padding": null,
            "right": null,
            "top": null,
            "visibility": null,
            "width": null
          }
        },
        "9ef1c6d6811848ad913cfec8cd10db29": {
          "model_module": "@jupyter-widgets/controls",
          "model_name": "DescriptionStyleModel",
          "model_module_version": "1.5.0",
          "state": {
            "_model_module": "@jupyter-widgets/controls",
            "_model_module_version": "1.5.0",
            "_model_name": "DescriptionStyleModel",
            "_view_count": null,
            "_view_module": "@jupyter-widgets/base",
            "_view_module_version": "1.2.0",
            "_view_name": "StyleView",
            "description_width": ""
          }
        }
      }
    }
  },
  "cells": [
    {
      "cell_type": "markdown",
      "metadata": {
        "id": "view-in-github",
        "colab_type": "text"
      },
      "source": [
        "<a href=\"https://colab.research.google.com/github/uicids560/Efficient-Deep-Training/blob/main/ResNet18_Glister_Epoch_%3D_100.ipynb\" target=\"_parent\"><img src=\"https://colab.research.google.com/assets/colab-badge.svg\" alt=\"Open In Colab\"/></a>"
      ]
    },
    {
      "cell_type": "markdown",
      "source": [
        "# ResNet18 - Glister - CIFAR10\n",
        "ResNet18 Model Architecture from CORDS: https://github.com/decile-team/cords/blob/844f897ea4ed7e2f9c1453888022c281bb2091be/examples/SL/image_classification/python_notebooks/CORDS_SL_CIFAR10_Custom_Train.ipynb"
      ],
      "metadata": {
        "id": "myL-hj-vKrNR"
      }
    },
    {
      "cell_type": "markdown",
      "source": [
        "## Cloning CORDS repository"
      ],
      "metadata": {
        "id": "BQwSf8rkKewm"
      }
    },
    {
      "cell_type": "code",
      "execution_count": null,
      "metadata": {
        "colab": {
          "base_uri": "https://localhost:8080/"
        },
        "id": "BQdBqB1WKFe0",
        "outputId": "2e9f7eed-43bc-4a0c-968e-92cc853158d8"
      },
      "outputs": [
        {
          "output_type": "stream",
          "name": "stdout",
          "text": [
            "fatal: destination path 'cords' already exists and is not an empty directory.\n",
            "/content/cords\n",
            "\u001b[0m\u001b[01;34mbenchmarks\u001b[0m/   \u001b[01;34mcords\u001b[0m/     LICENSE.txt    setup.py      train_sl.py\n",
            "CITATION.CFF  \u001b[01;34mdocs\u001b[0m/      README.md      \u001b[01;34mtests\u001b[0m/        train_ssl.py\n",
            "\u001b[01;34mconfigs\u001b[0m/      \u001b[01;34mexamples\u001b[0m/  \u001b[01;34mrequirements\u001b[0m/  train_hpo.py\n"
          ]
        }
      ],
      "source": [
        "!git clone https://github.com/decile-team/cords.git\n",
        "%cd cords/\n",
        "%ls"
      ]
    },
    {
      "cell_type": "markdown",
      "source": [
        "## Install prerequisite libraries of CORDS"
      ],
      "metadata": {
        "id": "ppFQBZo9LhzT"
      }
    },
    {
      "cell_type": "code",
      "source": [
        "!pip install dotmap\n",
        "!pip install apricot-select\n",
        "!pip install ray[default]\n",
        "!pip install ray[tune]"
      ],
      "metadata": {
        "colab": {
          "base_uri": "https://localhost:8080/"
        },
        "id": "4vXQMpSvLhZb",
        "outputId": "54345800-2104-4dd5-d6a8-586a26532167"
      },
      "execution_count": null,
      "outputs": [
        {
          "output_type": "stream",
          "name": "stdout",
          "text": [
            "Looking in indexes: https://pypi.org/simple, https://us-python.pkg.dev/colab-wheels/public/simple/\n",
            "Requirement already satisfied: dotmap in /usr/local/lib/python3.7/dist-packages (1.3.30)\n",
            "Looking in indexes: https://pypi.org/simple, https://us-python.pkg.dev/colab-wheels/public/simple/\n",
            "Requirement already satisfied: apricot-select in /usr/local/lib/python3.7/dist-packages (0.6.1)\n",
            "Requirement already satisfied: nose in /usr/local/lib/python3.7/dist-packages (from apricot-select) (1.3.7)\n",
            "Requirement already satisfied: scipy>=1.0.0 in /usr/local/lib/python3.7/dist-packages (from apricot-select) (1.7.3)\n",
            "Requirement already satisfied: tqdm>=4.24.0 in /usr/local/lib/python3.7/dist-packages (from apricot-select) (4.64.1)\n",
            "Requirement already satisfied: numba>=0.43.0 in /usr/local/lib/python3.7/dist-packages (from apricot-select) (0.56.3)\n",
            "Requirement already satisfied: numpy>=1.14.2 in /usr/local/lib/python3.7/dist-packages (from apricot-select) (1.21.6)\n",
            "Requirement already satisfied: setuptools in /usr/local/lib/python3.7/dist-packages (from numba>=0.43.0->apricot-select) (57.4.0)\n",
            "Requirement already satisfied: importlib-metadata in /usr/local/lib/python3.7/dist-packages (from numba>=0.43.0->apricot-select) (4.13.0)\n",
            "Requirement already satisfied: llvmlite<0.40,>=0.39.0dev0 in /usr/local/lib/python3.7/dist-packages (from numba>=0.43.0->apricot-select) (0.39.1)\n",
            "Requirement already satisfied: zipp>=0.5 in /usr/local/lib/python3.7/dist-packages (from importlib-metadata->numba>=0.43.0->apricot-select) (3.10.0)\n",
            "Requirement already satisfied: typing-extensions>=3.6.4 in /usr/local/lib/python3.7/dist-packages (from importlib-metadata->numba>=0.43.0->apricot-select) (4.1.1)\n",
            "Looking in indexes: https://pypi.org/simple, https://us-python.pkg.dev/colab-wheels/public/simple/\n",
            "Requirement already satisfied: ray[default] in /usr/local/lib/python3.7/dist-packages (2.0.1)\n",
            "Requirement already satisfied: filelock in /usr/local/lib/python3.7/dist-packages (from ray[default]) (3.8.0)\n",
            "Requirement already satisfied: protobuf<4.0.0,>=3.15.3 in /usr/local/lib/python3.7/dist-packages (from ray[default]) (3.17.3)\n",
            "Requirement already satisfied: virtualenv in /usr/local/lib/python3.7/dist-packages (from ray[default]) (20.16.6)\n",
            "Requirement already satisfied: grpcio<=1.43.0,>=1.32.0 in /usr/local/lib/python3.7/dist-packages (from ray[default]) (1.43.0)\n",
            "Requirement already satisfied: typing-extensions in /usr/local/lib/python3.7/dist-packages (from ray[default]) (4.1.1)\n",
            "Requirement already satisfied: pyyaml in /usr/local/lib/python3.7/dist-packages (from ray[default]) (6.0)\n",
            "Requirement already satisfied: click<=8.0.4,>=7.0 in /usr/local/lib/python3.7/dist-packages (from ray[default]) (7.1.2)\n",
            "Requirement already satisfied: requests in /usr/local/lib/python3.7/dist-packages (from ray[default]) (2.23.0)\n",
            "Requirement already satisfied: jsonschema in /usr/local/lib/python3.7/dist-packages (from ray[default]) (4.3.3)\n",
            "Requirement already satisfied: aiosignal in /usr/local/lib/python3.7/dist-packages (from ray[default]) (1.2.0)\n",
            "Requirement already satisfied: attrs in /usr/local/lib/python3.7/dist-packages (from ray[default]) (22.1.0)\n",
            "Requirement already satisfied: msgpack<2.0.0,>=1.0.0 in /usr/local/lib/python3.7/dist-packages (from ray[default]) (1.0.4)\n",
            "Requirement already satisfied: frozenlist in /usr/local/lib/python3.7/dist-packages (from ray[default]) (1.3.1)\n",
            "Requirement already satisfied: numpy>=1.16 in /usr/local/lib/python3.7/dist-packages (from ray[default]) (1.21.6)\n",
            "Requirement already satisfied: aiohttp-cors in /usr/local/lib/python3.7/dist-packages (from ray[default]) (0.7.0)\n",
            "Requirement already satisfied: pydantic in /usr/local/lib/python3.7/dist-packages (from ray[default]) (1.10.2)\n",
            "Requirement already satisfied: colorful in /usr/local/lib/python3.7/dist-packages (from ray[default]) (0.5.4)\n",
            "Requirement already satisfied: prometheus-client<0.14.0,>=0.7.1 in /usr/local/lib/python3.7/dist-packages (from ray[default]) (0.13.1)\n",
            "Requirement already satisfied: gpustat>=1.0.0b1 in /usr/local/lib/python3.7/dist-packages (from ray[default]) (1.0.0)\n",
            "Requirement already satisfied: aiohttp>=3.7 in /usr/local/lib/python3.7/dist-packages (from ray[default]) (3.8.3)\n",
            "Requirement already satisfied: opencensus in /usr/local/lib/python3.7/dist-packages (from ray[default]) (0.11.0)\n",
            "Requirement already satisfied: smart-open in /usr/local/lib/python3.7/dist-packages (from ray[default]) (5.2.1)\n",
            "Requirement already satisfied: py-spy>=0.2.0 in /usr/local/lib/python3.7/dist-packages (from ray[default]) (0.3.14)\n",
            "Requirement already satisfied: multidict<7.0,>=4.5 in /usr/local/lib/python3.7/dist-packages (from aiohttp>=3.7->ray[default]) (6.0.2)\n",
            "Requirement already satisfied: async-timeout<5.0,>=4.0.0a3 in /usr/local/lib/python3.7/dist-packages (from aiohttp>=3.7->ray[default]) (4.0.2)\n",
            "Requirement already satisfied: charset-normalizer<3.0,>=2.0 in /usr/local/lib/python3.7/dist-packages (from aiohttp>=3.7->ray[default]) (2.1.1)\n",
            "Requirement already satisfied: asynctest==0.13.0 in /usr/local/lib/python3.7/dist-packages (from aiohttp>=3.7->ray[default]) (0.13.0)\n",
            "Requirement already satisfied: yarl<2.0,>=1.0 in /usr/local/lib/python3.7/dist-packages (from aiohttp>=3.7->ray[default]) (1.8.1)\n",
            "Requirement already satisfied: psutil>=5.6.0 in /usr/local/lib/python3.7/dist-packages (from gpustat>=1.0.0b1->ray[default]) (5.9.3)\n",
            "Requirement already satisfied: blessed>=1.17.1 in /usr/local/lib/python3.7/dist-packages (from gpustat>=1.0.0b1->ray[default]) (1.19.1)\n",
            "Requirement already satisfied: six>=1.7 in /usr/local/lib/python3.7/dist-packages (from gpustat>=1.0.0b1->ray[default]) (1.15.0)\n",
            "Requirement already satisfied: nvidia-ml-py<=11.495.46,>=11.450.129 in /usr/local/lib/python3.7/dist-packages (from gpustat>=1.0.0b1->ray[default]) (11.495.46)\n",
            "Requirement already satisfied: wcwidth>=0.1.4 in /usr/local/lib/python3.7/dist-packages (from blessed>=1.17.1->gpustat>=1.0.0b1->ray[default]) (0.2.5)\n",
            "Requirement already satisfied: idna>=2.0 in /usr/local/lib/python3.7/dist-packages (from yarl<2.0,>=1.0->aiohttp>=3.7->ray[default]) (2.10)\n",
            "Requirement already satisfied: importlib-metadata in /usr/local/lib/python3.7/dist-packages (from jsonschema->ray[default]) (4.13.0)\n",
            "Requirement already satisfied: pyrsistent!=0.17.0,!=0.17.1,!=0.17.2,>=0.14.0 in /usr/local/lib/python3.7/dist-packages (from jsonschema->ray[default]) (0.18.1)\n",
            "Requirement already satisfied: importlib-resources>=1.4.0 in /usr/local/lib/python3.7/dist-packages (from jsonschema->ray[default]) (5.10.0)\n",
            "Requirement already satisfied: zipp>=3.1.0 in /usr/local/lib/python3.7/dist-packages (from importlib-resources>=1.4.0->jsonschema->ray[default]) (3.10.0)\n",
            "Requirement already satisfied: opencensus-context>=0.1.3 in /usr/local/lib/python3.7/dist-packages (from opencensus->ray[default]) (0.1.3)\n",
            "Requirement already satisfied: google-api-core<3.0.0,>=1.0.0 in /usr/local/lib/python3.7/dist-packages (from opencensus->ray[default]) (1.31.6)\n",
            "Requirement already satisfied: googleapis-common-protos<2.0dev,>=1.6.0 in /usr/local/lib/python3.7/dist-packages (from google-api-core<3.0.0,>=1.0.0->opencensus->ray[default]) (1.56.4)\n",
            "Requirement already satisfied: pytz in /usr/local/lib/python3.7/dist-packages (from google-api-core<3.0.0,>=1.0.0->opencensus->ray[default]) (2022.5)\n",
            "Requirement already satisfied: setuptools>=40.3.0 in /usr/local/lib/python3.7/dist-packages (from google-api-core<3.0.0,>=1.0.0->opencensus->ray[default]) (57.4.0)\n",
            "Requirement already satisfied: google-auth<2.0dev,>=1.25.0 in /usr/local/lib/python3.7/dist-packages (from google-api-core<3.0.0,>=1.0.0->opencensus->ray[default]) (1.35.0)\n",
            "Requirement already satisfied: packaging>=14.3 in /usr/local/lib/python3.7/dist-packages (from google-api-core<3.0.0,>=1.0.0->opencensus->ray[default]) (21.3)\n",
            "Requirement already satisfied: pyasn1-modules>=0.2.1 in /usr/local/lib/python3.7/dist-packages (from google-auth<2.0dev,>=1.25.0->google-api-core<3.0.0,>=1.0.0->opencensus->ray[default]) (0.2.8)\n",
            "Requirement already satisfied: cachetools<5.0,>=2.0.0 in /usr/local/lib/python3.7/dist-packages (from google-auth<2.0dev,>=1.25.0->google-api-core<3.0.0,>=1.0.0->opencensus->ray[default]) (4.2.4)\n",
            "Requirement already satisfied: rsa<5,>=3.1.4 in /usr/local/lib/python3.7/dist-packages (from google-auth<2.0dev,>=1.25.0->google-api-core<3.0.0,>=1.0.0->opencensus->ray[default]) (4.9)\n",
            "Requirement already satisfied: pyparsing!=3.0.5,>=2.0.2 in /usr/local/lib/python3.7/dist-packages (from packaging>=14.3->google-api-core<3.0.0,>=1.0.0->opencensus->ray[default]) (3.0.9)\n",
            "Requirement already satisfied: pyasn1<0.5.0,>=0.4.6 in /usr/local/lib/python3.7/dist-packages (from pyasn1-modules>=0.2.1->google-auth<2.0dev,>=1.25.0->google-api-core<3.0.0,>=1.0.0->opencensus->ray[default]) (0.4.8)\n",
            "Requirement already satisfied: certifi>=2017.4.17 in /usr/local/lib/python3.7/dist-packages (from requests->ray[default]) (2022.9.24)\n",
            "Requirement already satisfied: urllib3!=1.25.0,!=1.25.1,<1.26,>=1.21.1 in /usr/local/lib/python3.7/dist-packages (from requests->ray[default]) (1.24.3)\n",
            "Requirement already satisfied: chardet<4,>=3.0.2 in /usr/local/lib/python3.7/dist-packages (from requests->ray[default]) (3.0.4)\n",
            "Requirement already satisfied: platformdirs<3,>=2.4 in /usr/local/lib/python3.7/dist-packages (from virtualenv->ray[default]) (2.5.2)\n",
            "Requirement already satisfied: distlib<1,>=0.3.6 in /usr/local/lib/python3.7/dist-packages (from virtualenv->ray[default]) (0.3.6)\n",
            "Looking in indexes: https://pypi.org/simple, https://us-python.pkg.dev/colab-wheels/public/simple/\n",
            "Requirement already satisfied: ray[tune] in /usr/local/lib/python3.7/dist-packages (2.0.1)\n",
            "Requirement already satisfied: numpy>=1.16 in /usr/local/lib/python3.7/dist-packages (from ray[tune]) (1.21.6)\n",
            "Requirement already satisfied: attrs in /usr/local/lib/python3.7/dist-packages (from ray[tune]) (22.1.0)\n",
            "Requirement already satisfied: protobuf<4.0.0,>=3.15.3 in /usr/local/lib/python3.7/dist-packages (from ray[tune]) (3.17.3)\n",
            "Requirement already satisfied: jsonschema in /usr/local/lib/python3.7/dist-packages (from ray[tune]) (4.3.3)\n",
            "Requirement already satisfied: requests in /usr/local/lib/python3.7/dist-packages (from ray[tune]) (2.23.0)\n",
            "Requirement already satisfied: frozenlist in /usr/local/lib/python3.7/dist-packages (from ray[tune]) (1.3.1)\n",
            "Requirement already satisfied: aiosignal in /usr/local/lib/python3.7/dist-packages (from ray[tune]) (1.2.0)\n",
            "Requirement already satisfied: click<=8.0.4,>=7.0 in /usr/local/lib/python3.7/dist-packages (from ray[tune]) (7.1.2)\n",
            "Requirement already satisfied: pyyaml in /usr/local/lib/python3.7/dist-packages (from ray[tune]) (6.0)\n",
            "Requirement already satisfied: typing-extensions in /usr/local/lib/python3.7/dist-packages (from ray[tune]) (4.1.1)\n",
            "Requirement already satisfied: virtualenv in /usr/local/lib/python3.7/dist-packages (from ray[tune]) (20.16.6)\n",
            "Requirement already satisfied: grpcio<=1.43.0,>=1.32.0 in /usr/local/lib/python3.7/dist-packages (from ray[tune]) (1.43.0)\n",
            "Requirement already satisfied: msgpack<2.0.0,>=1.0.0 in /usr/local/lib/python3.7/dist-packages (from ray[tune]) (1.0.4)\n",
            "Requirement already satisfied: filelock in /usr/local/lib/python3.7/dist-packages (from ray[tune]) (3.8.0)\n",
            "Requirement already satisfied: tabulate in /usr/local/lib/python3.7/dist-packages (from ray[tune]) (0.8.10)\n",
            "Requirement already satisfied: pandas in /usr/local/lib/python3.7/dist-packages (from ray[tune]) (1.3.5)\n",
            "Requirement already satisfied: tensorboardX>=1.9 in /usr/local/lib/python3.7/dist-packages (from ray[tune]) (2.5.1)\n",
            "Requirement already satisfied: six>=1.5.2 in /usr/local/lib/python3.7/dist-packages (from grpcio<=1.43.0,>=1.32.0->ray[tune]) (1.15.0)\n",
            "Requirement already satisfied: pyrsistent!=0.17.0,!=0.17.1,!=0.17.2,>=0.14.0 in /usr/local/lib/python3.7/dist-packages (from jsonschema->ray[tune]) (0.18.1)\n",
            "Requirement already satisfied: importlib-metadata in /usr/local/lib/python3.7/dist-packages (from jsonschema->ray[tune]) (4.13.0)\n",
            "Requirement already satisfied: importlib-resources>=1.4.0 in /usr/local/lib/python3.7/dist-packages (from jsonschema->ray[tune]) (5.10.0)\n",
            "Requirement already satisfied: zipp>=3.1.0 in /usr/local/lib/python3.7/dist-packages (from importlib-resources>=1.4.0->jsonschema->ray[tune]) (3.10.0)\n",
            "Requirement already satisfied: pytz>=2017.3 in /usr/local/lib/python3.7/dist-packages (from pandas->ray[tune]) (2022.5)\n",
            "Requirement already satisfied: python-dateutil>=2.7.3 in /usr/local/lib/python3.7/dist-packages (from pandas->ray[tune]) (2.8.2)\n",
            "Requirement already satisfied: chardet<4,>=3.0.2 in /usr/local/lib/python3.7/dist-packages (from requests->ray[tune]) (3.0.4)\n",
            "Requirement already satisfied: idna<3,>=2.5 in /usr/local/lib/python3.7/dist-packages (from requests->ray[tune]) (2.10)\n",
            "Requirement already satisfied: certifi>=2017.4.17 in /usr/local/lib/python3.7/dist-packages (from requests->ray[tune]) (2022.9.24)\n",
            "Requirement already satisfied: urllib3!=1.25.0,!=1.25.1,<1.26,>=1.21.1 in /usr/local/lib/python3.7/dist-packages (from requests->ray[tune]) (1.24.3)\n",
            "Requirement already satisfied: platformdirs<3,>=2.4 in /usr/local/lib/python3.7/dist-packages (from virtualenv->ray[tune]) (2.5.2)\n",
            "Requirement already satisfied: distlib<1,>=0.3.6 in /usr/local/lib/python3.7/dist-packages (from virtualenv->ray[tune]) (0.3.6)\n"
          ]
        }
      ]
    },
    {
      "cell_type": "markdown",
      "source": [
        "## Import necessary libraries"
      ],
      "metadata": {
        "id": "4j72gNlzLwNQ"
      }
    },
    {
      "cell_type": "code",
      "source": [
        "import time\n",
        "import numpy as np\n",
        "import os\n",
        "import torch\n",
        "import torch.nn as nn\n",
        "import torch.optim as optim\n",
        "from cords.utils.data.datasets.SL import gen_dataset\n",
        "from torch.utils.data import Subset\n",
        "from cords.utils.config_utils import load_config_data\n",
        "import os.path as osp\n",
        "from cords.utils.data.data_utils import WeightedSubset\n",
        "from ray import tune"
      ],
      "metadata": {
        "id": "Z_f8ilQ6LxoM"
      },
      "execution_count": null,
      "outputs": []
    },
    {
      "cell_type": "markdown",
      "source": [
        "## Loading the CIFAR10 dataset"
      ],
      "metadata": {
        "id": "KZPvWsLpMJyj"
      }
    },
    {
      "cell_type": "code",
      "source": [
        "trainset, validset, testset, num_cls = gen_dataset('data/', 'cifar10', None, isnumpy=False)"
      ],
      "metadata": {
        "colab": {
          "base_uri": "https://localhost:8080/",
          "height": 101,
          "referenced_widgets": [
            "d9e1c5e573234e40b9994c6b08afdef0",
            "d05b960b2cb447f2aad53001a62411cf",
            "865289826b654f84a79c1575829d9ba7",
            "34ca87673c0a4d2da1c1a3c5db7e3901",
            "3441c8a559a540b6a1aab76a706191f5",
            "cc7a015c81cb4856b6b3d78d8942b9e9",
            "504e4bc1c00849deadd13e4b98cb6f1f",
            "975da7f994ed4230836bc247435470b0",
            "45c0246f5bf34cf7a9270c7f5086f52b",
            "025aee7800c74d96b25774e639b5ac3a",
            "9ef1c6d6811848ad913cfec8cd10db29"
          ]
        },
        "id": "pHVmleWFMK7M",
        "outputId": "828617db-aeb5-4eae-a054-d2200272295a"
      },
      "execution_count": null,
      "outputs": [
        {
          "output_type": "stream",
          "name": "stdout",
          "text": [
            "Downloading https://www.cs.toronto.edu/~kriz/cifar-10-python.tar.gz to data/cifar-10-python.tar.gz\n"
          ]
        },
        {
          "output_type": "display_data",
          "data": {
            "text/plain": [
              "  0%|          | 0/170498071 [00:00<?, ?it/s]"
            ],
            "application/vnd.jupyter.widget-view+json": {
              "version_major": 2,
              "version_minor": 0,
              "model_id": "d9e1c5e573234e40b9994c6b08afdef0"
            }
          },
          "metadata": {}
        },
        {
          "output_type": "stream",
          "name": "stdout",
          "text": [
            "Extracting data/cifar-10-python.tar.gz to data/\n",
            "Files already downloaded and verified\n"
          ]
        }
      ]
    },
    {
      "cell_type": "markdown",
      "source": [
        "## Create dataloaders"
      ],
      "metadata": {
        "id": "6baiIe94MXYr"
      }
    },
    {
      "cell_type": "code",
      "source": [
        "trn_batch_size = 20\n",
        "val_batch_size = 20\n",
        "tst_batch_size = 1200\n",
        "\n",
        "# Creating the Data Loaders\n",
        "trainloader = torch.utils.data.DataLoader(trainset, batch_size=trn_batch_size,\n",
        "                                          shuffle=False, pin_memory=True)\n",
        "\n",
        "valloader = torch.utils.data.DataLoader(validset, batch_size=val_batch_size,\n",
        "                                        shuffle=False, pin_memory=True)\n",
        "\n",
        "testloader = torch.utils.data.DataLoader(testset, batch_size=tst_batch_size,\n",
        "                                          shuffle=False, pin_memory=True)"
      ],
      "metadata": {
        "id": "0SKr5iCKMYa3"
      },
      "execution_count": null,
      "outputs": []
    },
    {
      "cell_type": "markdown",
      "source": [
        "## Defining Model"
      ],
      "metadata": {
        "id": "OtG-iKsbMfbA"
      }
    },
    {
      "cell_type": "code",
      "source": [
        "from cords.utils.models import ResNet18\n",
        "numclasses = 10\n",
        "device = 'cuda' #Device Argument\n",
        "model = ResNet18(10)\n",
        "model = model.to(device)"
      ],
      "metadata": {
        "id": "M3XKJY2IMgaz"
      },
      "execution_count": null,
      "outputs": []
    },
    {
      "cell_type": "markdown",
      "source": [
        "## Defining Loss Functions"
      ],
      "metadata": {
        "id": "ZnASL0dYNv54"
      }
    },
    {
      "cell_type": "code",
      "source": [
        "criterion = nn.CrossEntropyLoss()\n",
        "criterion_nored = nn.CrossEntropyLoss(reduction='none')"
      ],
      "metadata": {
        "id": "17Q0XPVDNxnG"
      },
      "execution_count": null,
      "outputs": []
    },
    {
      "cell_type": "markdown",
      "source": [
        "## Cumulative time calculation"
      ],
      "metadata": {
        "id": "ggc-89lfN0Dh"
      }
    },
    {
      "cell_type": "code",
      "source": [
        "def generate_cumulative_timing(mod_timing):\n",
        "    tmp = 0\n",
        "    mod_cum_timing = np.zeros(len(mod_timing))\n",
        "    for i in range(len(mod_timing)):\n",
        "        tmp += mod_timing[i]\n",
        "        mod_cum_timing[i] = tmp\n",
        "    return mod_cum_timing / 3600"
      ],
      "metadata": {
        "id": "p2AoNY8vObdo"
      },
      "execution_count": null,
      "outputs": []
    },
    {
      "cell_type": "markdown",
      "source": [
        "## Defining Optimizers and schedulers"
      ],
      "metadata": {
        "id": "F3a2qGlcOp-4"
      }
    },
    {
      "cell_type": "code",
      "source": [
        "optimizer = optim.SGD(model.parameters(), lr=1e-2,\n",
        "                                  momentum=0.9,\n",
        "                                  weight_decay=5e-4,\n",
        "                                  nesterov=False)\n",
        "\n",
        "#T_max is the maximum number of scheduler steps. Here we are using the number of epochs as the maximum number of scheduler steps.\n",
        "\n",
        "scheduler = torch.optim.lr_scheduler.CosineAnnealingLR(optimizer,\n",
        "                                                       T_max=300)"
      ],
      "metadata": {
        "id": "IWXujMi3OrJh"
      },
      "execution_count": null,
      "outputs": []
    },
    {
      "cell_type": "markdown",
      "source": [
        "## Get logger object for logging"
      ],
      "metadata": {
        "id": "bX-zgL1YOz8F"
      }
    },
    {
      "cell_type": "code",
      "source": [
        "def __get_logger(results_dir):\n",
        "  os.makedirs(results_dir, exist_ok=True)\n",
        "  # setup logger\n",
        "  plain_formatter = logging.Formatter(\"[%(asctime)s] %(name)s %(levelname)s: %(message)s\",\n",
        "                                      datefmt=\"%m/%d %H:%M:%S\")\n",
        "  logger = logging.getLogger(__name__)\n",
        "  logger.setLevel(logging.INFO)\n",
        "  s_handler = logging.StreamHandler(stream=sys.stdout)\n",
        "  s_handler.setFormatter(plain_formatter)\n",
        "  s_handler.setLevel(logging.INFO)\n",
        "  logger.addHandler(s_handler)\n",
        "  f_handler = logging.FileHandler(os.path.join(results_dir, \"results.log\"))\n",
        "  f_handler.setFormatter(plain_formatter)\n",
        "  f_handler.setLevel(logging.DEBUG)\n",
        "  logger.addHandler(f_handler)\n",
        "  logger.propagate = False\n",
        "  return logger"
      ],
      "metadata": {
        "id": "gccZKpIGO2dC"
      },
      "execution_count": null,
      "outputs": []
    },
    {
      "cell_type": "markdown",
      "source": [
        "## Instantiating logger file for logging the information"
      ],
      "metadata": {
        "id": "6XfQ_qQtO6-1"
      }
    },
    {
      "cell_type": "code",
      "source": [
        "import logging\n",
        "import os\n",
        "import os.path as osp\n",
        "import sys\n",
        "\n",
        "#Results logging directory\n",
        "results_dir = osp.abspath(osp.expanduser('results'))\n",
        "logger = __get_logger(results_dir)"
      ],
      "metadata": {
        "id": "G2TyxyoNO8Pc"
      },
      "execution_count": null,
      "outputs": []
    },
    {
      "cell_type": "markdown",
      "source": [
        "## Initiating Glister subset selection dataloaders"
      ],
      "metadata": {
        "id": "saz-i-J-PENj"
      }
    },
    {
      "cell_type": "code",
      "source": [
        "from cords.utils.data.dataloader.SL.adaptive import GLISTERDataLoader\n",
        "from dotmap import DotMap\n",
        "\n",
        "selection_strategy = 'Glister'\n",
        "dss_args = dict(model=model,\n",
        "                loss=criterion_nored,\n",
        "                eta=0.01,\n",
        "                num_classes=10,\n",
        "                num_epochs=100,\n",
        "                device='cuda',\n",
        "                fraction=0.7,\n",
        "                select_every=20,\n",
        "                kappa=0,\n",
        "                num_samples = 20,\n",
        "                linear_layer=False,\n",
        "                selection_type='SL',\n",
        "                greedy='Stochastic',\n",
        "                optimizer='lazy',\n",
        "                r=15)\n",
        "dss_args = DotMap(dss_args)\n",
        "\n",
        "dataloader = GLISTERDataLoader(trainloader, valloader, dss_args, logger, \n",
        "                                  batch_size=20,\n",
        "                                  shuffle=False,\n",
        "                                  pin_memory=False)"
      ],
      "metadata": {
        "id": "ksPpDXWkPHWX"
      },
      "execution_count": null,
      "outputs": []
    },
    {
      "cell_type": "markdown",
      "source": [
        "## Arguments for training and evaluation"
      ],
      "metadata": {
        "id": "XzbnBGW_Pcjh"
      }
    },
    {
      "cell_type": "code",
      "source": [
        "#Training Arguments\n",
        "num_epochs = 100\n",
        "\n",
        "#Arguments for results logging\n",
        "print_every = 1\n",
        "print_args = [\"val_loss\", \"val_acc\", \"tst_loss\", \"tst_acc\", \"time\"]\n",
        "\n",
        "#Evaluation Metrics\n",
        "trn_losses = list()\n",
        "val_losses = list()\n",
        "tst_losses = list()\n",
        "subtrn_losses = list()\n",
        "timing = list()\n",
        "trn_acc = list()\n",
        "val_acc = list()  \n",
        "tst_acc = list()  \n",
        "subtrn_acc = list()"
      ],
      "metadata": {
        "id": "uBPOrShqPe51"
      },
      "execution_count": null,
      "outputs": []
    },
    {
      "cell_type": "markdown",
      "source": [
        "## Training loop with evaluation"
      ],
      "metadata": {
        "id": "6XHjYCoDPoLO"
      }
    },
    {
      "cell_type": "code",
      "source": [
        "#Training Loop\n",
        "for epoch in range(num_epochs):\n",
        "    subtrn_loss = 0\n",
        "    subtrn_correct = 0\n",
        "    subtrn_total = 0\n",
        "    model.train()\n",
        "    start_time = time.time()\n",
        "    for _, (inputs, targets, weights) in enumerate(dataloader):\n",
        "        inputs = inputs.to(device)\n",
        "        targets = targets.to(device, non_blocking=True)\n",
        "        weights = weights.to(device)  \n",
        "        optimizer.zero_grad()\n",
        "        outputs = model(inputs)\n",
        "        losses = criterion_nored(outputs, targets)\n",
        "        loss = torch.dot(losses, weights/(weights.sum()))\n",
        "        loss.backward()\n",
        "        subtrn_loss += loss.item()\n",
        "        optimizer.step()\n",
        "        _, predicted = outputs.max(1)\n",
        "        subtrn_total += targets.size(0)\n",
        "        subtrn_correct += predicted.eq(targets).sum().item()\n",
        "    epoch_time = time.time() - start_time\n",
        "    scheduler.step()\n",
        "    timing.append(epoch_time)\n",
        "\n",
        "    #Evaluation Loop\n",
        "    if (epoch + 1) % print_every == 0:\n",
        "        trn_loss = 0\n",
        "        trn_correct = 0\n",
        "        trn_total = 0\n",
        "        val_loss = 0\n",
        "        val_correct = 0\n",
        "        val_total = 0\n",
        "        tst_correct = 0\n",
        "        tst_total = 0\n",
        "        tst_loss = 0\n",
        "        model.eval()\n",
        "\n",
        "        if (\"trn_loss\" in print_args) or (\"trn_acc\" in print_args):\n",
        "            with torch.no_grad():\n",
        "                for _, (inputs, targets) in enumerate(trainloader):\n",
        "                    inputs, targets = inputs.to(device), \\\n",
        "                                      targets.to(device, non_blocking=True)\n",
        "                    outputs = model(inputs)\n",
        "                    loss = criterion(outputs, targets)\n",
        "                    trn_loss += loss.item()\n",
        "                    if \"trn_acc\" in print_args:\n",
        "                        _, predicted = outputs.max(1)\n",
        "                        trn_total += targets.size(0)\n",
        "                        trn_correct += predicted.eq(targets).sum().item()\n",
        "                trn_losses.append(trn_loss)\n",
        "\n",
        "            if \"trn_acc\" in print_args:\n",
        "                trn_acc.append(trn_correct / trn_total)\n",
        "\n",
        "        if (\"val_loss\" in print_args) or (\"val_acc\" in print_args):\n",
        "            with torch.no_grad():\n",
        "                for _, (inputs, targets) in enumerate(valloader):\n",
        "                    inputs, targets = inputs.to(device), \\\n",
        "                                      targets.to(device, non_blocking=True)\n",
        "                    outputs = model(inputs)\n",
        "                    loss = criterion(outputs, targets)\n",
        "                    val_loss += loss.item()\n",
        "                    if \"val_acc\" in print_args:\n",
        "                        _, predicted = outputs.max(1)\n",
        "                        val_total += targets.size(0)\n",
        "                        val_correct += predicted.eq(targets).sum().item()\n",
        "                val_losses.append(val_loss)\n",
        "\n",
        "            if \"val_acc\" in print_args:\n",
        "                val_acc.append(val_correct / val_total)\n",
        "\n",
        "        if (\"tst_loss\" in print_args) or (\"tst_acc\" in print_args):\n",
        "            with torch.no_grad():\n",
        "                for _, (inputs, targets) in enumerate(testloader):\n",
        "                    inputs, targets = inputs.to(device), \\\n",
        "                                      targets.to(device, non_blocking=True)\n",
        "                    outputs = model(inputs)\n",
        "                    loss = criterion(outputs, targets)\n",
        "                    tst_loss += loss.item()\n",
        "                    if \"tst_acc\" in print_args:\n",
        "                        _, predicted = outputs.max(1)\n",
        "                        tst_total += targets.size(0)\n",
        "                        tst_correct += predicted.eq(targets).sum().item()\n",
        "                tst_losses.append(tst_loss)\n",
        "\n",
        "            if \"tst_acc\" in print_args:\n",
        "                tst_acc.append(tst_correct / tst_total)\n",
        "\n",
        "        if \"subtrn_acc\" in print_args:\n",
        "            subtrn_acc.append(subtrn_correct / subtrn_total)\n",
        "\n",
        "        if \"subtrn_losses\" in print_args:\n",
        "            subtrn_losses.append(subtrn_loss)\n",
        "\n",
        "        print_str = \"Epoch: \" + str(epoch + 1)\n",
        "\n",
        "        #Results Printing\n",
        "        for arg in print_args:\n",
        "\n",
        "            if arg == \"val_loss\":\n",
        "                print_str += \" , \" + \"Validation Loss: \" + str(val_losses[-1])\n",
        "\n",
        "            if arg == \"val_acc\":\n",
        "                print_str += \" , \" + \"Validation Accuracy: \" + str(val_acc[-1])\n",
        "\n",
        "            if arg == \"tst_loss\":\n",
        "                print_str += \" , \" + \"Test Loss: \" + str(tst_losses[-1])\n",
        "\n",
        "            if arg == \"tst_acc\":\n",
        "                print_str += \" , \" + \"Test Accuracy: \" + str(tst_acc[-1])\n",
        "\n",
        "            if arg == \"trn_loss\":\n",
        "                print_str += \" , \" + \"Training Loss: \" + str(trn_losses[-1])\n",
        "\n",
        "            if arg == \"trn_acc\":\n",
        "                print_str += \" , \" + \"Training Accuracy: \" + str(trn_acc[-1])\n",
        "\n",
        "            if arg == \"subtrn_loss\":\n",
        "                print_str += \" , \" + \"Subset Loss: \" + str(subtrn_losses[-1])\n",
        "\n",
        "            if arg == \"subtrn_acc\":\n",
        "                print_str += \" , \" + \"Subset Accuracy: \" + str(subtrn_acc[-1])\n",
        "\n",
        "            if arg == \"time\":\n",
        "                print_str += \" , \" + \"Timing: \" + str(timing[-1])\n",
        "\n",
        "        logger.info(print_str)"
      ],
      "metadata": {
        "colab": {
          "base_uri": "https://localhost:8080/"
        },
        "id": "7_QW0M9SPsgV",
        "outputId": "e3d8bf1a-b6c9-4876-a9f9-4baacca26ba3"
      },
      "execution_count": null,
      "outputs": [
        {
          "output_type": "stream",
          "name": "stdout",
          "text": [
            "[11/03 16:33:57] __main__ INFO: Epoch: 1 , Validation Loss: 353.2463983297348 , Validation Accuracy: 0.4898 , Test Loss: 11.950735092163086 , Test Accuracy: 0.5155 , Timing: 40.73140835762024\n",
            "[11/03 16:34:36] __main__ INFO: Epoch: 2 , Validation Loss: 290.93797808885574 , Validation Accuracy: 0.599 , Test Loss: 10.63383138179779 , Test Accuracy: 0.601 , Timing: 33.64349675178528\n",
            "[11/03 16:35:15] __main__ INFO: Epoch: 3 , Validation Loss: 222.50541391968727 , Validation Accuracy: 0.6902 , Test Loss: 8.208517134189606 , Test Accuracy: 0.6839 , Timing: 33.51116466522217\n",
            "[11/03 16:35:53] __main__ INFO: Epoch: 4 , Validation Loss: 193.34061959385872 , Validation Accuracy: 0.7246 , Test Loss: 7.263685047626495 , Test Accuracy: 0.7198 , Timing: 33.41417646408081\n",
            "[11/03 16:36:32] __main__ INFO: Epoch: 5 , Validation Loss: 184.9865203499794 , Validation Accuracy: 0.7432 , Test Loss: 6.72022271156311 , Test Accuracy: 0.7426 , Timing: 33.5213840007782\n",
            "[11/03 16:37:10] __main__ INFO: Epoch: 6 , Validation Loss: 168.14269380271435 , Validation Accuracy: 0.7632 , Test Loss: 6.046473145484924 , Test Accuracy: 0.7721 , Timing: 33.30425786972046\n",
            "[11/03 16:37:49] __main__ INFO: Epoch: 7 , Validation Loss: 152.3905432522297 , Validation Accuracy: 0.7876 , Test Loss: 5.386450111865997 , Test Accuracy: 0.7973 , Timing: 33.378329277038574\n",
            "[11/03 16:38:27] __main__ INFO: Epoch: 8 , Validation Loss: 166.61911365389824 , Validation Accuracy: 0.7754 , Test Loss: 6.187668323516846 , Test Accuracy: 0.7753 , Timing: 33.429781675338745\n",
            "[11/03 16:39:06] __main__ INFO: Epoch: 9 , Validation Loss: 137.98531521111727 , Validation Accuracy: 0.813 , Test Loss: 5.190589189529419 , Test Accuracy: 0.8055 , Timing: 33.3343825340271\n",
            "[11/03 16:39:44] __main__ INFO: Epoch: 10 , Validation Loss: 130.73527462780476 , Validation Accuracy: 0.82 , Test Loss: 4.897003471851349 , Test Accuracy: 0.8187 , Timing: 33.403966665267944\n",
            "[11/03 16:40:23] __main__ INFO: Epoch: 11 , Validation Loss: 124.95125533640385 , Validation Accuracy: 0.8308 , Test Loss: 4.69620880484581 , Test Accuracy: 0.8245 , Timing: 33.246679067611694\n",
            "[11/03 16:41:02] __main__ INFO: Epoch: 12 , Validation Loss: 130.35217126458883 , Validation Accuracy: 0.8218 , Test Loss: 4.878851056098938 , Test Accuracy: 0.8262 , Timing: 33.87838363647461\n",
            "[11/03 16:41:40] __main__ INFO: Epoch: 13 , Validation Loss: 120.9508915990591 , Validation Accuracy: 0.8306 , Test Loss: 4.312238365411758 , Test Accuracy: 0.8368 , Timing: 33.48845100402832\n",
            "[11/03 16:42:19] __main__ INFO: Epoch: 14 , Validation Loss: 120.74918772280216 , Validation Accuracy: 0.8356 , Test Loss: 4.492236256599426 , Test Accuracy: 0.8326 , Timing: 33.41390776634216\n",
            "[11/03 16:42:57] __main__ INFO: Epoch: 15 , Validation Loss: 118.65212287008762 , Validation Accuracy: 0.8392 , Test Loss: 4.390452980995178 , Test Accuracy: 0.8403 , Timing: 33.511467695236206\n",
            "[11/03 16:43:36] __main__ INFO: Epoch: 16 , Validation Loss: 127.76649799570441 , Validation Accuracy: 0.8286 , Test Loss: 4.844499170780182 , Test Accuracy: 0.8285 , Timing: 33.28635907173157\n",
            "[11/03 16:44:14] __main__ INFO: Epoch: 17 , Validation Loss: 106.84899010881782 , Validation Accuracy: 0.8546 , Test Loss: 4.044335842132568 , Test Accuracy: 0.8534 , Timing: 33.464540243148804\n",
            "[11/03 16:44:53] __main__ INFO: Epoch: 18 , Validation Loss: 116.73691456392407 , Validation Accuracy: 0.8426 , Test Loss: 4.3117759227752686 , Test Accuracy: 0.8469 , Timing: 33.476820945739746\n",
            "[11/03 16:45:32] __main__ INFO: Epoch: 19 , Validation Loss: 115.1160638704896 , Validation Accuracy: 0.8412 , Test Loss: 4.524429112672806 , Test Accuracy: 0.8365 , Timing: 33.70569896697998\n",
            "[11/03 16:46:10] __main__ INFO: Epoch: 20 , Validation Loss: 116.2753581777215 , Validation Accuracy: 0.8432 , Test Loss: 4.291277855634689 , Test Accuracy: 0.8464 , Timing: 33.44965744018555\n",
            "[11/03 16:47:18] __main__ INFO: Epoch: 21, GLISTER dataloader subset selection finished, takes 68.2563. \n",
            "[11/03 16:47:58] __main__ INFO: Epoch: 21 , Validation Loss: 95.00581496953964 , Validation Accuracy: 0.8642 , Test Loss: 3.358424484729767 , Test Accuracy: 0.8743 , Timing: 102.18645739555359\n",
            "[11/03 16:48:36] __main__ INFO: Epoch: 22 , Validation Loss: 96.8960445895791 , Validation Accuracy: 0.8658 , Test Loss: 3.4637278020381927 , Test Accuracy: 0.8722 , Timing: 33.64567995071411\n",
            "[11/03 16:49:15] __main__ INFO: Epoch: 23 , Validation Loss: 93.98582507297397 , Validation Accuracy: 0.8684 , Test Loss: 3.4507097005844116 , Test Accuracy: 0.8724 , Timing: 33.68346905708313\n",
            "[11/03 16:49:54] __main__ INFO: Epoch: 24 , Validation Loss: 93.01123940572143 , Validation Accuracy: 0.8668 , Test Loss: 3.1567635238170624 , Test Accuracy: 0.8794 , Timing: 33.59636616706848\n",
            "[11/03 16:50:32] __main__ INFO: Epoch: 25 , Validation Loss: 92.15842794440687 , Validation Accuracy: 0.8702 , Test Loss: 3.3801205158233643 , Test Accuracy: 0.8803 , Timing: 33.472615242004395\n",
            "[11/03 16:51:11] __main__ INFO: Epoch: 26 , Validation Loss: 95.97148932144046 , Validation Accuracy: 0.8666 , Test Loss: 3.3702534437179565 , Test Accuracy: 0.8744 , Timing: 33.61265587806702\n",
            "[11/03 16:51:50] __main__ INFO: Epoch: 27 , Validation Loss: 96.86999191530049 , Validation Accuracy: 0.8674 , Test Loss: 3.539160966873169 , Test Accuracy: 0.8721 , Timing: 33.790366888046265\n",
            "[11/03 16:52:29] __main__ INFO: Epoch: 28 , Validation Loss: 99.58189613372087 , Validation Accuracy: 0.863 , Test Loss: 3.569645881652832 , Test Accuracy: 0.8695 , Timing: 33.65683674812317\n",
            "[11/03 16:53:08] __main__ INFO: Epoch: 29 , Validation Loss: 90.57203857414424 , Validation Accuracy: 0.8782 , Test Loss: 3.171916961669922 , Test Accuracy: 0.8846 , Timing: 33.79309678077698\n",
            "[11/03 16:53:47] __main__ INFO: Epoch: 30 , Validation Loss: 84.18501657247543 , Validation Accuracy: 0.884 , Test Loss: 3.089847147464752 , Test Accuracy: 0.8889 , Timing: 33.592734813690186\n",
            "[11/03 16:54:26] __main__ INFO: Epoch: 31 , Validation Loss: 95.26166716590524 , Validation Accuracy: 0.8734 , Test Loss: 3.3766698241233826 , Test Accuracy: 0.879 , Timing: 33.91993236541748\n",
            "[11/03 16:55:04] __main__ INFO: Epoch: 32 , Validation Loss: 88.29803657159209 , Validation Accuracy: 0.8846 , Test Loss: 3.1530905067920685 , Test Accuracy: 0.8869 , Timing: 33.64376926422119\n",
            "[11/03 16:55:43] __main__ INFO: Epoch: 33 , Validation Loss: 95.07774507068098 , Validation Accuracy: 0.8678 , Test Loss: 3.3759095072746277 , Test Accuracy: 0.8787 , Timing: 33.53310966491699\n",
            "[11/03 16:56:22] __main__ INFO: Epoch: 34 , Validation Loss: 95.6967330481857 , Validation Accuracy: 0.8746 , Test Loss: 3.503437966108322 , Test Accuracy: 0.8787 , Timing: 33.717371463775635\n",
            "[11/03 16:57:01] __main__ INFO: Epoch: 35 , Validation Loss: 88.75111143290997 , Validation Accuracy: 0.8778 , Test Loss: 3.2663812339305878 , Test Accuracy: 0.8804 , Timing: 33.74777960777283\n",
            "[11/03 16:57:39] __main__ INFO: Epoch: 36 , Validation Loss: 95.96339048724622 , Validation Accuracy: 0.8714 , Test Loss: 3.497253030538559 , Test Accuracy: 0.8788 , Timing: 33.60436749458313\n",
            "[11/03 16:58:18] __main__ INFO: Epoch: 37 , Validation Loss: 87.7245379993692 , Validation Accuracy: 0.8788 , Test Loss: 3.050118863582611 , Test Accuracy: 0.8897 , Timing: 33.605406045913696\n",
            "[11/03 16:58:57] __main__ INFO: Epoch: 38 , Validation Loss: 106.37784066423774 , Validation Accuracy: 0.862 , Test Loss: 3.8296108841896057 , Test Accuracy: 0.8667 , Timing: 33.68895673751831\n",
            "[11/03 16:59:36] __main__ INFO: Epoch: 39 , Validation Loss: 88.46674207225442 , Validation Accuracy: 0.8832 , Test Loss: 3.1421410739421844 , Test Accuracy: 0.8917 , Timing: 33.744956970214844\n",
            "[11/03 17:00:15] __main__ INFO: Epoch: 40 , Validation Loss: 89.99089706409723 , Validation Accuracy: 0.881 , Test Loss: 3.0631642043590546 , Test Accuracy: 0.889 , Timing: 33.609151124954224\n",
            "[11/03 17:01:22] __main__ INFO: Epoch: 41, GLISTER dataloader subset selection finished, takes 67.0634. \n",
            "[11/03 17:02:01] __main__ INFO: Epoch: 41 , Validation Loss: 85.53907791338861 , Validation Accuracy: 0.8868 , Test Loss: 3.1602346003055573 , Test Accuracy: 0.8812 , Timing: 100.75571823120117\n",
            "[11/03 17:02:39] __main__ INFO: Epoch: 42 , Validation Loss: 82.60106015391648 , Validation Accuracy: 0.8874 , Test Loss: 3.035684883594513 , Test Accuracy: 0.8873 , Timing: 33.607436180114746\n",
            "[11/03 17:03:18] __main__ INFO: Epoch: 43 , Validation Loss: 90.2766357138753 , Validation Accuracy: 0.881 , Test Loss: 3.1906114518642426 , Test Accuracy: 0.8828 , Timing: 33.629512786865234\n",
            "[11/03 17:03:57] __main__ INFO: Epoch: 44 , Validation Loss: 93.43544299528003 , Validation Accuracy: 0.8792 , Test Loss: 3.364732712507248 , Test Accuracy: 0.8765 , Timing: 33.57555913925171\n",
            "[11/03 17:04:36] __main__ INFO: Epoch: 45 , Validation Loss: 84.58911102823913 , Validation Accuracy: 0.888 , Test Loss: 3.204422652721405 , Test Accuracy: 0.8834 , Timing: 33.98165225982666\n",
            "[11/03 17:05:15] __main__ INFO: Epoch: 46 , Validation Loss: 92.42778117954731 , Validation Accuracy: 0.8802 , Test Loss: 3.330201417207718 , Test Accuracy: 0.8842 , Timing: 33.65660619735718\n",
            "[11/03 17:05:53] __main__ INFO: Epoch: 47 , Validation Loss: 86.01455960748717 , Validation Accuracy: 0.887 , Test Loss: 3.0402767956256866 , Test Accuracy: 0.8938 , Timing: 33.65413188934326\n",
            "[11/03 17:06:32] __main__ INFO: Epoch: 48 , Validation Loss: 91.86366825550795 , Validation Accuracy: 0.8762 , Test Loss: 3.365742951631546 , Test Accuracy: 0.8807 , Timing: 33.56743764877319\n",
            "[11/03 17:07:11] __main__ INFO: Epoch: 49 , Validation Loss: 93.0306708952412 , Validation Accuracy: 0.8836 , Test Loss: 3.3063100576400757 , Test Accuracy: 0.8848 , Timing: 33.63585948944092\n",
            "[11/03 17:07:49] __main__ INFO: Epoch: 50 , Validation Loss: 101.73054411634803 , Validation Accuracy: 0.8724 , Test Loss: 3.4764298796653748 , Test Accuracy: 0.8804 , Timing: 33.48929286003113\n",
            "[11/03 17:08:28] __main__ INFO: Epoch: 51 , Validation Loss: 99.21966585889459 , Validation Accuracy: 0.869 , Test Loss: 3.65513414144516 , Test Accuracy: 0.8743 , Timing: 33.700557231903076\n",
            "[11/03 17:09:07] __main__ INFO: Epoch: 52 , Validation Loss: 105.82595593621954 , Validation Accuracy: 0.8696 , Test Loss: 3.9437809884548187 , Test Accuracy: 0.8709 , Timing: 33.89218759536743\n",
            "[11/03 17:09:46] __main__ INFO: Epoch: 53 , Validation Loss: 90.21429524291307 , Validation Accuracy: 0.8792 , Test Loss: 3.3013863563537598 , Test Accuracy: 0.8856 , Timing: 33.717000246047974\n",
            "[11/03 17:10:25] __main__ INFO: Epoch: 54 , Validation Loss: 99.68121036142111 , Validation Accuracy: 0.8774 , Test Loss: 3.5756225287914276 , Test Accuracy: 0.8802 , Timing: 33.971890926361084\n",
            "[11/03 17:11:04] __main__ INFO: Epoch: 55 , Validation Loss: 91.94190289080143 , Validation Accuracy: 0.8774 , Test Loss: 3.4898152351379395 , Test Accuracy: 0.8818 , Timing: 33.833411693573\n",
            "[11/03 17:11:43] __main__ INFO: Epoch: 56 , Validation Loss: 96.36266481876373 , Validation Accuracy: 0.877 , Test Loss: 3.478571832180023 , Test Accuracy: 0.8835 , Timing: 33.79438233375549\n",
            "[11/03 17:12:22] __main__ INFO: Epoch: 57 , Validation Loss: 100.93379831500351 , Validation Accuracy: 0.8756 , Test Loss: 3.67781862616539 , Test Accuracy: 0.8773 , Timing: 33.74419355392456\n",
            "[11/03 17:13:01] __main__ INFO: Epoch: 58 , Validation Loss: 93.93307926738635 , Validation Accuracy: 0.883 , Test Loss: 3.5105468332767487 , Test Accuracy: 0.8816 , Timing: 33.97277092933655\n",
            "[11/03 17:13:40] __main__ INFO: Epoch: 59 , Validation Loss: 100.08254119567573 , Validation Accuracy: 0.8712 , Test Loss: 3.6188242733478546 , Test Accuracy: 0.8809 , Timing: 33.53390383720398\n",
            "[11/03 17:14:19] __main__ INFO: Epoch: 60 , Validation Loss: 93.9867990873754 , Validation Accuracy: 0.8802 , Test Loss: 3.631102204322815 , Test Accuracy: 0.8801 , Timing: 33.6454439163208\n",
            "[11/03 17:15:27] __main__ INFO: Epoch: 61, GLISTER dataloader subset selection finished, takes 67.8707. \n",
            "[11/03 17:16:07] __main__ INFO: Epoch: 61 , Validation Loss: 100.96572933066636 , Validation Accuracy: 0.8632 , Test Loss: 3.683402866125107 , Test Accuracy: 0.8722 , Timing: 101.7649302482605\n",
            "[11/03 17:16:46] __main__ INFO: Epoch: 62 , Validation Loss: 97.66621160693467 , Validation Accuracy: 0.874 , Test Loss: 3.4594969749450684 , Test Accuracy: 0.8807 , Timing: 33.91062378883362\n",
            "[11/03 17:17:25] __main__ INFO: Epoch: 63 , Validation Loss: 103.97021360136569 , Validation Accuracy: 0.8618 , Test Loss: 3.72079336643219 , Test Accuracy: 0.8735 , Timing: 33.72402262687683\n",
            "[11/03 17:18:04] __main__ INFO: Epoch: 64 , Validation Loss: 94.66377732623369 , Validation Accuracy: 0.8764 , Test Loss: 3.5123365223407745 , Test Accuracy: 0.8801 , Timing: 33.7029173374176\n",
            "[11/03 17:18:42] __main__ INFO: Epoch: 65 , Validation Loss: 97.24937197752297 , Validation Accuracy: 0.8764 , Test Loss: 3.5806002020835876 , Test Accuracy: 0.8782 , Timing: 33.55384540557861\n",
            "[11/03 17:19:21] __main__ INFO: Epoch: 66 , Validation Loss: 105.8617122285068 , Validation Accuracy: 0.8662 , Test Loss: 3.8960116803646088 , Test Accuracy: 0.8772 , Timing: 33.63238286972046\n",
            "[11/03 17:20:00] __main__ INFO: Epoch: 67 , Validation Loss: 98.98346008360386 , Validation Accuracy: 0.8754 , Test Loss: 3.6008156538009644 , Test Accuracy: 0.878 , Timing: 33.68276596069336\n",
            "[11/03 17:20:39] __main__ INFO: Epoch: 68 , Validation Loss: 99.65555567853153 , Validation Accuracy: 0.8732 , Test Loss: 3.6663453578948975 , Test Accuracy: 0.8783 , Timing: 33.63161373138428\n",
            "[11/03 17:21:18] __main__ INFO: Epoch: 69 , Validation Loss: 95.3479164801538 , Validation Accuracy: 0.8792 , Test Loss: 3.3378143906593323 , Test Accuracy: 0.887 , Timing: 33.95475625991821\n",
            "[11/03 17:21:57] __main__ INFO: Epoch: 70 , Validation Loss: 112.18667491339147 , Validation Accuracy: 0.8612 , Test Loss: 4.278694242238998 , Test Accuracy: 0.8589 , Timing: 33.841686487197876\n",
            "[11/03 17:22:36] __main__ INFO: Epoch: 71 , Validation Loss: 93.58969798497856 , Validation Accuracy: 0.877 , Test Loss: 3.411430060863495 , Test Accuracy: 0.8859 , Timing: 33.948710203170776\n",
            "[11/03 17:23:15] __main__ INFO: Epoch: 72 , Validation Loss: 104.416448908858 , Validation Accuracy: 0.87 , Test Loss: 4.033755272626877 , Test Accuracy: 0.8701 , Timing: 34.222357988357544\n",
            "[11/03 17:23:54] __main__ INFO: Epoch: 73 , Validation Loss: 111.82822723314166 , Validation Accuracy: 0.865 , Test Loss: 4.077811688184738 , Test Accuracy: 0.8667 , Timing: 33.79393553733826\n",
            "[11/03 17:24:33] __main__ INFO: Epoch: 74 , Validation Loss: 98.77609687624499 , Validation Accuracy: 0.8806 , Test Loss: 3.590795159339905 , Test Accuracy: 0.8808 , Timing: 33.52598237991333\n",
            "[11/03 17:25:12] __main__ INFO: Epoch: 75 , Validation Loss: 101.6460670568049 , Validation Accuracy: 0.868 , Test Loss: 3.7469547390937805 , Test Accuracy: 0.8737 , Timing: 33.86837077140808\n",
            "[11/03 17:25:51] __main__ INFO: Epoch: 76 , Validation Loss: 113.12037057708949 , Validation Accuracy: 0.8648 , Test Loss: 4.066539287567139 , Test Accuracy: 0.8721 , Timing: 34.1867151260376\n",
            "[11/03 17:26:30] __main__ INFO: Epoch: 77 , Validation Loss: 111.5010450091213 , Validation Accuracy: 0.866 , Test Loss: 4.004080057144165 , Test Accuracy: 0.8718 , Timing: 33.95138144493103\n",
            "[11/03 17:27:09] __main__ INFO: Epoch: 78 , Validation Loss: 102.41304333694279 , Validation Accuracy: 0.8726 , Test Loss: 3.8515554070472717 , Test Accuracy: 0.8744 , Timing: 33.83530235290527\n",
            "[11/03 17:27:48] __main__ INFO: Epoch: 79 , Validation Loss: 104.60722381621599 , Validation Accuracy: 0.8632 , Test Loss: 3.704328775405884 , Test Accuracy: 0.8763 , Timing: 33.75446081161499\n",
            "[11/03 17:28:28] __main__ INFO: Epoch: 80 , Validation Loss: 111.0273454086855 , Validation Accuracy: 0.8654 , Test Loss: 3.924842655658722 , Test Accuracy: 0.8768 , Timing: 34.06866955757141\n",
            "[11/03 17:29:36] __main__ INFO: Epoch: 81, GLISTER dataloader subset selection finished, takes 68.2278. \n",
            "[11/03 17:30:15] __main__ INFO: Epoch: 81 , Validation Loss: 99.30357521772385 , Validation Accuracy: 0.8748 , Test Loss: 3.748561143875122 , Test Accuracy: 0.8686 , Timing: 102.03091502189636\n",
            "[11/03 17:30:54] __main__ INFO: Epoch: 82 , Validation Loss: 88.72536999359727 , Validation Accuracy: 0.882 , Test Loss: 3.182208925485611 , Test Accuracy: 0.8909 , Timing: 34.16063594818115\n",
            "[11/03 17:31:33] __main__ INFO: Epoch: 83 , Validation Loss: 84.63375694211572 , Validation Accuracy: 0.8904 , Test Loss: 3.1313762068748474 , Test Accuracy: 0.8874 , Timing: 33.896592140197754\n",
            "[11/03 17:32:12] __main__ INFO: Epoch: 84 , Validation Loss: 91.44821033859625 , Validation Accuracy: 0.8832 , Test Loss: 3.272975355386734 , Test Accuracy: 0.8884 , Timing: 33.74979281425476\n",
            "[11/03 17:32:51] __main__ INFO: Epoch: 85 , Validation Loss: 86.0713124871254 , Validation Accuracy: 0.889 , Test Loss: 2.994493216276169 , Test Accuracy: 0.8953 , Timing: 33.64478325843811\n",
            "[11/03 17:33:30] __main__ INFO: Epoch: 86 , Validation Loss: 92.72828891687095 , Validation Accuracy: 0.8834 , Test Loss: 3.338263154029846 , Test Accuracy: 0.8898 , Timing: 33.75366449356079\n",
            "[11/03 17:34:09] __main__ INFO: Epoch: 87 , Validation Loss: 85.1892479788512 , Validation Accuracy: 0.889 , Test Loss: 3.139387369155884 , Test Accuracy: 0.8901 , Timing: 33.84730386734009\n",
            "[11/03 17:34:47] __main__ INFO: Epoch: 88 , Validation Loss: 92.91512547433376 , Validation Accuracy: 0.8852 , Test Loss: 3.49714457988739 , Test Accuracy: 0.8865 , Timing: 33.765727519989014\n",
            "[11/03 17:35:26] __main__ INFO: Epoch: 89 , Validation Loss: 95.02588097844273 , Validation Accuracy: 0.88 , Test Loss: 3.547952115535736 , Test Accuracy: 0.8809 , Timing: 33.7572021484375\n",
            "[11/03 17:36:05] __main__ INFO: Epoch: 90 , Validation Loss: 91.1640190044418 , Validation Accuracy: 0.8864 , Test Loss: 3.386239677667618 , Test Accuracy: 0.8894 , Timing: 33.9433479309082\n",
            "[11/03 17:36:44] __main__ INFO: Epoch: 91 , Validation Loss: 94.66807636711746 , Validation Accuracy: 0.8848 , Test Loss: 3.5395888686180115 , Test Accuracy: 0.8839 , Timing: 33.678447246551514\n",
            "[11/03 17:37:24] __main__ INFO: Epoch: 92 , Validation Loss: 94.96792427636683 , Validation Accuracy: 0.8846 , Test Loss: 3.552487373352051 , Test Accuracy: 0.8895 , Timing: 34.11363506317139\n",
            "[11/03 17:38:03] __main__ INFO: Epoch: 93 , Validation Loss: 100.02432034281082 , Validation Accuracy: 0.8794 , Test Loss: 3.629511296749115 , Test Accuracy: 0.8796 , Timing: 33.83049488067627\n",
            "[11/03 17:38:41] __main__ INFO: Epoch: 94 , Validation Loss: 95.1570697594434 , Validation Accuracy: 0.8806 , Test Loss: 3.5375465750694275 , Test Accuracy: 0.8866 , Timing: 33.768383264541626\n",
            "[11/03 17:39:20] __main__ INFO: Epoch: 95 , Validation Loss: 98.98679770901799 , Validation Accuracy: 0.8746 , Test Loss: 3.965803772211075 , Test Accuracy: 0.8747 , Timing: 33.659313440322876\n",
            "[11/03 17:40:00] __main__ INFO: Epoch: 96 , Validation Loss: 96.48581033200026 , Validation Accuracy: 0.8806 , Test Loss: 3.465823322534561 , Test Accuracy: 0.886 , Timing: 34.46922969818115\n",
            "[11/03 17:40:39] __main__ INFO: Epoch: 97 , Validation Loss: 102.63733142055571 , Validation Accuracy: 0.8762 , Test Loss: 3.653125286102295 , Test Accuracy: 0.8822 , Timing: 34.44781422615051\n",
            "[11/03 17:41:20] __main__ INFO: Epoch: 98 , Validation Loss: 93.31453660875559 , Validation Accuracy: 0.8856 , Test Loss: 3.5494539737701416 , Test Accuracy: 0.8877 , Timing: 34.88235592842102\n",
            "[11/03 17:42:00] __main__ INFO: Epoch: 99 , Validation Loss: 94.73131478694268 , Validation Accuracy: 0.8822 , Test Loss: 3.592969924211502 , Test Accuracy: 0.8863 , Timing: 34.97415018081665\n",
            "[11/03 17:42:39] __main__ INFO: Epoch: 100 , Validation Loss: 95.82778804632835 , Validation Accuracy: 0.8812 , Test Loss: 3.4820715188980103 , Test Accuracy: 0.8879 , Timing: 34.54754662513733\n"
          ]
        }
      ]
    },
    {
      "cell_type": "markdown",
      "source": [
        "## Results Summary"
      ],
      "metadata": {
        "id": "-V7zJ5wfaxT0"
      }
    },
    {
      "cell_type": "code",
      "source": [
        "print(\"CORDS Selection Method: {0:s}\".format(selection_strategy))\n",
        "print(\"Final SubsetTrn: {0:f}\".format(subtrn_loss))\n",
        "if \"val_loss\" in print_args:\n",
        "    if \"val_acc\" in print_args:\n",
        "        print(\"Validation Loss:\", val_loss, \"/ Validation Accuracy:\", val_acc[-1])\n",
        "    else:\n",
        "        print(\"Validation Loss:\", val_loss)\n",
        "\n",
        "if \"tst_loss\" in print_args:\n",
        "    if \"tst_acc\" in print_args:\n",
        "        print(\"Test Loss:\", tst_loss, \"/ Test Accuracy:\", tst_acc[-1])\n",
        "    else:\n",
        "        print(\"Test Data Loss:\", tst_loss)\n",
        "\n",
        "if \"time\" in print_args:\n",
        "    time_str = \"Time, \"\n",
        "    for t in timing:\n",
        "        time_str = time_str + \" , \" + str(t)\n",
        "\n",
        "timing_array = np.array(timing)\n",
        "cum_timing = list(generate_cumulative_timing(timing_array))\n",
        "print(\"Total time taken by\", selection_strategy, \"=\", cum_timing[-1])"
      ],
      "metadata": {
        "id": "QfOEhChXayFC",
        "colab": {
          "base_uri": "https://localhost:8080/"
        },
        "outputId": "0ea742a4-2424-466e-9168-467cb189f7d3"
      },
      "execution_count": null,
      "outputs": [
        {
          "output_type": "stream",
          "name": "stdout",
          "text": [
            "CORDS Selection Method: Glister\n",
            "Final SubsetTrn: 208.254690\n",
            "Validation Loss: 95.82778804632835 / Validation Accuracy: 0.8812\n",
            "Test Loss: 3.4820715188980103 / Test Accuracy: 0.8879\n",
            "Total time taken by Glister = 1.0147986414697434\n"
          ]
        }
      ]
    }
  ]
}
