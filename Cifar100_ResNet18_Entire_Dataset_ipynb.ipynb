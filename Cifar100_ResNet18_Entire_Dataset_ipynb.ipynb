{
  "cells": [
    {
      "cell_type": "markdown",
      "metadata": {
        "id": "view-in-github",
        "colab_type": "text"
      },
      "source": [
        "<a href=\"https://colab.research.google.com/github/uicids560/Efficient-Deep-Training/blob/main/Cifar100_ResNet18_Entire_Dataset_ipynb.ipynb\" target=\"_parent\"><img src=\"https://colab.research.google.com/assets/colab-badge.svg\" alt=\"Open In Colab\"/></a>"
      ]
    },
    {
      "cell_type": "markdown",
      "metadata": {
        "id": "plXHZIDJg5yE"
      },
      "source": [
        "## Cloning CORDS repository & Install prerequisite libraries of CORDS"
      ]
    },
    {
      "cell_type": "code",
      "execution_count": null,
      "metadata": {
        "colab": {
          "base_uri": "https://localhost:8080/"
        },
        "id": "0dB19yvphJVL",
        "outputId": "da6cddb5-5309-421b-ecec-230d56ee6b30"
      },
      "outputs": [
        {
          "output_type": "stream",
          "name": "stdout",
          "text": [
            "Cloning into 'cords'...\n",
            "remote: Enumerating objects: 4718, done.\u001b[K\n",
            "remote: Counting objects: 100% (33/33), done.\u001b[K\n",
            "remote: Compressing objects: 100% (29/29), done.\u001b[K\n",
            "remote: Total 4718 (delta 12), reused 11 (delta 4), pack-reused 4685\u001b[K\n",
            "Receiving objects: 100% (4718/4718), 58.35 MiB | 21.62 MiB/s, done.\n",
            "Resolving deltas: 100% (2864/2864), done.\n",
            "/content/cords/cords/cords\n",
            "\u001b[0m\u001b[01;34mbenchmarks\u001b[0m/   \u001b[01;34mcords\u001b[0m/     LICENSE.txt    setup.py      train_sl.py\n",
            "CITATION.CFF  \u001b[01;34mdocs\u001b[0m/      README.md      \u001b[01;34mtests\u001b[0m/        train_ssl.py\n",
            "\u001b[01;34mconfigs\u001b[0m/      \u001b[01;34mexamples\u001b[0m/  \u001b[01;34mrequirements\u001b[0m/  train_hpo.py\n",
            "Looking in indexes: https://pypi.org/simple, https://us-python.pkg.dev/colab-wheels/public/simple/\n",
            "Requirement already satisfied: dotmap in /usr/local/lib/python3.7/dist-packages (1.3.30)\n",
            "Looking in indexes: https://pypi.org/simple, https://us-python.pkg.dev/colab-wheels/public/simple/\n",
            "Requirement already satisfied: apricot-select in /usr/local/lib/python3.7/dist-packages (0.6.1)\n",
            "Requirement already satisfied: numba>=0.43.0 in /usr/local/lib/python3.7/dist-packages (from apricot-select) (0.56.4)\n",
            "Requirement already satisfied: numpy>=1.14.2 in /usr/local/lib/python3.7/dist-packages (from apricot-select) (1.21.6)\n",
            "Requirement already satisfied: nose in /usr/local/lib/python3.7/dist-packages (from apricot-select) (1.3.7)\n",
            "Requirement already satisfied: tqdm>=4.24.0 in /usr/local/lib/python3.7/dist-packages (from apricot-select) (4.64.1)\n",
            "Requirement already satisfied: scipy>=1.0.0 in /usr/local/lib/python3.7/dist-packages (from apricot-select) (1.7.3)\n",
            "Requirement already satisfied: setuptools in /usr/local/lib/python3.7/dist-packages (from numba>=0.43.0->apricot-select) (57.4.0)\n",
            "Requirement already satisfied: importlib-metadata in /usr/local/lib/python3.7/dist-packages (from numba>=0.43.0->apricot-select) (4.13.0)\n",
            "Requirement already satisfied: llvmlite<0.40,>=0.39.0dev0 in /usr/local/lib/python3.7/dist-packages (from numba>=0.43.0->apricot-select) (0.39.1)\n",
            "Requirement already satisfied: zipp>=0.5 in /usr/local/lib/python3.7/dist-packages (from importlib-metadata->numba>=0.43.0->apricot-select) (3.10.0)\n",
            "Requirement already satisfied: typing-extensions>=3.6.4 in /usr/local/lib/python3.7/dist-packages (from importlib-metadata->numba>=0.43.0->apricot-select) (4.1.1)\n",
            "Looking in indexes: https://pypi.org/simple, https://us-python.pkg.dev/colab-wheels/public/simple/\n",
            "Requirement already satisfied: ray[default] in /usr/local/lib/python3.7/dist-packages (2.1.0)\n",
            "Requirement already satisfied: requests in /usr/local/lib/python3.7/dist-packages (from ray[default]) (2.23.0)\n",
            "Requirement already satisfied: typing-extensions in /usr/local/lib/python3.7/dist-packages (from ray[default]) (4.1.1)\n",
            "Requirement already satisfied: grpcio>=1.32.0 in /usr/local/lib/python3.7/dist-packages (from ray[default]) (1.50.0)\n",
            "Requirement already satisfied: jsonschema in /usr/local/lib/python3.7/dist-packages (from ray[default]) (4.3.3)\n",
            "Requirement already satisfied: attrs in /usr/local/lib/python3.7/dist-packages (from ray[default]) (22.1.0)\n",
            "Requirement already satisfied: frozenlist in /usr/local/lib/python3.7/dist-packages (from ray[default]) (1.3.3)\n",
            "Requirement already satisfied: virtualenv>=20.0.24 in /usr/local/lib/python3.7/dist-packages (from ray[default]) (20.16.7)\n",
            "Requirement already satisfied: aiosignal in /usr/local/lib/python3.7/dist-packages (from ray[default]) (1.3.1)\n",
            "Requirement already satisfied: msgpack<2.0.0,>=1.0.0 in /usr/local/lib/python3.7/dist-packages (from ray[default]) (1.0.4)\n",
            "Requirement already satisfied: pyyaml in /usr/local/lib/python3.7/dist-packages (from ray[default]) (6.0)\n",
            "Requirement already satisfied: filelock in /usr/local/lib/python3.7/dist-packages (from ray[default]) (3.8.0)\n",
            "Requirement already satisfied: numpy>=1.16 in /usr/local/lib/python3.7/dist-packages (from ray[default]) (1.21.6)\n",
            "Requirement already satisfied: protobuf!=3.19.5,>=3.15.3 in /usr/local/lib/python3.7/dist-packages (from ray[default]) (3.19.6)\n",
            "Requirement already satisfied: click<=8.0.4,>=7.0 in /usr/local/lib/python3.7/dist-packages (from ray[default]) (7.1.2)\n",
            "Requirement already satisfied: pydantic in /usr/local/lib/python3.7/dist-packages (from ray[default]) (1.10.2)\n",
            "Requirement already satisfied: colorful in /usr/local/lib/python3.7/dist-packages (from ray[default]) (0.5.4)\n",
            "Requirement already satisfied: gpustat>=1.0.0 in /usr/local/lib/python3.7/dist-packages (from ray[default]) (1.0.0)\n",
            "Requirement already satisfied: opencensus in /usr/local/lib/python3.7/dist-packages (from ray[default]) (0.11.0)\n",
            "Requirement already satisfied: aiohttp-cors in /usr/local/lib/python3.7/dist-packages (from ray[default]) (0.7.0)\n",
            "Requirement already satisfied: prometheus-client<0.14.0,>=0.7.1 in /usr/local/lib/python3.7/dist-packages (from ray[default]) (0.13.1)\n",
            "Requirement already satisfied: py-spy>=0.2.0 in /usr/local/lib/python3.7/dist-packages (from ray[default]) (0.3.14)\n",
            "Requirement already satisfied: smart-open in /usr/local/lib/python3.7/dist-packages (from ray[default]) (5.2.1)\n",
            "Requirement already satisfied: aiohttp>=3.7 in /usr/local/lib/python3.7/dist-packages (from ray[default]) (3.8.3)\n",
            "Requirement already satisfied: charset-normalizer<3.0,>=2.0 in /usr/local/lib/python3.7/dist-packages (from aiohttp>=3.7->ray[default]) (2.1.1)\n",
            "Requirement already satisfied: asynctest==0.13.0 in /usr/local/lib/python3.7/dist-packages (from aiohttp>=3.7->ray[default]) (0.13.0)\n",
            "Requirement already satisfied: multidict<7.0,>=4.5 in /usr/local/lib/python3.7/dist-packages (from aiohttp>=3.7->ray[default]) (6.0.2)\n",
            "Requirement already satisfied: yarl<2.0,>=1.0 in /usr/local/lib/python3.7/dist-packages (from aiohttp>=3.7->ray[default]) (1.8.1)\n",
            "Requirement already satisfied: async-timeout<5.0,>=4.0.0a3 in /usr/local/lib/python3.7/dist-packages (from aiohttp>=3.7->ray[default]) (4.0.2)\n",
            "Requirement already satisfied: six>=1.7 in /usr/local/lib/python3.7/dist-packages (from gpustat>=1.0.0->ray[default]) (1.15.0)\n",
            "Requirement already satisfied: psutil>=5.6.0 in /usr/local/lib/python3.7/dist-packages (from gpustat>=1.0.0->ray[default]) (5.9.4)\n",
            "Requirement already satisfied: blessed>=1.17.1 in /usr/local/lib/python3.7/dist-packages (from gpustat>=1.0.0->ray[default]) (1.19.1)\n",
            "Requirement already satisfied: nvidia-ml-py<=11.495.46,>=11.450.129 in /usr/local/lib/python3.7/dist-packages (from gpustat>=1.0.0->ray[default]) (11.495.46)\n",
            "Requirement already satisfied: wcwidth>=0.1.4 in /usr/local/lib/python3.7/dist-packages (from blessed>=1.17.1->gpustat>=1.0.0->ray[default]) (0.2.5)\n",
            "Requirement already satisfied: platformdirs<3,>=2.4 in /usr/local/lib/python3.7/dist-packages (from virtualenv>=20.0.24->ray[default]) (2.5.4)\n",
            "Requirement already satisfied: distlib<1,>=0.3.6 in /usr/local/lib/python3.7/dist-packages (from virtualenv>=20.0.24->ray[default]) (0.3.6)\n",
            "Requirement already satisfied: importlib-metadata>=4.8.3 in /usr/local/lib/python3.7/dist-packages (from virtualenv>=20.0.24->ray[default]) (4.13.0)\n",
            "Requirement already satisfied: zipp>=0.5 in /usr/local/lib/python3.7/dist-packages (from importlib-metadata>=4.8.3->virtualenv>=20.0.24->ray[default]) (3.10.0)\n",
            "Requirement already satisfied: idna>=2.0 in /usr/local/lib/python3.7/dist-packages (from yarl<2.0,>=1.0->aiohttp>=3.7->ray[default]) (2.10)\n",
            "Requirement already satisfied: importlib-resources>=1.4.0 in /usr/local/lib/python3.7/dist-packages (from jsonschema->ray[default]) (5.10.0)\n",
            "Requirement already satisfied: pyrsistent!=0.17.0,!=0.17.1,!=0.17.2,>=0.14.0 in /usr/local/lib/python3.7/dist-packages (from jsonschema->ray[default]) (0.19.2)\n",
            "Requirement already satisfied: google-api-core<3.0.0,>=1.0.0 in /usr/local/lib/python3.7/dist-packages (from opencensus->ray[default]) (2.8.2)\n",
            "Requirement already satisfied: opencensus-context>=0.1.3 in /usr/local/lib/python3.7/dist-packages (from opencensus->ray[default]) (0.1.3)\n",
            "Requirement already satisfied: google-auth<3.0dev,>=1.25.0 in /usr/local/lib/python3.7/dist-packages (from google-api-core<3.0.0,>=1.0.0->opencensus->ray[default]) (2.14.1)\n",
            "Requirement already satisfied: googleapis-common-protos<2.0dev,>=1.56.2 in /usr/local/lib/python3.7/dist-packages (from google-api-core<3.0.0,>=1.0.0->opencensus->ray[default]) (1.56.4)\n",
            "Requirement already satisfied: rsa<5,>=3.1.4 in /usr/local/lib/python3.7/dist-packages (from google-auth<3.0dev,>=1.25.0->google-api-core<3.0.0,>=1.0.0->opencensus->ray[default]) (4.9)\n",
            "Requirement already satisfied: cachetools<6.0,>=2.0.0 in /usr/local/lib/python3.7/dist-packages (from google-auth<3.0dev,>=1.25.0->google-api-core<3.0.0,>=1.0.0->opencensus->ray[default]) (5.2.0)\n",
            "Requirement already satisfied: pyasn1-modules>=0.2.1 in /usr/local/lib/python3.7/dist-packages (from google-auth<3.0dev,>=1.25.0->google-api-core<3.0.0,>=1.0.0->opencensus->ray[default]) (0.2.8)\n",
            "Requirement already satisfied: pyasn1<0.5.0,>=0.4.6 in /usr/local/lib/python3.7/dist-packages (from pyasn1-modules>=0.2.1->google-auth<3.0dev,>=1.25.0->google-api-core<3.0.0,>=1.0.0->opencensus->ray[default]) (0.4.8)\n",
            "Requirement already satisfied: chardet<4,>=3.0.2 in /usr/local/lib/python3.7/dist-packages (from requests->ray[default]) (3.0.4)\n",
            "Requirement already satisfied: certifi>=2017.4.17 in /usr/local/lib/python3.7/dist-packages (from requests->ray[default]) (2022.9.24)\n",
            "Requirement already satisfied: urllib3!=1.25.0,!=1.25.1,<1.26,>=1.21.1 in /usr/local/lib/python3.7/dist-packages (from requests->ray[default]) (1.24.3)\n",
            "Looking in indexes: https://pypi.org/simple, https://us-python.pkg.dev/colab-wheels/public/simple/\n",
            "Requirement already satisfied: ray[tune] in /usr/local/lib/python3.7/dist-packages (2.1.0)\n",
            "Requirement already satisfied: protobuf!=3.19.5,>=3.15.3 in /usr/local/lib/python3.7/dist-packages (from ray[tune]) (3.19.6)\n",
            "Requirement already satisfied: aiosignal in /usr/local/lib/python3.7/dist-packages (from ray[tune]) (1.3.1)\n",
            "Requirement already satisfied: requests in /usr/local/lib/python3.7/dist-packages (from ray[tune]) (2.23.0)\n",
            "Requirement already satisfied: msgpack<2.0.0,>=1.0.0 in /usr/local/lib/python3.7/dist-packages (from ray[tune]) (1.0.4)\n",
            "Requirement already satisfied: jsonschema in /usr/local/lib/python3.7/dist-packages (from ray[tune]) (4.3.3)\n",
            "Requirement already satisfied: pyyaml in /usr/local/lib/python3.7/dist-packages (from ray[tune]) (6.0)\n",
            "Requirement already satisfied: virtualenv>=20.0.24 in /usr/local/lib/python3.7/dist-packages (from ray[tune]) (20.16.7)\n",
            "Requirement already satisfied: frozenlist in /usr/local/lib/python3.7/dist-packages (from ray[tune]) (1.3.3)\n",
            "Requirement already satisfied: filelock in /usr/local/lib/python3.7/dist-packages (from ray[tune]) (3.8.0)\n",
            "Requirement already satisfied: grpcio>=1.32.0 in /usr/local/lib/python3.7/dist-packages (from ray[tune]) (1.50.0)\n",
            "Requirement already satisfied: typing-extensions in /usr/local/lib/python3.7/dist-packages (from ray[tune]) (4.1.1)\n",
            "Requirement already satisfied: click<=8.0.4,>=7.0 in /usr/local/lib/python3.7/dist-packages (from ray[tune]) (7.1.2)\n",
            "Requirement already satisfied: attrs in /usr/local/lib/python3.7/dist-packages (from ray[tune]) (22.1.0)\n",
            "Requirement already satisfied: numpy>=1.16 in /usr/local/lib/python3.7/dist-packages (from ray[tune]) (1.21.6)\n",
            "Requirement already satisfied: tensorboardX>=1.9 in /usr/local/lib/python3.7/dist-packages (from ray[tune]) (2.5.1)\n",
            "Requirement already satisfied: tabulate in /usr/local/lib/python3.7/dist-packages (from ray[tune]) (0.8.10)\n",
            "Requirement already satisfied: pandas in /usr/local/lib/python3.7/dist-packages (from ray[tune]) (1.3.5)\n",
            "Requirement already satisfied: six>=1.5.2 in /usr/local/lib/python3.7/dist-packages (from grpcio>=1.32.0->ray[tune]) (1.15.0)\n",
            "Requirement already satisfied: distlib<1,>=0.3.6 in /usr/local/lib/python3.7/dist-packages (from virtualenv>=20.0.24->ray[tune]) (0.3.6)\n",
            "Requirement already satisfied: importlib-metadata>=4.8.3 in /usr/local/lib/python3.7/dist-packages (from virtualenv>=20.0.24->ray[tune]) (4.13.0)\n",
            "Requirement already satisfied: platformdirs<3,>=2.4 in /usr/local/lib/python3.7/dist-packages (from virtualenv>=20.0.24->ray[tune]) (2.5.4)\n",
            "Requirement already satisfied: zipp>=0.5 in /usr/local/lib/python3.7/dist-packages (from importlib-metadata>=4.8.3->virtualenv>=20.0.24->ray[tune]) (3.10.0)\n",
            "Requirement already satisfied: pyrsistent!=0.17.0,!=0.17.1,!=0.17.2,>=0.14.0 in /usr/local/lib/python3.7/dist-packages (from jsonschema->ray[tune]) (0.19.2)\n",
            "Requirement already satisfied: importlib-resources>=1.4.0 in /usr/local/lib/python3.7/dist-packages (from jsonschema->ray[tune]) (5.10.0)\n",
            "Requirement already satisfied: python-dateutil>=2.7.3 in /usr/local/lib/python3.7/dist-packages (from pandas->ray[tune]) (2.8.2)\n",
            "Requirement already satisfied: pytz>=2017.3 in /usr/local/lib/python3.7/dist-packages (from pandas->ray[tune]) (2022.6)\n",
            "Requirement already satisfied: chardet<4,>=3.0.2 in /usr/local/lib/python3.7/dist-packages (from requests->ray[tune]) (3.0.4)\n",
            "Requirement already satisfied: urllib3!=1.25.0,!=1.25.1,<1.26,>=1.21.1 in /usr/local/lib/python3.7/dist-packages (from requests->ray[tune]) (1.24.3)\n",
            "Requirement already satisfied: idna<3,>=2.5 in /usr/local/lib/python3.7/dist-packages (from requests->ray[tune]) (2.10)\n",
            "Requirement already satisfied: certifi>=2017.4.17 in /usr/local/lib/python3.7/dist-packages (from requests->ray[tune]) (2022.9.24)\n"
          ]
        }
      ],
      "source": [
        "!git clone https://github.com/decile-team/cords.git\n",
        "%cd cords/\n",
        "%ls\n",
        "\n",
        "!pip install dotmap\n",
        "!pip install apricot-select\n",
        "!pip install ray[default]\n",
        "!pip install ray[tune]"
      ]
    },
    {
      "cell_type": "markdown",
      "metadata": {
        "id": "FAe7hUD2g-_4"
      },
      "source": [
        "##Import necessary libraries"
      ]
    },
    {
      "cell_type": "code",
      "execution_count": null,
      "metadata": {
        "colab": {
          "base_uri": "https://localhost:8080/"
        },
        "id": "ksBX97-0hQA8",
        "outputId": "acd19863-41d6-4ae2-cd7d-3c53e2759cc8"
      },
      "outputs": [
        {
          "output_type": "execute_result",
          "data": {
            "text/plain": [
              "401"
            ]
          },
          "metadata": {},
          "execution_count": 16
        }
      ],
      "source": [
        "import time\n",
        "import numpy as np\n",
        "import os\n",
        "import torch\n",
        "import torch.nn as nn\n",
        "import torch.optim as optim\n",
        "from cords.utils.data.datasets.SL import gen_dataset\n",
        "from torch.utils.data import Subset\n",
        "from cords.utils.config_utils import load_config_data\n",
        "import os.path as osp\n",
        "from cords.utils.data.data_utils import WeightedSubset\n",
        "from ray import tune\n",
        "#Clean CUDA Memory\n",
        "import gc\n",
        "torch.cuda.empty_cache()\n",
        "gc.collect()"
      ]
    },
    {
      "cell_type": "markdown",
      "metadata": {
        "id": "bPbYKHh6hcEZ"
      },
      "source": [
        "## Defining Model"
      ]
    },
    {
      "cell_type": "code",
      "execution_count": null,
      "metadata": {
        "id": "Y4CQQDFqhfpT"
      },
      "outputs": [],
      "source": [
        "numclasses = 100\n",
        "device = 'cuda'"
      ]
    },
    {
      "cell_type": "code",
      "execution_count": null,
      "metadata": {
        "id": "ztvfnNNMivdr"
      },
      "outputs": [],
      "source": [
        "from train_sl import TrainClassifier\n",
        "from cords.utils.config_utils import load_config_data"
      ]
    },
    {
      "cell_type": "code",
      "execution_count": null,
      "metadata": {
        "id": "YJZgHJMCioR7"
      },
      "outputs": [],
      "source": [
        "full_config_file = \"/content/cords/configs/SL/config_full_cifar100.py\"\n",
        "dataset_name = \"cifar100\"\n",
        "cfg = load_config_data(full_config_file)\n",
        "full_trn = TrainClassifier(cfg)"
      ]
    },
    {
      "cell_type": "code",
      "execution_count": null,
      "metadata": {
        "id": "5xdr-dx5i8Rm"
      },
      "outputs": [],
      "source": [
        "full_trn.cfg.train_args.num_epochs = 100\n",
        "full_trn.cfg.train_args.print_every = 100\n",
        "full_trn.cfg.train.tst_batch_size = 1200\n",
        "# full_trn.cfg.optimizer.lr = 0.1\n",
        "full_trn.cfg.train_args.results_dir = \"/content/drive/MyDrive/results/\"\n",
        "full_trn.cfg.model.numclasses = numclasses\n",
        "full_trn.cfg.dataset.name = dataset_name"
      ]
    },
    {
      "cell_type": "code",
      "execution_count": null,
      "metadata": {
        "colab": {
          "base_uri": "https://localhost:8080/",
          "height": 1000,
          "referenced_widgets": [
            "a1d9c96700fc494fabf598279827d8b2",
            "66fcf39c116246949aedcb5d136f9a4a",
            "bbcf6eec4b62418c80a3d9cf4ecf2f97",
            "461da4b3c519401aad7bf11ed9ba1300",
            "59933973c58a432f9e06ceea02b6f5ad",
            "e21002b10bcf4b63aacd73fb8c38c14c",
            "1590503863ba40bea50a696d53dbb247",
            "7b11125b22754389a6e1ea9fbf5c22e2",
            "9c518162943a4a29a3921a5989371f7d",
            "6181f10f121541f3801762792c5be0b9",
            "2a2eccb25fd646d09d2bbf76c0e17a5e"
          ]
        },
        "id": "6qcn6M78ZYwr",
        "outputId": "97e12728-8f24-4eeb-d3e5-67bbec46042a"
      },
      "outputs": [
        {
          "output_type": "stream",
          "name": "stdout",
          "text": [
            "[11/18 03:23:25] train_sl INFO: DotMap(setting='SL', is_reg=False, dataset=DotMap(name='cifar100', datadir='../data', feature='dss', type='image'), dataloader=DotMap(shuffle=True, batch_size=20, pin_memory=True), model=DotMap(architecture='ResNet18', type='pre-defined', numclasses=100), ckpt=DotMap(is_load=False, is_save=True, dir='results/', save_every=20), loss=DotMap(type='CrossEntropyLoss', use_sigmoid=False), optimizer=DotMap(type='sgd', momentum=0.9, lr=0.01, lr1=0.01, lr2=0.01, lr3=0.01, nesterov=False, weight_decay=0.0005), scheduler=DotMap(type='cosine_annealing', T_max=300), dss_args=DotMap(type='Full'), train_args=DotMap(num_epochs=100, device='cuda', print_every=100, results_dir='/content/drive/MyDrive/results/', print_args=['val_loss', 'val_acc', 'tst_loss', 'tst_acc', 'time'], return_args=[]), train=DotMap(tst_batch_size=1200))\n",
            "[11/18 03:23:25] train_sl INFO: DotMap(setting='SL', is_reg=False, dataset=DotMap(name='cifar100', datadir='../data', feature='dss', type='image'), dataloader=DotMap(shuffle=True, batch_size=20, pin_memory=True), model=DotMap(architecture='ResNet18', type='pre-defined', numclasses=100), ckpt=DotMap(is_load=False, is_save=True, dir='results/', save_every=20), loss=DotMap(type='CrossEntropyLoss', use_sigmoid=False), optimizer=DotMap(type='sgd', momentum=0.9, lr=0.01, lr1=0.01, lr2=0.01, lr3=0.01, nesterov=False, weight_decay=0.0005), scheduler=DotMap(type='cosine_annealing', T_max=300), dss_args=DotMap(type='Full'), train_args=DotMap(num_epochs=100, device='cuda', print_every=100, results_dir='/content/drive/MyDrive/results/', print_args=['val_loss', 'val_acc', 'tst_loss', 'tst_acc', 'time'], return_args=[]), train=DotMap(tst_batch_size=1200))\n",
            "[11/18 03:23:25] train_sl INFO: DotMap(setting='SL', is_reg=False, dataset=DotMap(name='cifar100', datadir='../data', feature='dss', type='image'), dataloader=DotMap(shuffle=True, batch_size=20, pin_memory=True), model=DotMap(architecture='ResNet18', type='pre-defined', numclasses=100), ckpt=DotMap(is_load=False, is_save=True, dir='results/', save_every=20), loss=DotMap(type='CrossEntropyLoss', use_sigmoid=False), optimizer=DotMap(type='sgd', momentum=0.9, lr=0.01, lr1=0.01, lr2=0.01, lr3=0.01, nesterov=False, weight_decay=0.0005), scheduler=DotMap(type='cosine_annealing', T_max=300), dss_args=DotMap(type='Full'), train_args=DotMap(num_epochs=100, device='cuda', print_every=100, results_dir='/content/drive/MyDrive/results/', print_args=['val_loss', 'val_acc', 'tst_loss', 'tst_acc', 'time'], return_args=[]), train=DotMap(tst_batch_size=1200))\n",
            "Downloading https://www.cs.toronto.edu/~kriz/cifar-100-python.tar.gz to ../data/cifar-100-python.tar.gz\n"
          ]
        },
        {
          "output_type": "display_data",
          "data": {
            "text/plain": [
              "  0%|          | 0/169001437 [00:00<?, ?it/s]"
            ],
            "application/vnd.jupyter.widget-view+json": {
              "version_major": 2,
              "version_minor": 0,
              "model_id": "a1d9c96700fc494fabf598279827d8b2"
            }
          },
          "metadata": {}
        },
        {
          "output_type": "stream",
          "name": "stdout",
          "text": [
            "Extracting ../data/cifar-100-python.tar.gz to ../data\n",
            "Files already downloaded and verified\n",
            "[11/18 03:48:13] train_sl INFO: Model checkpoint saved at epoch: 20\n",
            "[11/18 03:48:13] train_sl INFO: Model checkpoint saved at epoch: 20\n",
            "[11/18 03:48:13] train_sl INFO: Model checkpoint saved at epoch: 20\n",
            "[11/18 04:12:44] train_sl INFO: Model checkpoint saved at epoch: 40\n",
            "[11/18 04:12:44] train_sl INFO: Model checkpoint saved at epoch: 40\n",
            "[11/18 04:12:44] train_sl INFO: Model checkpoint saved at epoch: 40\n",
            "[11/18 04:37:15] train_sl INFO: Model checkpoint saved at epoch: 60\n",
            "[11/18 04:37:15] train_sl INFO: Model checkpoint saved at epoch: 60\n",
            "[11/18 04:37:15] train_sl INFO: Model checkpoint saved at epoch: 60\n",
            "[11/18 05:01:49] train_sl INFO: Model checkpoint saved at epoch: 80\n",
            "[11/18 05:01:49] train_sl INFO: Model checkpoint saved at epoch: 80\n",
            "[11/18 05:01:49] train_sl INFO: Model checkpoint saved at epoch: 80\n",
            "[11/18 05:26:40] train_sl INFO: Epoch: 100 , Validation Loss: 1.3603017132282258 , Validation Accuracy: 0.65 , Test Loss: 1.345950745716691 , Test Accuracy: 0.6753 , Timing: 73.35805344581604\n",
            "[11/18 05:26:40] train_sl INFO: Epoch: 100 , Validation Loss: 1.3603017132282258 , Validation Accuracy: 0.65 , Test Loss: 1.345950745716691 , Test Accuracy: 0.6753 , Timing: 73.35805344581604\n",
            "[11/18 05:26:40] train_sl INFO: Epoch: 100 , Validation Loss: 1.3603017132282258 , Validation Accuracy: 0.65 , Test Loss: 1.345950745716691 , Test Accuracy: 0.6753 , Timing: 73.35805344581604\n",
            "[11/18 05:26:41] train_sl INFO: Model checkpoint saved at epoch: 100\n",
            "[11/18 05:26:41] train_sl INFO: Model checkpoint saved at epoch: 100\n",
            "[11/18 05:26:41] train_sl INFO: Model checkpoint saved at epoch: 100\n",
            "[11/18 05:26:41] train_sl INFO: Full Selection Run---------------------------------\n",
            "[11/18 05:26:41] train_sl INFO: Full Selection Run---------------------------------\n",
            "[11/18 05:26:41] train_sl INFO: Full Selection Run---------------------------------\n",
            "[11/18 05:26:41] train_sl INFO: Final SubsetTrn: 0.579351\n",
            "[11/18 05:26:41] train_sl INFO: Final SubsetTrn: 0.579351\n",
            "[11/18 05:26:41] train_sl INFO: Final SubsetTrn: 0.579351\n",
            "[11/18 05:26:41] train_sl INFO: Validation Loss: 1.36 , Validation Accuracy: 0.65\n",
            "[11/18 05:26:41] train_sl INFO: Validation Loss: 1.36 , Validation Accuracy: 0.65\n",
            "[11/18 05:26:41] train_sl INFO: Validation Loss: 1.36 , Validation Accuracy: 0.65\n",
            "[11/18 05:26:41] train_sl INFO: Test Loss: 1.35, Test Accuracy: 0.68\n",
            "[11/18 05:26:41] train_sl INFO: Test Loss: 1.35, Test Accuracy: 0.68\n",
            "[11/18 05:26:41] train_sl INFO: Test Loss: 1.35, Test Accuracy: 0.68\n",
            "[11/18 05:26:41] train_sl INFO: ---------------------------------------------------------------------\n",
            "[11/18 05:26:41] train_sl INFO: ---------------------------------------------------------------------\n",
            "[11/18 05:26:41] train_sl INFO: ---------------------------------------------------------------------\n",
            "[11/18 05:26:41] train_sl INFO: Full\n",
            "[11/18 05:26:41] train_sl INFO: Full\n",
            "[11/18 05:26:41] train_sl INFO: Full\n",
            "[11/18 05:26:41] train_sl INFO: ---------------------------------------------------------------------\n",
            "[11/18 05:26:41] train_sl INFO: ---------------------------------------------------------------------\n",
            "[11/18 05:26:41] train_sl INFO: ---------------------------------------------------------------------\n",
            "[11/18 05:26:41] train_sl INFO: Validation Accuracy: 0.65\n",
            "[11/18 05:26:41] train_sl INFO: Validation Accuracy: 0.65\n",
            "[11/18 05:26:41] train_sl INFO: Validation Accuracy: 0.65\n",
            "[11/18 05:26:41] train_sl INFO: Test Accuracy: 0.6753\n",
            "[11/18 05:26:41] train_sl INFO: Test Accuracy: 0.6753\n",
            "[11/18 05:26:41] train_sl INFO: Test Accuracy: 0.6753\n",
            "[11/18 05:26:41] train_sl INFO: Time: 74.50472497940063 , 73.39174938201904 , 75.12520790100098 , 73.539297580719 , 74.78981041908264 , 74.16491913795471 , 73.66738867759705 , 74.26286935806274 , 74.23512101173401 , 73.17531085014343 , 74.13497543334961 , 73.82624697685242 , 72.8958899974823 , 74.62307786941528 , 72.89963150024414 , 74.83261299133301 , 73.85757946968079 , 74.60368967056274 , 74.24518775939941 , 74.33254098892212 , 74.3414831161499 , 73.8533296585083 , 73.20441269874573 , 74.79314303398132 , 72.90966200828552 , 73.44062614440918 , 73.66975831985474 , 74.11224865913391 , 73.86468648910522 , 73.90220475196838 , 72.52079701423645 , 74.11660242080688 , 72.57387375831604 , 73.65369725227356 , 73.66405177116394 , 74.19376635551453 , 72.97379970550537 , 72.99015617370605 , 72.99323081970215 , 72.88280534744263 , 72.75239133834839 , 72.07642555236816 , 73.89160490036011 , 72.13295102119446 , 72.69476556777954 , 73.5408411026001 , 74.15271949768066 , 73.33006834983826 , 73.0891637802124 , 72.94034457206726 , 73.59994769096375 , 73.73877739906311 , 73.28813219070435 , 75.22416543960571 , 74.23345565795898 , 74.53039646148682 , 74.32913374900818 , 73.16486096382141 , 75.34519553184509 , 72.60827612876892 , 73.33061146736145 , 74.05656290054321 , 73.2371973991394 , 73.01548647880554 , 72.88266086578369 , 73.26847290992737 , 72.34595990180969 , 74.14435648918152 , 73.57466793060303 , 74.06298613548279 , 74.04172611236572 , 72.65584468841553 , 74.42065072059631 , 74.48622250556946 , 73.16850113868713 , 74.19648122787476 , 74.27675175666809 , 73.46161031723022 , 74.3392562866211 , 74.42161822319031 , 73.5156602859497 , 74.66990065574646 , 72.86077427864075 , 73.55578994750977 , 74.7776141166687 , 73.42565870285034 , 73.37084770202637 , 75.45783066749573 , 73.54549145698547 , 75.44139552116394 , 73.76101112365723 , 73.51984667778015 , 75.29786086082458 , 73.59347319602966 , 73.50846290588379 , 75.67738127708435 , 73.9098105430603 , 73.5799789428711 , 74.88059902191162 , 73.35805344581604\n",
            "[11/18 05:26:41] train_sl INFO: Time: 74.50472497940063 , 73.39174938201904 , 75.12520790100098 , 73.539297580719 , 74.78981041908264 , 74.16491913795471 , 73.66738867759705 , 74.26286935806274 , 74.23512101173401 , 73.17531085014343 , 74.13497543334961 , 73.82624697685242 , 72.8958899974823 , 74.62307786941528 , 72.89963150024414 , 74.83261299133301 , 73.85757946968079 , 74.60368967056274 , 74.24518775939941 , 74.33254098892212 , 74.3414831161499 , 73.8533296585083 , 73.20441269874573 , 74.79314303398132 , 72.90966200828552 , 73.44062614440918 , 73.66975831985474 , 74.11224865913391 , 73.86468648910522 , 73.90220475196838 , 72.52079701423645 , 74.11660242080688 , 72.57387375831604 , 73.65369725227356 , 73.66405177116394 , 74.19376635551453 , 72.97379970550537 , 72.99015617370605 , 72.99323081970215 , 72.88280534744263 , 72.75239133834839 , 72.07642555236816 , 73.89160490036011 , 72.13295102119446 , 72.69476556777954 , 73.5408411026001 , 74.15271949768066 , 73.33006834983826 , 73.0891637802124 , 72.94034457206726 , 73.59994769096375 , 73.73877739906311 , 73.28813219070435 , 75.22416543960571 , 74.23345565795898 , 74.53039646148682 , 74.32913374900818 , 73.16486096382141 , 75.34519553184509 , 72.60827612876892 , 73.33061146736145 , 74.05656290054321 , 73.2371973991394 , 73.01548647880554 , 72.88266086578369 , 73.26847290992737 , 72.34595990180969 , 74.14435648918152 , 73.57466793060303 , 74.06298613548279 , 74.04172611236572 , 72.65584468841553 , 74.42065072059631 , 74.48622250556946 , 73.16850113868713 , 74.19648122787476 , 74.27675175666809 , 73.46161031723022 , 74.3392562866211 , 74.42161822319031 , 73.5156602859497 , 74.66990065574646 , 72.86077427864075 , 73.55578994750977 , 74.7776141166687 , 73.42565870285034 , 73.37084770202637 , 75.45783066749573 , 73.54549145698547 , 75.44139552116394 , 73.76101112365723 , 73.51984667778015 , 75.29786086082458 , 73.59347319602966 , 73.50846290588379 , 75.67738127708435 , 73.9098105430603 , 73.5799789428711 , 74.88059902191162 , 73.35805344581604\n",
            "[11/18 05:26:41] train_sl INFO: Time: 74.50472497940063 , 73.39174938201904 , 75.12520790100098 , 73.539297580719 , 74.78981041908264 , 74.16491913795471 , 73.66738867759705 , 74.26286935806274 , 74.23512101173401 , 73.17531085014343 , 74.13497543334961 , 73.82624697685242 , 72.8958899974823 , 74.62307786941528 , 72.89963150024414 , 74.83261299133301 , 73.85757946968079 , 74.60368967056274 , 74.24518775939941 , 74.33254098892212 , 74.3414831161499 , 73.8533296585083 , 73.20441269874573 , 74.79314303398132 , 72.90966200828552 , 73.44062614440918 , 73.66975831985474 , 74.11224865913391 , 73.86468648910522 , 73.90220475196838 , 72.52079701423645 , 74.11660242080688 , 72.57387375831604 , 73.65369725227356 , 73.66405177116394 , 74.19376635551453 , 72.97379970550537 , 72.99015617370605 , 72.99323081970215 , 72.88280534744263 , 72.75239133834839 , 72.07642555236816 , 73.89160490036011 , 72.13295102119446 , 72.69476556777954 , 73.5408411026001 , 74.15271949768066 , 73.33006834983826 , 73.0891637802124 , 72.94034457206726 , 73.59994769096375 , 73.73877739906311 , 73.28813219070435 , 75.22416543960571 , 74.23345565795898 , 74.53039646148682 , 74.32913374900818 , 73.16486096382141 , 75.34519553184509 , 72.60827612876892 , 73.33061146736145 , 74.05656290054321 , 73.2371973991394 , 73.01548647880554 , 72.88266086578369 , 73.26847290992737 , 72.34595990180969 , 74.14435648918152 , 73.57466793060303 , 74.06298613548279 , 74.04172611236572 , 72.65584468841553 , 74.42065072059631 , 74.48622250556946 , 73.16850113868713 , 74.19648122787476 , 74.27675175666809 , 73.46161031723022 , 74.3392562866211 , 74.42161822319031 , 73.5156602859497 , 74.66990065574646 , 72.86077427864075 , 73.55578994750977 , 74.7776141166687 , 73.42565870285034 , 73.37084770202637 , 75.45783066749573 , 73.54549145698547 , 75.44139552116394 , 73.76101112365723 , 73.51984667778015 , 75.29786086082458 , 73.59347319602966 , 73.50846290588379 , 75.67738127708435 , 73.9098105430603 , 73.5799789428711 , 74.88059902191162 , 73.35805344581604\n",
            "[11/18 05:26:41] train_sl INFO: Total time taken by Full = 7377.5209 \n",
            "[11/18 05:26:41] train_sl INFO: Total time taken by Full = 7377.5209 \n",
            "[11/18 05:26:41] train_sl INFO: Total time taken by Full = 7377.5209 \n"
          ]
        }
      ],
      "source": [
        "full_trn.train()# epoch 20 lr=0.01"
      ]
    }
  ],
  "metadata": {
    "accelerator": "GPU",
    "colab": {
      "machine_shape": "hm",
      "provenance": [],
      "include_colab_link": true
    },
    "gpuClass": "premium",
    "kernelspec": {
      "display_name": "Python 3",
      "name": "python3"
    },
    "language_info": {
      "name": "python"
    },
    "widgets": {
      "application/vnd.jupyter.widget-state+json": {
        "a1d9c96700fc494fabf598279827d8b2": {
          "model_module": "@jupyter-widgets/controls",
          "model_name": "HBoxModel",
          "model_module_version": "1.5.0",
          "state": {
            "_dom_classes": [],
            "_model_module": "@jupyter-widgets/controls",
            "_model_module_version": "1.5.0",
            "_model_name": "HBoxModel",
            "_view_count": null,
            "_view_module": "@jupyter-widgets/controls",
            "_view_module_version": "1.5.0",
            "_view_name": "HBoxView",
            "box_style": "",
            "children": [
              "IPY_MODEL_66fcf39c116246949aedcb5d136f9a4a",
              "IPY_MODEL_bbcf6eec4b62418c80a3d9cf4ecf2f97",
              "IPY_MODEL_461da4b3c519401aad7bf11ed9ba1300"
            ],
            "layout": "IPY_MODEL_59933973c58a432f9e06ceea02b6f5ad"
          }
        },
        "66fcf39c116246949aedcb5d136f9a4a": {
          "model_module": "@jupyter-widgets/controls",
          "model_name": "HTMLModel",
          "model_module_version": "1.5.0",
          "state": {
            "_dom_classes": [],
            "_model_module": "@jupyter-widgets/controls",
            "_model_module_version": "1.5.0",
            "_model_name": "HTMLModel",
            "_view_count": null,
            "_view_module": "@jupyter-widgets/controls",
            "_view_module_version": "1.5.0",
            "_view_name": "HTMLView",
            "description": "",
            "description_tooltip": null,
            "layout": "IPY_MODEL_e21002b10bcf4b63aacd73fb8c38c14c",
            "placeholder": "​",
            "style": "IPY_MODEL_1590503863ba40bea50a696d53dbb247",
            "value": "100%"
          }
        },
        "bbcf6eec4b62418c80a3d9cf4ecf2f97": {
          "model_module": "@jupyter-widgets/controls",
          "model_name": "FloatProgressModel",
          "model_module_version": "1.5.0",
          "state": {
            "_dom_classes": [],
            "_model_module": "@jupyter-widgets/controls",
            "_model_module_version": "1.5.0",
            "_model_name": "FloatProgressModel",
            "_view_count": null,
            "_view_module": "@jupyter-widgets/controls",
            "_view_module_version": "1.5.0",
            "_view_name": "ProgressView",
            "bar_style": "success",
            "description": "",
            "description_tooltip": null,
            "layout": "IPY_MODEL_7b11125b22754389a6e1ea9fbf5c22e2",
            "max": 169001437,
            "min": 0,
            "orientation": "horizontal",
            "style": "IPY_MODEL_9c518162943a4a29a3921a5989371f7d",
            "value": 169001437
          }
        },
        "461da4b3c519401aad7bf11ed9ba1300": {
          "model_module": "@jupyter-widgets/controls",
          "model_name": "HTMLModel",
          "model_module_version": "1.5.0",
          "state": {
            "_dom_classes": [],
            "_model_module": "@jupyter-widgets/controls",
            "_model_module_version": "1.5.0",
            "_model_name": "HTMLModel",
            "_view_count": null,
            "_view_module": "@jupyter-widgets/controls",
            "_view_module_version": "1.5.0",
            "_view_name": "HTMLView",
            "description": "",
            "description_tooltip": null,
            "layout": "IPY_MODEL_6181f10f121541f3801762792c5be0b9",
            "placeholder": "​",
            "style": "IPY_MODEL_2a2eccb25fd646d09d2bbf76c0e17a5e",
            "value": " 169001437/169001437 [00:02&lt;00:00, 85076024.95it/s]"
          }
        },
        "59933973c58a432f9e06ceea02b6f5ad": {
          "model_module": "@jupyter-widgets/base",
          "model_name": "LayoutModel",
          "model_module_version": "1.2.0",
          "state": {
            "_model_module": "@jupyter-widgets/base",
            "_model_module_version": "1.2.0",
            "_model_name": "LayoutModel",
            "_view_count": null,
            "_view_module": "@jupyter-widgets/base",
            "_view_module_version": "1.2.0",
            "_view_name": "LayoutView",
            "align_content": null,
            "align_items": null,
            "align_self": null,
            "border": null,
            "bottom": null,
            "display": null,
            "flex": null,
            "flex_flow": null,
            "grid_area": null,
            "grid_auto_columns": null,
            "grid_auto_flow": null,
            "grid_auto_rows": null,
            "grid_column": null,
            "grid_gap": null,
            "grid_row": null,
            "grid_template_areas": null,
            "grid_template_columns": null,
            "grid_template_rows": null,
            "height": null,
            "justify_content": null,
            "justify_items": null,
            "left": null,
            "margin": null,
            "max_height": null,
            "max_width": null,
            "min_height": null,
            "min_width": null,
            "object_fit": null,
            "object_position": null,
            "order": null,
            "overflow": null,
            "overflow_x": null,
            "overflow_y": null,
            "padding": null,
            "right": null,
            "top": null,
            "visibility": null,
            "width": null
          }
        },
        "e21002b10bcf4b63aacd73fb8c38c14c": {
          "model_module": "@jupyter-widgets/base",
          "model_name": "LayoutModel",
          "model_module_version": "1.2.0",
          "state": {
            "_model_module": "@jupyter-widgets/base",
            "_model_module_version": "1.2.0",
            "_model_name": "LayoutModel",
            "_view_count": null,
            "_view_module": "@jupyter-widgets/base",
            "_view_module_version": "1.2.0",
            "_view_name": "LayoutView",
            "align_content": null,
            "align_items": null,
            "align_self": null,
            "border": null,
            "bottom": null,
            "display": null,
            "flex": null,
            "flex_flow": null,
            "grid_area": null,
            "grid_auto_columns": null,
            "grid_auto_flow": null,
            "grid_auto_rows": null,
            "grid_column": null,
            "grid_gap": null,
            "grid_row": null,
            "grid_template_areas": null,
            "grid_template_columns": null,
            "grid_template_rows": null,
            "height": null,
            "justify_content": null,
            "justify_items": null,
            "left": null,
            "margin": null,
            "max_height": null,
            "max_width": null,
            "min_height": null,
            "min_width": null,
            "object_fit": null,
            "object_position": null,
            "order": null,
            "overflow": null,
            "overflow_x": null,
            "overflow_y": null,
            "padding": null,
            "right": null,
            "top": null,
            "visibility": null,
            "width": null
          }
        },
        "1590503863ba40bea50a696d53dbb247": {
          "model_module": "@jupyter-widgets/controls",
          "model_name": "DescriptionStyleModel",
          "model_module_version": "1.5.0",
          "state": {
            "_model_module": "@jupyter-widgets/controls",
            "_model_module_version": "1.5.0",
            "_model_name": "DescriptionStyleModel",
            "_view_count": null,
            "_view_module": "@jupyter-widgets/base",
            "_view_module_version": "1.2.0",
            "_view_name": "StyleView",
            "description_width": ""
          }
        },
        "7b11125b22754389a6e1ea9fbf5c22e2": {
          "model_module": "@jupyter-widgets/base",
          "model_name": "LayoutModel",
          "model_module_version": "1.2.0",
          "state": {
            "_model_module": "@jupyter-widgets/base",
            "_model_module_version": "1.2.0",
            "_model_name": "LayoutModel",
            "_view_count": null,
            "_view_module": "@jupyter-widgets/base",
            "_view_module_version": "1.2.0",
            "_view_name": "LayoutView",
            "align_content": null,
            "align_items": null,
            "align_self": null,
            "border": null,
            "bottom": null,
            "display": null,
            "flex": null,
            "flex_flow": null,
            "grid_area": null,
            "grid_auto_columns": null,
            "grid_auto_flow": null,
            "grid_auto_rows": null,
            "grid_column": null,
            "grid_gap": null,
            "grid_row": null,
            "grid_template_areas": null,
            "grid_template_columns": null,
            "grid_template_rows": null,
            "height": null,
            "justify_content": null,
            "justify_items": null,
            "left": null,
            "margin": null,
            "max_height": null,
            "max_width": null,
            "min_height": null,
            "min_width": null,
            "object_fit": null,
            "object_position": null,
            "order": null,
            "overflow": null,
            "overflow_x": null,
            "overflow_y": null,
            "padding": null,
            "right": null,
            "top": null,
            "visibility": null,
            "width": null
          }
        },
        "9c518162943a4a29a3921a5989371f7d": {
          "model_module": "@jupyter-widgets/controls",
          "model_name": "ProgressStyleModel",
          "model_module_version": "1.5.0",
          "state": {
            "_model_module": "@jupyter-widgets/controls",
            "_model_module_version": "1.5.0",
            "_model_name": "ProgressStyleModel",
            "_view_count": null,
            "_view_module": "@jupyter-widgets/base",
            "_view_module_version": "1.2.0",
            "_view_name": "StyleView",
            "bar_color": null,
            "description_width": ""
          }
        },
        "6181f10f121541f3801762792c5be0b9": {
          "model_module": "@jupyter-widgets/base",
          "model_name": "LayoutModel",
          "model_module_version": "1.2.0",
          "state": {
            "_model_module": "@jupyter-widgets/base",
            "_model_module_version": "1.2.0",
            "_model_name": "LayoutModel",
            "_view_count": null,
            "_view_module": "@jupyter-widgets/base",
            "_view_module_version": "1.2.0",
            "_view_name": "LayoutView",
            "align_content": null,
            "align_items": null,
            "align_self": null,
            "border": null,
            "bottom": null,
            "display": null,
            "flex": null,
            "flex_flow": null,
            "grid_area": null,
            "grid_auto_columns": null,
            "grid_auto_flow": null,
            "grid_auto_rows": null,
            "grid_column": null,
            "grid_gap": null,
            "grid_row": null,
            "grid_template_areas": null,
            "grid_template_columns": null,
            "grid_template_rows": null,
            "height": null,
            "justify_content": null,
            "justify_items": null,
            "left": null,
            "margin": null,
            "max_height": null,
            "max_width": null,
            "min_height": null,
            "min_width": null,
            "object_fit": null,
            "object_position": null,
            "order": null,
            "overflow": null,
            "overflow_x": null,
            "overflow_y": null,
            "padding": null,
            "right": null,
            "top": null,
            "visibility": null,
            "width": null
          }
        },
        "2a2eccb25fd646d09d2bbf76c0e17a5e": {
          "model_module": "@jupyter-widgets/controls",
          "model_name": "DescriptionStyleModel",
          "model_module_version": "1.5.0",
          "state": {
            "_model_module": "@jupyter-widgets/controls",
            "_model_module_version": "1.5.0",
            "_model_name": "DescriptionStyleModel",
            "_view_count": null,
            "_view_module": "@jupyter-widgets/base",
            "_view_module_version": "1.2.0",
            "_view_name": "StyleView",
            "description_width": ""
          }
        }
      }
    }
  },
  "nbformat": 4,
  "nbformat_minor": 0
}